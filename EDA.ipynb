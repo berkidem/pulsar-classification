{
 "cells": [
  {
   "cell_type": "code",
   "execution_count": 18,
   "metadata": {},
   "outputs": [],
   "source": [
    "import pandas as pd\n",
    "from sklearn.model_selection import train_test_split\n",
    "from sklearn.ensemble import RandomForestClassifier\n",
    "from sklearn.metrics import log_loss"
   ]
  },
  {
   "cell_type": "code",
   "execution_count": 8,
   "metadata": {},
   "outputs": [],
   "source": [
    "# read the data from /input/train.csv\n",
    "data = pd.read_csv(\"train.csv\")"
   ]
  },
  {
   "cell_type": "code",
   "execution_count": 11,
   "metadata": {},
   "outputs": [
    {
     "data": {
      "text/html": [
       "<div>\n",
       "<style scoped>\n",
       "    .dataframe tbody tr th:only-of-type {\n",
       "        vertical-align: middle;\n",
       "    }\n",
       "\n",
       "    .dataframe tbody tr th {\n",
       "        vertical-align: top;\n",
       "    }\n",
       "\n",
       "    .dataframe thead th {\n",
       "        text-align: right;\n",
       "    }\n",
       "</style>\n",
       "<table border=\"1\" class=\"dataframe\">\n",
       "  <thead>\n",
       "    <tr style=\"text-align: right;\">\n",
       "      <th></th>\n",
       "      <th>id</th>\n",
       "      <th>Mean_Integrated</th>\n",
       "      <th>SD</th>\n",
       "      <th>EK</th>\n",
       "      <th>Skewness</th>\n",
       "      <th>Mean_DMSNR_Curve</th>\n",
       "      <th>SD_DMSNR_Curve</th>\n",
       "      <th>EK_DMSNR_Curve</th>\n",
       "      <th>Skewness_DMSNR_Curve</th>\n",
       "      <th>Class</th>\n",
       "    </tr>\n",
       "  </thead>\n",
       "  <tbody>\n",
       "    <tr>\n",
       "      <th>0</th>\n",
       "      <td>0</td>\n",
       "      <td>133.171875</td>\n",
       "      <td>59.716081</td>\n",
       "      <td>0.043133</td>\n",
       "      <td>-0.703383</td>\n",
       "      <td>54.917224</td>\n",
       "      <td>70.084438</td>\n",
       "      <td>0.749798</td>\n",
       "      <td>-0.649512</td>\n",
       "      <td>0</td>\n",
       "    </tr>\n",
       "    <tr>\n",
       "      <th>1</th>\n",
       "      <td>1</td>\n",
       "      <td>87.093750</td>\n",
       "      <td>36.257973</td>\n",
       "      <td>0.435469</td>\n",
       "      <td>2.266057</td>\n",
       "      <td>3.417224</td>\n",
       "      <td>21.865069</td>\n",
       "      <td>7.039330</td>\n",
       "      <td>52.686251</td>\n",
       "      <td>0</td>\n",
       "    </tr>\n",
       "    <tr>\n",
       "      <th>2</th>\n",
       "      <td>2</td>\n",
       "      <td>112.640625</td>\n",
       "      <td>39.818393</td>\n",
       "      <td>0.379639</td>\n",
       "      <td>0.922306</td>\n",
       "      <td>2.730769</td>\n",
       "      <td>15.689690</td>\n",
       "      <td>8.193471</td>\n",
       "      <td>85.649785</td>\n",
       "      <td>0</td>\n",
       "    </tr>\n",
       "    <tr>\n",
       "      <th>3</th>\n",
       "      <td>3</td>\n",
       "      <td>120.679688</td>\n",
       "      <td>45.918448</td>\n",
       "      <td>-0.098490</td>\n",
       "      <td>0.011775</td>\n",
       "      <td>2.696488</td>\n",
       "      <td>20.954662</td>\n",
       "      <td>8.183874</td>\n",
       "      <td>70.332899</td>\n",
       "      <td>0</td>\n",
       "    </tr>\n",
       "    <tr>\n",
       "      <th>4</th>\n",
       "      <td>4</td>\n",
       "      <td>134.070312</td>\n",
       "      <td>57.720107</td>\n",
       "      <td>-0.107772</td>\n",
       "      <td>-0.573335</td>\n",
       "      <td>1.107860</td>\n",
       "      <td>11.255051</td>\n",
       "      <td>16.107748</td>\n",
       "      <td>308.753765</td>\n",
       "      <td>0</td>\n",
       "    </tr>\n",
       "    <tr>\n",
       "      <th>5</th>\n",
       "      <td>5</td>\n",
       "      <td>131.632812</td>\n",
       "      <td>52.563210</td>\n",
       "      <td>-0.075253</td>\n",
       "      <td>-0.495825</td>\n",
       "      <td>2.194816</td>\n",
       "      <td>15.537425</td>\n",
       "      <td>9.033439</td>\n",
       "      <td>97.032406</td>\n",
       "      <td>0</td>\n",
       "    </tr>\n",
       "    <tr>\n",
       "      <th>6</th>\n",
       "      <td>6</td>\n",
       "      <td>110.937500</td>\n",
       "      <td>41.556955</td>\n",
       "      <td>0.312844</td>\n",
       "      <td>0.559022</td>\n",
       "      <td>1.965719</td>\n",
       "      <td>17.191469</td>\n",
       "      <td>10.396774</td>\n",
       "      <td>118.724270</td>\n",
       "      <td>0</td>\n",
       "    </tr>\n",
       "    <tr>\n",
       "      <th>7</th>\n",
       "      <td>7</td>\n",
       "      <td>120.203125</td>\n",
       "      <td>49.927902</td>\n",
       "      <td>-0.089990</td>\n",
       "      <td>-0.321367</td>\n",
       "      <td>3.280100</td>\n",
       "      <td>18.376840</td>\n",
       "      <td>8.190561</td>\n",
       "      <td>77.917237</td>\n",
       "      <td>0</td>\n",
       "    </tr>\n",
       "    <tr>\n",
       "      <th>8</th>\n",
       "      <td>8</td>\n",
       "      <td>112.414062</td>\n",
       "      <td>46.939866</td>\n",
       "      <td>0.282551</td>\n",
       "      <td>0.151784</td>\n",
       "      <td>3.336957</td>\n",
       "      <td>21.929529</td>\n",
       "      <td>7.693330</td>\n",
       "      <td>65.186279</td>\n",
       "      <td>0</td>\n",
       "    </tr>\n",
       "    <tr>\n",
       "      <th>9</th>\n",
       "      <td>9</td>\n",
       "      <td>99.859375</td>\n",
       "      <td>48.089189</td>\n",
       "      <td>0.693710</td>\n",
       "      <td>0.281663</td>\n",
       "      <td>3.414716</td>\n",
       "      <td>24.181910</td>\n",
       "      <td>7.958684</td>\n",
       "      <td>65.084575</td>\n",
       "      <td>0</td>\n",
       "    </tr>\n",
       "    <tr>\n",
       "      <th>10</th>\n",
       "      <td>10</td>\n",
       "      <td>129.921875</td>\n",
       "      <td>48.569221</td>\n",
       "      <td>0.038454</td>\n",
       "      <td>-0.133483</td>\n",
       "      <td>2.816054</td>\n",
       "      <td>16.897390</td>\n",
       "      <td>8.611358</td>\n",
       "      <td>87.824954</td>\n",
       "      <td>0</td>\n",
       "    </tr>\n",
       "    <tr>\n",
       "      <th>11</th>\n",
       "      <td>11</td>\n",
       "      <td>111.062500</td>\n",
       "      <td>53.882241</td>\n",
       "      <td>0.827146</td>\n",
       "      <td>-0.288818</td>\n",
       "      <td>141.860368</td>\n",
       "      <td>85.666894</td>\n",
       "      <td>-0.896056</td>\n",
       "      <td>-0.918212</td>\n",
       "      <td>0</td>\n",
       "    </tr>\n",
       "    <tr>\n",
       "      <th>12</th>\n",
       "      <td>12</td>\n",
       "      <td>120.914062</td>\n",
       "      <td>53.381993</td>\n",
       "      <td>0.100468</td>\n",
       "      <td>-0.580517</td>\n",
       "      <td>2.119565</td>\n",
       "      <td>14.453210</td>\n",
       "      <td>10.082572</td>\n",
       "      <td>123.999497</td>\n",
       "      <td>0</td>\n",
       "    </tr>\n",
       "    <tr>\n",
       "      <th>13</th>\n",
       "      <td>13</td>\n",
       "      <td>140.171875</td>\n",
       "      <td>45.744472</td>\n",
       "      <td>-0.109776</td>\n",
       "      <td>0.232397</td>\n",
       "      <td>2.734114</td>\n",
       "      <td>16.939206</td>\n",
       "      <td>8.557774</td>\n",
       "      <td>89.511800</td>\n",
       "      <td>0</td>\n",
       "    </tr>\n",
       "    <tr>\n",
       "      <th>14</th>\n",
       "      <td>14</td>\n",
       "      <td>115.515625</td>\n",
       "      <td>53.852147</td>\n",
       "      <td>0.036627</td>\n",
       "      <td>-0.233436</td>\n",
       "      <td>3.298495</td>\n",
       "      <td>18.330768</td>\n",
       "      <td>7.526879</td>\n",
       "      <td>65.003449</td>\n",
       "      <td>0</td>\n",
       "    </tr>\n",
       "    <tr>\n",
       "      <th>15</th>\n",
       "      <td>15</td>\n",
       "      <td>63.476562</td>\n",
       "      <td>31.715708</td>\n",
       "      <td>3.335721</td>\n",
       "      <td>13.586952</td>\n",
       "      <td>15.754181</td>\n",
       "      <td>46.037360</td>\n",
       "      <td>3.204774</td>\n",
       "      <td>9.544324</td>\n",
       "      <td>1</td>\n",
       "    </tr>\n",
       "    <tr>\n",
       "      <th>16</th>\n",
       "      <td>16</td>\n",
       "      <td>113.046875</td>\n",
       "      <td>40.943249</td>\n",
       "      <td>0.058747</td>\n",
       "      <td>1.372935</td>\n",
       "      <td>4.937291</td>\n",
       "      <td>26.797537</td>\n",
       "      <td>6.191148</td>\n",
       "      <td>39.958361</td>\n",
       "      <td>0</td>\n",
       "    </tr>\n",
       "    <tr>\n",
       "      <th>17</th>\n",
       "      <td>17</td>\n",
       "      <td>100.757812</td>\n",
       "      <td>44.893346</td>\n",
       "      <td>0.381744</td>\n",
       "      <td>0.577109</td>\n",
       "      <td>1.981605</td>\n",
       "      <td>15.462780</td>\n",
       "      <td>10.403364</td>\n",
       "      <td>124.790946</td>\n",
       "      <td>0</td>\n",
       "    </tr>\n",
       "    <tr>\n",
       "      <th>18</th>\n",
       "      <td>18</td>\n",
       "      <td>113.945312</td>\n",
       "      <td>46.592508</td>\n",
       "      <td>0.274749</td>\n",
       "      <td>0.262376</td>\n",
       "      <td>2.943144</td>\n",
       "      <td>19.873107</td>\n",
       "      <td>7.978441</td>\n",
       "      <td>70.090712</td>\n",
       "      <td>0</td>\n",
       "    </tr>\n",
       "    <tr>\n",
       "      <th>19</th>\n",
       "      <td>19</td>\n",
       "      <td>98.039062</td>\n",
       "      <td>51.776542</td>\n",
       "      <td>0.379639</td>\n",
       "      <td>0.141725</td>\n",
       "      <td>2.563545</td>\n",
       "      <td>14.814492</td>\n",
       "      <td>9.079411</td>\n",
       "      <td>108.732204</td>\n",
       "      <td>0</td>\n",
       "    </tr>\n",
       "  </tbody>\n",
       "</table>\n",
       "</div>"
      ],
      "text/plain": [
       "    id  Mean_Integrated         SD        EK   Skewness  Mean_DMSNR_Curve  \\\n",
       "0    0       133.171875  59.716081  0.043133  -0.703383         54.917224   \n",
       "1    1        87.093750  36.257973  0.435469   2.266057          3.417224   \n",
       "2    2       112.640625  39.818393  0.379639   0.922306          2.730769   \n",
       "3    3       120.679688  45.918448 -0.098490   0.011775          2.696488   \n",
       "4    4       134.070312  57.720107 -0.107772  -0.573335          1.107860   \n",
       "5    5       131.632812  52.563210 -0.075253  -0.495825          2.194816   \n",
       "6    6       110.937500  41.556955  0.312844   0.559022          1.965719   \n",
       "7    7       120.203125  49.927902 -0.089990  -0.321367          3.280100   \n",
       "8    8       112.414062  46.939866  0.282551   0.151784          3.336957   \n",
       "9    9        99.859375  48.089189  0.693710   0.281663          3.414716   \n",
       "10  10       129.921875  48.569221  0.038454  -0.133483          2.816054   \n",
       "11  11       111.062500  53.882241  0.827146  -0.288818        141.860368   \n",
       "12  12       120.914062  53.381993  0.100468  -0.580517          2.119565   \n",
       "13  13       140.171875  45.744472 -0.109776   0.232397          2.734114   \n",
       "14  14       115.515625  53.852147  0.036627  -0.233436          3.298495   \n",
       "15  15        63.476562  31.715708  3.335721  13.586952         15.754181   \n",
       "16  16       113.046875  40.943249  0.058747   1.372935          4.937291   \n",
       "17  17       100.757812  44.893346  0.381744   0.577109          1.981605   \n",
       "18  18       113.945312  46.592508  0.274749   0.262376          2.943144   \n",
       "19  19        98.039062  51.776542  0.379639   0.141725          2.563545   \n",
       "\n",
       "    SD_DMSNR_Curve  EK_DMSNR_Curve  Skewness_DMSNR_Curve  Class  \n",
       "0        70.084438        0.749798             -0.649512      0  \n",
       "1        21.865069        7.039330             52.686251      0  \n",
       "2        15.689690        8.193471             85.649785      0  \n",
       "3        20.954662        8.183874             70.332899      0  \n",
       "4        11.255051       16.107748            308.753765      0  \n",
       "5        15.537425        9.033439             97.032406      0  \n",
       "6        17.191469       10.396774            118.724270      0  \n",
       "7        18.376840        8.190561             77.917237      0  \n",
       "8        21.929529        7.693330             65.186279      0  \n",
       "9        24.181910        7.958684             65.084575      0  \n",
       "10       16.897390        8.611358             87.824954      0  \n",
       "11       85.666894       -0.896056             -0.918212      0  \n",
       "12       14.453210       10.082572            123.999497      0  \n",
       "13       16.939206        8.557774             89.511800      0  \n",
       "14       18.330768        7.526879             65.003449      0  \n",
       "15       46.037360        3.204774              9.544324      1  \n",
       "16       26.797537        6.191148             39.958361      0  \n",
       "17       15.462780       10.403364            124.790946      0  \n",
       "18       19.873107        7.978441             70.090712      0  \n",
       "19       14.814492        9.079411            108.732204      0  "
      ]
     },
     "execution_count": 11,
     "metadata": {},
     "output_type": "execute_result"
    }
   ],
   "source": [
    "data.head(20)"
   ]
  },
  {
   "cell_type": "code",
   "execution_count": 12,
   "metadata": {},
   "outputs": [
    {
     "data": {
      "text/html": [
       "<div>\n",
       "<style scoped>\n",
       "    .dataframe tbody tr th:only-of-type {\n",
       "        vertical-align: middle;\n",
       "    }\n",
       "\n",
       "    .dataframe tbody tr th {\n",
       "        vertical-align: top;\n",
       "    }\n",
       "\n",
       "    .dataframe thead th {\n",
       "        text-align: right;\n",
       "    }\n",
       "</style>\n",
       "<table border=\"1\" class=\"dataframe\">\n",
       "  <thead>\n",
       "    <tr style=\"text-align: right;\">\n",
       "      <th></th>\n",
       "      <th>id</th>\n",
       "      <th>Mean_Integrated</th>\n",
       "      <th>SD</th>\n",
       "      <th>EK</th>\n",
       "      <th>Skewness</th>\n",
       "      <th>Mean_DMSNR_Curve</th>\n",
       "      <th>SD_DMSNR_Curve</th>\n",
       "      <th>EK_DMSNR_Curve</th>\n",
       "      <th>Skewness_DMSNR_Curve</th>\n",
       "      <th>Class</th>\n",
       "    </tr>\n",
       "  </thead>\n",
       "  <tbody>\n",
       "    <tr>\n",
       "      <th>count</th>\n",
       "      <td>117564.000000</td>\n",
       "      <td>117564.000000</td>\n",
       "      <td>117564.000000</td>\n",
       "      <td>117564.000000</td>\n",
       "      <td>117564.000000</td>\n",
       "      <td>117564.000000</td>\n",
       "      <td>117564.000000</td>\n",
       "      <td>117564.000000</td>\n",
       "      <td>117564.000000</td>\n",
       "      <td>117564.000000</td>\n",
       "    </tr>\n",
       "    <tr>\n",
       "      <th>mean</th>\n",
       "      <td>58781.500000</td>\n",
       "      <td>111.248300</td>\n",
       "      <td>46.713535</td>\n",
       "      <td>0.503498</td>\n",
       "      <td>1.886385</td>\n",
       "      <td>11.962921</td>\n",
       "      <td>26.190678</td>\n",
       "      <td>8.037488</td>\n",
       "      <td>93.881076</td>\n",
       "      <td>0.093285</td>\n",
       "    </tr>\n",
       "    <tr>\n",
       "      <th>std</th>\n",
       "      <td>33937.947861</td>\n",
       "      <td>24.906474</td>\n",
       "      <td>6.102941</td>\n",
       "      <td>1.127093</td>\n",
       "      <td>6.515466</td>\n",
       "      <td>26.719946</td>\n",
       "      <td>20.041937</td>\n",
       "      <td>3.840980</td>\n",
       "      <td>79.962110</td>\n",
       "      <td>0.290833</td>\n",
       "    </tr>\n",
       "    <tr>\n",
       "      <th>min</th>\n",
       "      <td>0.000000</td>\n",
       "      <td>6.054688</td>\n",
       "      <td>24.783273</td>\n",
       "      <td>-1.730782</td>\n",
       "      <td>-1.791886</td>\n",
       "      <td>0.213211</td>\n",
       "      <td>7.370432</td>\n",
       "      <td>-2.597872</td>\n",
       "      <td>-1.976976</td>\n",
       "      <td>0.000000</td>\n",
       "    </tr>\n",
       "    <tr>\n",
       "      <th>25%</th>\n",
       "      <td>29390.750000</td>\n",
       "      <td>104.546875</td>\n",
       "      <td>43.443390</td>\n",
       "      <td>0.049761</td>\n",
       "      <td>-0.188956</td>\n",
       "      <td>2.090301</td>\n",
       "      <td>14.955405</td>\n",
       "      <td>6.742911</td>\n",
       "      <td>49.409136</td>\n",
       "      <td>0.000000</td>\n",
       "    </tr>\n",
       "    <tr>\n",
       "      <th>50%</th>\n",
       "      <td>58781.500000</td>\n",
       "      <td>116.664062</td>\n",
       "      <td>47.478932</td>\n",
       "      <td>0.186498</td>\n",
       "      <td>0.091720</td>\n",
       "      <td>2.808528</td>\n",
       "      <td>18.164924</td>\n",
       "      <td>8.442883</td>\n",
       "      <td>83.421375</td>\n",
       "      <td>0.000000</td>\n",
       "    </tr>\n",
       "    <tr>\n",
       "      <th>75%</th>\n",
       "      <td>88172.250000</td>\n",
       "      <td>126.296875</td>\n",
       "      <td>50.862718</td>\n",
       "      <td>0.395620</td>\n",
       "      <td>0.691613</td>\n",
       "      <td>4.122910</td>\n",
       "      <td>24.732218</td>\n",
       "      <td>10.003237</td>\n",
       "      <td>122.093290</td>\n",
       "      <td>0.000000</td>\n",
       "    </tr>\n",
       "    <tr>\n",
       "      <th>max</th>\n",
       "      <td>117563.000000</td>\n",
       "      <td>189.367188</td>\n",
       "      <td>93.602933</td>\n",
       "      <td>7.879628</td>\n",
       "      <td>65.385974</td>\n",
       "      <td>217.371238</td>\n",
       "      <td>109.890785</td>\n",
       "      <td>34.539844</td>\n",
       "      <td>1191.000837</td>\n",
       "      <td>1.000000</td>\n",
       "    </tr>\n",
       "  </tbody>\n",
       "</table>\n",
       "</div>"
      ],
      "text/plain": [
       "                  id  Mean_Integrated             SD             EK  \\\n",
       "count  117564.000000    117564.000000  117564.000000  117564.000000   \n",
       "mean    58781.500000       111.248300      46.713535       0.503498   \n",
       "std     33937.947861        24.906474       6.102941       1.127093   \n",
       "min         0.000000         6.054688      24.783273      -1.730782   \n",
       "25%     29390.750000       104.546875      43.443390       0.049761   \n",
       "50%     58781.500000       116.664062      47.478932       0.186498   \n",
       "75%     88172.250000       126.296875      50.862718       0.395620   \n",
       "max    117563.000000       189.367188      93.602933       7.879628   \n",
       "\n",
       "            Skewness  Mean_DMSNR_Curve  SD_DMSNR_Curve  EK_DMSNR_Curve  \\\n",
       "count  117564.000000     117564.000000   117564.000000   117564.000000   \n",
       "mean        1.886385         11.962921       26.190678        8.037488   \n",
       "std         6.515466         26.719946       20.041937        3.840980   \n",
       "min        -1.791886          0.213211        7.370432       -2.597872   \n",
       "25%        -0.188956          2.090301       14.955405        6.742911   \n",
       "50%         0.091720          2.808528       18.164924        8.442883   \n",
       "75%         0.691613          4.122910       24.732218       10.003237   \n",
       "max        65.385974        217.371238      109.890785       34.539844   \n",
       "\n",
       "       Skewness_DMSNR_Curve          Class  \n",
       "count         117564.000000  117564.000000  \n",
       "mean              93.881076       0.093285  \n",
       "std               79.962110       0.290833  \n",
       "min               -1.976976       0.000000  \n",
       "25%               49.409136       0.000000  \n",
       "50%               83.421375       0.000000  \n",
       "75%              122.093290       0.000000  \n",
       "max             1191.000837       1.000000  "
      ]
     },
     "execution_count": 12,
     "metadata": {},
     "output_type": "execute_result"
    }
   ],
   "source": [
    "data.describe()"
   ]
  },
  {
   "cell_type": "code",
   "execution_count": 163,
   "metadata": {},
   "outputs": [],
   "source": [
    "X = data.drop(['Class', 'id'], axis=1)\n",
    "y = data['Class']\n",
    "\n",
    "# split the data\n",
    "X_train, X_test, y_train, y_test = train_test_split(X, y, test_size=0.20, random_state=42)"
   ]
  },
  {
   "cell_type": "code",
   "execution_count": 184,
   "metadata": {},
   "outputs": [],
   "source": [
    "from sklearn.preprocessing import StandardScaler\n",
    "\n",
    "ss_train = StandardScaler()\n",
    "X_train = ss_train.fit_transform(X_train)\n",
    "\n",
    "ss_test = StandardScaler()\n",
    "X_test = ss_test.fit_transform(X_test)\n",
    "\n",
    "X = ss_train.fit_transform(X)"
   ]
  },
  {
   "cell_type": "code",
   "execution_count": null,
   "metadata": {},
   "outputs": [],
   "source": []
  },
  {
   "cell_type": "code",
   "execution_count": null,
   "metadata": {},
   "outputs": [],
   "source": []
  },
  {
   "cell_type": "code",
   "execution_count": null,
   "metadata": {},
   "outputs": [],
   "source": []
  },
  {
   "cell_type": "code",
   "execution_count": 165,
   "metadata": {},
   "outputs": [],
   "source": [
    "model = RandomForestClassifier(n_estimators=128, max_depth=3, random_state=42)"
   ]
  },
  {
   "cell_type": "code",
   "execution_count": 166,
   "metadata": {},
   "outputs": [
    {
     "data": {
      "text/plain": [
       "RandomForestClassifier(max_depth=3, n_estimators=128, random_state=42)"
      ]
     },
     "execution_count": 166,
     "metadata": {},
     "output_type": "execute_result"
    }
   ],
   "source": [
    "# fit the model\n",
    "model.fit(X_train, y_train)"
   ]
  },
  {
   "cell_type": "code",
   "execution_count": 167,
   "metadata": {},
   "outputs": [],
   "source": [
    "test_probs = model.predict_proba(X_test)"
   ]
  },
  {
   "cell_type": "code",
   "execution_count": 168,
   "metadata": {},
   "outputs": [],
   "source": [
    "test_loss = log_loss(y_test, test_probs)"
   ]
  },
  {
   "cell_type": "code",
   "execution_count": 169,
   "metadata": {},
   "outputs": [
    {
     "data": {
      "text/plain": [
       "0.04115376328504106"
      ]
     },
     "execution_count": 169,
     "metadata": {},
     "output_type": "execute_result"
    }
   ],
   "source": [
    "test_loss"
   ]
  },
  {
   "cell_type": "code",
   "execution_count": 170,
   "metadata": {},
   "outputs": [],
   "source": [
    "train_loss = log_loss(y_train, model.predict_proba(X_train))"
   ]
  },
  {
   "cell_type": "code",
   "execution_count": 171,
   "metadata": {},
   "outputs": [
    {
     "data": {
      "text/plain": [
       "0.0401390264662757"
      ]
     },
     "execution_count": 171,
     "metadata": {},
     "output_type": "execute_result"
    }
   ],
   "source": [
    "train_loss"
   ]
  },
  {
   "cell_type": "code",
   "execution_count": 69,
   "metadata": {},
   "outputs": [],
   "source": [
    "models = {}\n",
    "\n",
    "\n",
    "# Logistic Regression\n",
    "from sklearn.linear_model import LogisticRegression\n",
    "models['Logistic Regression'] = LogisticRegression()\n",
    "\n",
    "# Decision Trees\n",
    "from sklearn.tree import DecisionTreeClassifier\n",
    "models['Decision Trees'] = DecisionTreeClassifier()\n",
    "\n",
    "# Random Forest\n",
    "from sklearn.ensemble import RandomForestClassifier\n",
    "models['Random Forest'] = RandomForestClassifier()\n",
    "\n",
    "# Naive Bayes\n",
    "from sklearn.naive_bayes import GaussianNB\n",
    "models['Naive Bayes'] = GaussianNB()\n",
    "\n",
    "# K-Nearest Neighbors\n",
    "from sklearn.neighbors import KNeighborsClassifier\n",
    "models['K-Nearest Neighbor'] = KNeighborsClassifier()"
   ]
  },
  {
   "cell_type": "code",
   "execution_count": 70,
   "metadata": {},
   "outputs": [],
   "source": [
    "from sklearn.metrics import accuracy_score, precision_score, recall_score, log_loss\n",
    "\n",
    "accuracy, precision, recall, logloss = {}, {}, {}, {}\n",
    "\n",
    "for key in models.keys():\n",
    "    \n",
    "    # Fit the classifier\n",
    "    models[key].fit(X_train, y_train)\n",
    "    \n",
    "    # Make predictions\n",
    "    predictions = models[key].predict(X_test)\n",
    "    \n",
    "    # Calculate metrics\n",
    "    accuracy[key] = accuracy_score(predictions, y_test)\n",
    "    precision[key] = precision_score(predictions, y_test)\n",
    "    recall[key] = recall_score(predictions, y_test)\n",
    "    logloss[key] = log_loss(y_test, models[key].predict_proba(X_test))"
   ]
  },
  {
   "cell_type": "code",
   "execution_count": 73,
   "metadata": {},
   "outputs": [
    {
     "data": {
      "text/html": [
       "<div>\n",
       "<style scoped>\n",
       "    .dataframe tbody tr th:only-of-type {\n",
       "        vertical-align: middle;\n",
       "    }\n",
       "\n",
       "    .dataframe tbody tr th {\n",
       "        vertical-align: top;\n",
       "    }\n",
       "\n",
       "    .dataframe thead th {\n",
       "        text-align: right;\n",
       "    }\n",
       "</style>\n",
       "<table border=\"1\" class=\"dataframe\">\n",
       "  <thead>\n",
       "    <tr style=\"text-align: right;\">\n",
       "      <th></th>\n",
       "      <th>Accuracy</th>\n",
       "      <th>Precision</th>\n",
       "      <th>Recall</th>\n",
       "      <th>Log Loss</th>\n",
       "    </tr>\n",
       "  </thead>\n",
       "  <tbody>\n",
       "    <tr>\n",
       "      <th>Logistic Regression</th>\n",
       "      <td>0.989538</td>\n",
       "      <td>0.915262</td>\n",
       "      <td>0.971000</td>\n",
       "      <td>0.039385</td>\n",
       "    </tr>\n",
       "    <tr>\n",
       "      <th>Decision Trees</th>\n",
       "      <td>0.983498</td>\n",
       "      <td>0.908884</td>\n",
       "      <td>0.913880</td>\n",
       "      <td>0.569942</td>\n",
       "    </tr>\n",
       "    <tr>\n",
       "      <th>Random Forest</th>\n",
       "      <td>0.990516</td>\n",
       "      <td>0.926651</td>\n",
       "      <td>0.970420</td>\n",
       "      <td>0.082107</td>\n",
       "    </tr>\n",
       "    <tr>\n",
       "      <th>Naive Bayes</th>\n",
       "      <td>0.962361</td>\n",
       "      <td>0.933485</td>\n",
       "      <td>0.734935</td>\n",
       "      <td>0.319941</td>\n",
       "    </tr>\n",
       "    <tr>\n",
       "      <th>K-Nearest Neighbor</th>\n",
       "      <td>0.989623</td>\n",
       "      <td>0.918907</td>\n",
       "      <td>0.968315</td>\n",
       "      <td>0.204199</td>\n",
       "    </tr>\n",
       "  </tbody>\n",
       "</table>\n",
       "</div>"
      ],
      "text/plain": [
       "                     Accuracy  Precision    Recall  Log Loss\n",
       "Logistic Regression  0.989538   0.915262  0.971000  0.039385\n",
       "Decision Trees       0.983498   0.908884  0.913880  0.569942\n",
       "Random Forest        0.990516   0.926651  0.970420  0.082107\n",
       "Naive Bayes          0.962361   0.933485  0.734935  0.319941\n",
       "K-Nearest Neighbor   0.989623   0.918907  0.968315  0.204199"
      ]
     },
     "execution_count": 73,
     "metadata": {},
     "output_type": "execute_result"
    }
   ],
   "source": [
    "df_model = pd.DataFrame(index=models.keys(), columns=['Accuracy', 'Precision', 'Recall', 'Log Loss'])\n",
    "df_model['Accuracy'] = accuracy.values()\n",
    "df_model['Precision'] = precision.values()\n",
    "df_model['Recall'] = recall.values()\n",
    "df_model['Log Loss'] = logloss.values()\n",
    "\n",
    "df_model"
   ]
  },
  {
   "attachments": {},
   "cell_type": "markdown",
   "metadata": {},
   "source": [
    "## XGBoost"
   ]
  },
  {
   "cell_type": "code",
   "execution_count": 75,
   "metadata": {},
   "outputs": [],
   "source": [
    "import xgboost as xgb"
   ]
  },
  {
   "cell_type": "code",
   "execution_count": 172,
   "metadata": {},
   "outputs": [],
   "source": [
    "model = xgb.XGBClassifier(n_estimators=1024, max_depth=3, learning_rate=0.02, random_state=42)"
   ]
  },
  {
   "cell_type": "code",
   "execution_count": 173,
   "metadata": {},
   "outputs": [
    {
     "data": {
      "text/plain": [
       "XGBClassifier(base_score=0.5, booster='gbtree', callbacks=None,\n",
       "              colsample_bylevel=1, colsample_bynode=1, colsample_bytree=1,\n",
       "              early_stopping_rounds=None, enable_categorical=False,\n",
       "              eval_metric=None, gamma=0, gpu_id=-1, grow_policy='depthwise',\n",
       "              importance_type=None, interaction_constraints='',\n",
       "              learning_rate=0.02, max_bin=256, max_cat_to_onehot=4,\n",
       "              max_delta_step=0, max_depth=3, max_leaves=0, min_child_weight=1,\n",
       "              missing=nan, monotone_constraints='()', n_estimators=1024,\n",
       "              n_jobs=0, num_parallel_tree=1, predictor='auto', random_state=42,\n",
       "              reg_alpha=0, reg_lambda=1, ...)"
      ]
     },
     "execution_count": 173,
     "metadata": {},
     "output_type": "execute_result"
    }
   ],
   "source": [
    "# fit the model\n",
    "model.fit(X_train, y_train)"
   ]
  },
  {
   "cell_type": "code",
   "execution_count": 174,
   "metadata": {},
   "outputs": [
    {
     "data": {
      "text/plain": [
       "0.03327405758795012"
      ]
     },
     "execution_count": 174,
     "metadata": {},
     "output_type": "execute_result"
    }
   ],
   "source": [
    "# make predictions\n",
    "test_probs = model.predict_proba(X_test)\n",
    "\n",
    "# calculate log loss\n",
    "test_loss = log_loss(y_test, test_probs)\n",
    "test_loss"
   ]
  },
  {
   "cell_type": "code",
   "execution_count": 175,
   "metadata": {},
   "outputs": [],
   "source": [
    "preds = test_probs[:, 1]"
   ]
  },
  {
   "cell_type": "code",
   "execution_count": 176,
   "metadata": {},
   "outputs": [
    {
     "data": {
      "text/plain": [
       "0.026254011978710447"
      ]
     },
     "execution_count": 176,
     "metadata": {},
     "output_type": "execute_result"
    }
   ],
   "source": [
    "# make training predictions\n",
    "train_probs = model.predict_proba(X_train)\n",
    "\n",
    "# calculate log loss\n",
    "train_loss = log_loss(y_train, train_probs)\n",
    "train_loss"
   ]
  },
  {
   "cell_type": "code",
   "execution_count": 89,
   "metadata": {},
   "outputs": [],
   "source": [
    "# read the data from sample_submission.csv\n",
    "submission = pd.read_csv(\"sample_submission.csv\")"
   ]
  },
  {
   "cell_type": "code",
   "execution_count": 90,
   "metadata": {},
   "outputs": [
    {
     "data": {
      "text/html": [
       "<div>\n",
       "<style scoped>\n",
       "    .dataframe tbody tr th:only-of-type {\n",
       "        vertical-align: middle;\n",
       "    }\n",
       "\n",
       "    .dataframe tbody tr th {\n",
       "        vertical-align: top;\n",
       "    }\n",
       "\n",
       "    .dataframe thead th {\n",
       "        text-align: right;\n",
       "    }\n",
       "</style>\n",
       "<table border=\"1\" class=\"dataframe\">\n",
       "  <thead>\n",
       "    <tr style=\"text-align: right;\">\n",
       "      <th></th>\n",
       "      <th>id</th>\n",
       "      <th>Class</th>\n",
       "    </tr>\n",
       "  </thead>\n",
       "  <tbody>\n",
       "    <tr>\n",
       "      <th>0</th>\n",
       "      <td>117564</td>\n",
       "      <td>0.5</td>\n",
       "    </tr>\n",
       "    <tr>\n",
       "      <th>1</th>\n",
       "      <td>117565</td>\n",
       "      <td>0.5</td>\n",
       "    </tr>\n",
       "    <tr>\n",
       "      <th>2</th>\n",
       "      <td>117566</td>\n",
       "      <td>0.5</td>\n",
       "    </tr>\n",
       "    <tr>\n",
       "      <th>3</th>\n",
       "      <td>117567</td>\n",
       "      <td>0.5</td>\n",
       "    </tr>\n",
       "    <tr>\n",
       "      <th>4</th>\n",
       "      <td>117568</td>\n",
       "      <td>0.5</td>\n",
       "    </tr>\n",
       "  </tbody>\n",
       "</table>\n",
       "</div>"
      ],
      "text/plain": [
       "       id  Class\n",
       "0  117564    0.5\n",
       "1  117565    0.5\n",
       "2  117566    0.5\n",
       "3  117567    0.5\n",
       "4  117568    0.5"
      ]
     },
     "execution_count": 90,
     "metadata": {},
     "output_type": "execute_result"
    }
   ],
   "source": [
    "submission.head()"
   ]
  },
  {
   "cell_type": "code",
   "execution_count": 159,
   "metadata": {},
   "outputs": [
    {
     "ename": "AttributeError",
     "evalue": "'numpy.ndarray' object has no attribute 'id'",
     "output_type": "error",
     "traceback": [
      "\u001b[1;31m---------------------------------------------------------------------------\u001b[0m",
      "\u001b[1;31mAttributeError\u001b[0m                            Traceback (most recent call last)",
      "\u001b[1;32m~\\AppData\\Local\\Temp\\ipykernel_16288\\2433650908.py\u001b[0m in \u001b[0;36m<module>\u001b[1;34m\u001b[0m\n\u001b[0;32m      1\u001b[0m \u001b[1;31m# Save test predictions to file\u001b[0m\u001b[1;33m\u001b[0m\u001b[1;33m\u001b[0m\u001b[1;33m\u001b[0m\u001b[0m\n\u001b[1;32m----> 2\u001b[1;33m submission = pd.DataFrame({'id': X_test.id,\n\u001b[0m\u001b[0;32m      3\u001b[0m                        'Class': preds})\n\u001b[0;32m      4\u001b[0m \u001b[0msubmission\u001b[0m\u001b[1;33m.\u001b[0m\u001b[0mto_csv\u001b[0m\u001b[1;33m(\u001b[0m\u001b[1;34m'submission.csv'\u001b[0m\u001b[1;33m,\u001b[0m \u001b[0mindex\u001b[0m\u001b[1;33m=\u001b[0m\u001b[1;32mFalse\u001b[0m\u001b[1;33m)\u001b[0m\u001b[1;33m\u001b[0m\u001b[1;33m\u001b[0m\u001b[0m\n",
      "\u001b[1;31mAttributeError\u001b[0m: 'numpy.ndarray' object has no attribute 'id'"
     ]
    }
   ],
   "source": [
    "# Save test predictions to file\n",
    "submission = pd.DataFrame({'id': X_test.id,\n",
    "                       'Class': preds})\n",
    "submission.to_csv('submission.csv', index=False)"
   ]
  },
  {
   "cell_type": "code",
   "execution_count": 154,
   "metadata": {},
   "outputs": [
    {
     "data": {
      "text/plain": [
       "numpy.ndarray"
      ]
     },
     "execution_count": 154,
     "metadata": {},
     "output_type": "execute_result"
    }
   ],
   "source": [
    "type(X_test)"
   ]
  },
  {
   "cell_type": "code",
   "execution_count": 155,
   "metadata": {},
   "outputs": [],
   "source": [
    "# read the real test data from test.csv\n",
    "test_data = pd.read_csv(\"test.csv\")"
   ]
  },
  {
   "cell_type": "code",
   "execution_count": 156,
   "metadata": {},
   "outputs": [
    {
     "data": {
      "text/html": [
       "<div>\n",
       "<style scoped>\n",
       "    .dataframe tbody tr th:only-of-type {\n",
       "        vertical-align: middle;\n",
       "    }\n",
       "\n",
       "    .dataframe tbody tr th {\n",
       "        vertical-align: top;\n",
       "    }\n",
       "\n",
       "    .dataframe thead th {\n",
       "        text-align: right;\n",
       "    }\n",
       "</style>\n",
       "<table border=\"1\" class=\"dataframe\">\n",
       "  <thead>\n",
       "    <tr style=\"text-align: right;\">\n",
       "      <th></th>\n",
       "      <th>id</th>\n",
       "      <th>Mean_Integrated</th>\n",
       "      <th>SD</th>\n",
       "      <th>EK</th>\n",
       "      <th>Skewness</th>\n",
       "      <th>Mean_DMSNR_Curve</th>\n",
       "      <th>SD_DMSNR_Curve</th>\n",
       "      <th>EK_DMSNR_Curve</th>\n",
       "      <th>Skewness_DMSNR_Curve</th>\n",
       "    </tr>\n",
       "  </thead>\n",
       "  <tbody>\n",
       "    <tr>\n",
       "      <th>0</th>\n",
       "      <td>117564</td>\n",
       "      <td>140.046875</td>\n",
       "      <td>54.507800</td>\n",
       "      <td>0.058862</td>\n",
       "      <td>-0.567263</td>\n",
       "      <td>2.337793</td>\n",
       "      <td>14.868335</td>\n",
       "      <td>9.591760</td>\n",
       "      <td>117.988781</td>\n",
       "    </tr>\n",
       "    <tr>\n",
       "      <th>1</th>\n",
       "      <td>117565</td>\n",
       "      <td>107.828125</td>\n",
       "      <td>51.578965</td>\n",
       "      <td>0.284368</td>\n",
       "      <td>-0.338430</td>\n",
       "      <td>1.574415</td>\n",
       "      <td>12.501437</td>\n",
       "      <td>11.694968</td>\n",
       "      <td>182.704822</td>\n",
       "    </tr>\n",
       "    <tr>\n",
       "      <th>2</th>\n",
       "      <td>117566</td>\n",
       "      <td>135.062500</td>\n",
       "      <td>49.812343</td>\n",
       "      <td>-0.087784</td>\n",
       "      <td>-0.094341</td>\n",
       "      <td>3.576923</td>\n",
       "      <td>21.243336</td>\n",
       "      <td>7.252386</td>\n",
       "      <td>59.021499</td>\n",
       "    </tr>\n",
       "    <tr>\n",
       "      <th>3</th>\n",
       "      <td>117567</td>\n",
       "      <td>112.812500</td>\n",
       "      <td>41.926647</td>\n",
       "      <td>0.519921</td>\n",
       "      <td>1.287762</td>\n",
       "      <td>6.669732</td>\n",
       "      <td>29.013153</td>\n",
       "      <td>5.097661</td>\n",
       "      <td>27.105240</td>\n",
       "    </tr>\n",
       "    <tr>\n",
       "      <th>4</th>\n",
       "      <td>117568</td>\n",
       "      <td>96.210938</td>\n",
       "      <td>35.322620</td>\n",
       "      <td>0.481286</td>\n",
       "      <td>2.443080</td>\n",
       "      <td>2.218227</td>\n",
       "      <td>17.041064</td>\n",
       "      <td>9.766006</td>\n",
       "      <td>117.131775</td>\n",
       "    </tr>\n",
       "  </tbody>\n",
       "</table>\n",
       "</div>"
      ],
      "text/plain": [
       "       id  Mean_Integrated         SD        EK  Skewness  Mean_DMSNR_Curve  \\\n",
       "0  117564       140.046875  54.507800  0.058862 -0.567263          2.337793   \n",
       "1  117565       107.828125  51.578965  0.284368 -0.338430          1.574415   \n",
       "2  117566       135.062500  49.812343 -0.087784 -0.094341          3.576923   \n",
       "3  117567       112.812500  41.926647  0.519921  1.287762          6.669732   \n",
       "4  117568        96.210938  35.322620  0.481286  2.443080          2.218227   \n",
       "\n",
       "   SD_DMSNR_Curve  EK_DMSNR_Curve  Skewness_DMSNR_Curve  \n",
       "0       14.868335        9.591760            117.988781  \n",
       "1       12.501437       11.694968            182.704822  \n",
       "2       21.243336        7.252386             59.021499  \n",
       "3       29.013153        5.097661             27.105240  \n",
       "4       17.041064        9.766006            117.131775  "
      ]
     },
     "execution_count": 156,
     "metadata": {},
     "output_type": "execute_result"
    }
   ],
   "source": [
    "test_data.head()"
   ]
  },
  {
   "cell_type": "code",
   "execution_count": 180,
   "metadata": {},
   "outputs": [],
   "source": [
    "X_testtest = test_data.drop(['id'], axis=1)"
   ]
  },
  {
   "cell_type": "code",
   "execution_count": 181,
   "metadata": {},
   "outputs": [],
   "source": [
    "ID_test = test_data.id"
   ]
  },
  {
   "cell_type": "code",
   "execution_count": 182,
   "metadata": {},
   "outputs": [],
   "source": [
    "X_testtest = ss_train.fit_transform(X_testtest)"
   ]
  },
  {
   "cell_type": "code",
   "execution_count": 185,
   "metadata": {},
   "outputs": [
    {
     "data": {
      "text/plain": [
       "XGBClassifier(base_score=0.5, booster='gbtree', callbacks=None,\n",
       "              colsample_bylevel=1, colsample_bynode=1, colsample_bytree=1,\n",
       "              early_stopping_rounds=None, enable_categorical=False,\n",
       "              eval_metric=None, gamma=0, gpu_id=-1, grow_policy='depthwise',\n",
       "              importance_type=None, interaction_constraints='',\n",
       "              learning_rate=0.02, max_bin=256, max_cat_to_onehot=4,\n",
       "              max_delta_step=0, max_depth=3, max_leaves=0, min_child_weight=1,\n",
       "              missing=nan, monotone_constraints='()', n_estimators=1024,\n",
       "              n_jobs=0, num_parallel_tree=1, predictor='auto', random_state=42,\n",
       "              reg_alpha=0, reg_lambda=1, ...)"
      ]
     },
     "execution_count": 185,
     "metadata": {},
     "output_type": "execute_result"
    }
   ],
   "source": [
    "# final fit with entire training set\n",
    "model.fit(X, y)"
   ]
  },
  {
   "cell_type": "code",
   "execution_count": 193,
   "metadata": {},
   "outputs": [],
   "source": [
    "preds = model.predict_proba(X_testtest)"
   ]
  },
  {
   "cell_type": "code",
   "execution_count": 194,
   "metadata": {},
   "outputs": [],
   "source": [
    "preds=  preds[:,1]"
   ]
  },
  {
   "cell_type": "code",
   "execution_count": 195,
   "metadata": {},
   "outputs": [],
   "source": [
    "# Save test predictions to file\n",
    "submission = pd.DataFrame({'id': ID_test,\n",
    "                       'Class': preds})\n",
    "submission.to_csv('submission.csv', index=False)"
   ]
  },
  {
   "cell_type": "code",
   "execution_count": null,
   "metadata": {},
   "outputs": [],
   "source": []
  }
 ],
 "metadata": {
  "kernelspec": {
   "display_name": "base",
   "language": "python",
   "name": "python3"
  },
  "language_info": {
   "codemirror_mode": {
    "name": "ipython",
    "version": 3
   },
   "file_extension": ".py",
   "mimetype": "text/x-python",
   "name": "python",
   "nbconvert_exporter": "python",
   "pygments_lexer": "ipython3",
   "version": "3.7.3"
  },
  "orig_nbformat": 4
 },
 "nbformat": 4,
 "nbformat_minor": 2
}
