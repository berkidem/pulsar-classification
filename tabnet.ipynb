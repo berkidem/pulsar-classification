{
 "cells": [
  {
   "attachments": {},
   "cell_type": "markdown",
   "metadata": {},
   "source": [
    "A tabular NN package. Didn't do very well but I also didn't spend time fine tuning it."
   ]
  },
  {
   "cell_type": "code",
   "execution_count": 4,
   "metadata": {},
   "outputs": [],
   "source": [
    "import pandas as pd\n",
    "from sklearn.model_selection import train_test_split\n",
    "from sklearn.ensemble import RandomForestClassifier\n",
    "from sklearn.metrics import log_loss, accuracy_score\n",
    "import sklearn\n",
    "import numpy as np\n",
    "import matplotlib.pyplot as plt\n",
    "import torch"
   ]
  },
  {
   "cell_type": "code",
   "execution_count": 12,
   "metadata": {},
   "outputs": [],
   "source": [
    "# read the data from /input/train.csv\n",
    "data = pd.read_csv(\"train.csv\")"
   ]
  },
  {
   "cell_type": "code",
   "execution_count": 13,
   "metadata": {},
   "outputs": [],
   "source": [
    "X = data.drop(['Class', 'id'], axis=1)\n",
    "y = data['Class']"
   ]
  },
  {
   "cell_type": "code",
   "execution_count": 14,
   "metadata": {},
   "outputs": [],
   "source": [
    "X_train, X_test, y_train, y_test = train_test_split(\n",
    "    X, y, test_size=0.20, random_state=42)\n",
    "X_train, X_val, y_train, y_val = train_test_split(\n",
    "    X_train, y_train, test_size=0.25, random_state=42)"
   ]
  },
  {
   "cell_type": "code",
   "execution_count": 15,
   "metadata": {},
   "outputs": [
    {
     "name": "stderr",
     "output_type": "stream",
     "text": [
      "c:\\Users\\berkidem\\.conda\\envs\\DeepLearningEnv\\lib\\site-packages\\pytorch_tabnet\\abstract_model.py:75: UserWarning: Device used : cpu\n",
      "  warnings.warn(f\"Device used : {self.device}\")\n"
     ]
    },
    {
     "name": "stdout",
     "output_type": "stream",
     "text": [
      "epoch 0  | loss: 0.08968 | val_0_auc: 0.652   |  0:00:06s\n",
      "epoch 1  | loss: 0.0434  | val_0_auc: 0.98539 |  0:00:13s\n",
      "epoch 2  | loss: 0.04123 | val_0_auc: 0.9924  |  0:00:20s\n",
      "epoch 3  | loss: 0.04032 | val_0_auc: 0.99434 |  0:00:26s\n",
      "epoch 4  | loss: 0.04186 | val_0_auc: 0.99443 |  0:00:32s\n",
      "epoch 5  | loss: 0.03953 | val_0_auc: 0.9953  |  0:00:38s\n",
      "epoch 6  | loss: 0.03715 | val_0_auc: 0.9958  |  0:00:44s\n",
      "epoch 7  | loss: 0.0367  | val_0_auc: 0.99566 |  0:00:50s\n",
      "epoch 8  | loss: 0.03714 | val_0_auc: 0.99559 |  0:00:57s\n",
      "epoch 9  | loss: 0.0363  | val_0_auc: 0.99572 |  0:01:04s\n",
      "epoch 10 | loss: 0.03595 | val_0_auc: 0.99602 |  0:01:10s\n",
      "epoch 11 | loss: 0.03598 | val_0_auc: 0.99622 |  0:01:16s\n",
      "epoch 12 | loss: 0.03576 | val_0_auc: 0.99573 |  0:01:22s\n",
      "epoch 13 | loss: 0.03552 | val_0_auc: 0.99615 |  0:01:28s\n",
      "epoch 14 | loss: 0.03533 | val_0_auc: 0.99563 |  0:01:35s\n",
      "epoch 15 | loss: 0.03489 | val_0_auc: 0.99575 |  0:01:42s\n",
      "epoch 16 | loss: 0.03461 | val_0_auc: 0.99574 |  0:01:48s\n",
      "epoch 17 | loss: 0.03547 | val_0_auc: 0.99609 |  0:01:56s\n",
      "epoch 18 | loss: 0.03483 | val_0_auc: 0.99541 |  0:02:02s\n",
      "epoch 19 | loss: 0.0351  | val_0_auc: 0.99562 |  0:02:09s\n",
      "epoch 20 | loss: 0.03563 | val_0_auc: 0.9954  |  0:02:15s\n",
      "epoch 21 | loss: 0.03497 | val_0_auc: 0.99577 |  0:02:23s\n",
      "\n",
      "Early stopping occurred at epoch 21 with best_epoch = 11 and best_val_0_auc = 0.99622\n"
     ]
    },
    {
     "name": "stderr",
     "output_type": "stream",
     "text": [
      "c:\\Users\\berkidem\\.conda\\envs\\DeepLearningEnv\\lib\\site-packages\\pytorch_tabnet\\callbacks.py:172: UserWarning: Best weights from best epoch are automatically used!\n",
      "  warnings.warn(wrn_msg)\n"
     ]
    }
   ],
   "source": [
    "from pytorch_tabnet.tab_model import TabNetClassifier\n",
    "\n",
    "clf = TabNetClassifier()  \n",
    "clf.fit(\n",
    "  X_train.values, y_train,\n",
    "  eval_set=[(X_val.values, y_val)]\n",
    ")\n",
    "preds = clf.predict(X_test.values)"
   ]
  },
  {
   "cell_type": "code",
   "execution_count": null,
   "metadata": {},
   "outputs": [],
   "source": []
  }
 ],
 "metadata": {
  "kernelspec": {
   "display_name": "DeepLearningEnv",
   "language": "python",
   "name": "python3"
  },
  "language_info": {
   "codemirror_mode": {
    "name": "ipython",
    "version": 3
   },
   "file_extension": ".py",
   "mimetype": "text/x-python",
   "name": "python",
   "nbconvert_exporter": "python",
   "pygments_lexer": "ipython3",
   "version": "3.9.15"
  },
  "orig_nbformat": 4
 },
 "nbformat": 4,
 "nbformat_minor": 2
}
