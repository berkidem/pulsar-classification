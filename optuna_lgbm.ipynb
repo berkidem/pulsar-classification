{
 "cells": [
  {
   "cell_type": "code",
   "execution_count": 1,
   "metadata": {},
   "outputs": [
    {
     "name": "stderr",
     "output_type": "stream",
     "text": [
      "c:\\ProgramData\\Anaconda3\\lib\\site-packages\\dask\\dataframe\\utils.py:15: FutureWarning: pandas.util.testing is deprecated. Use the functions in the public API at pandas.testing instead.\n",
      "  import pandas.util.testing as tm\n"
     ]
    }
   ],
   "source": [
    "import pandas as pd\n",
    "from sklearn.model_selection import train_test_split\n",
    "from sklearn.ensemble import RandomForestClassifier\n",
    "from sklearn.metrics import log_loss, accuracy_score\n",
    "import optuna\n",
    "import lightgbm as lgb\n",
    "import sklearn\n",
    "import numpy as np"
   ]
  },
  {
   "cell_type": "code",
   "execution_count": 5,
   "metadata": {},
   "outputs": [],
   "source": [
    "# read the data from /input/train.csv\n",
    "data = pd.read_csv(\"train.csv\")"
   ]
  },
  {
   "cell_type": "code",
   "execution_count": 6,
   "metadata": {},
   "outputs": [],
   "source": [
    "X = data.drop(['Class', 'id'], axis=1)\n",
    "y = data['Class']"
   ]
  },
  {
   "cell_type": "code",
   "execution_count": 7,
   "metadata": {},
   "outputs": [],
   "source": [
    "X_train, X_test, y_train, y_test = train_test_split(\n",
    "    X, y, test_size=0.2, random_state=42)\n",
    "X_train, X_val, y_train, y_val = train_test_split(\n",
    "    X_train, y_train, test_size=0.25, random_state=42)"
   ]
  },
  {
   "cell_type": "code",
   "execution_count": 142,
   "metadata": {},
   "outputs": [],
   "source": [
    "def objective(trial): \n",
    "    params = {\n",
    "    'task': 'train', \n",
    "    'boosting_type':'goss',\n",
    "    'objective':'binary',\n",
    "    'metric':'binary_logloss', \n",
    "    'verbose':-10000000,\n",
    "    'seed':42,\n",
    "    'max_bin':32,\n",
    "    'n_estimators':128,\n",
    "    # 'n_estimators':trial.suggest_int(\"n_estimators\", 800, 1200),\n",
    "    'learning_rate':0.1,\n",
    "    'feature_fraction':1.0,\n",
    "    'bagging_fraction':1.0,\n",
    "   # 'bagging_freq':trial.suggest_categorical(\"bagging_freq\", [1]),\n",
    "    'max_depth':trial.suggest_int(\"max_depth\", 3, 10), # decrease this in the next round\n",
    "    'num_leaves':trial.suggest_int(\"num_leaves\",8, 24),\n",
    "    'min_data_in_leaf':32,\n",
    "    'min_gain_to_split':3.0,\n",
    "}\n",
    "    \n",
    "    model = lgb.LGBMClassifier(**params)\n",
    "    model.fit(X_train, y_train, eval_set=[(X_val, y_val)], early_stopping_rounds=100)\n",
    "    y_val_pred = model.predict_proba(X_val)\n",
    "    logloss = log_loss(y_val, y_val_pred)\n",
    "    return logloss"
   ]
  },
  {
   "cell_type": "code",
   "execution_count": 143,
   "metadata": {},
   "outputs": [
    {
     "name": "stderr",
     "output_type": "stream",
     "text": [
      "\u001b[32m[I 2023-03-12 21:21:09,653]\u001b[0m A new study created in memory with name: no-name-08f19a9e-8e9d-4e90-bb8f-292afcebaf9d\u001b[0m\n",
      "c:\\ProgramData\\Anaconda3\\lib\\site-packages\\lightgbm\\sklearn.py:726: UserWarning:\n",
      "\n",
      "'early_stopping_rounds' argument is deprecated and will be removed in a future release of LightGBM. Pass 'early_stopping()' callback via 'callbacks' argument instead.\n",
      "\n"
     ]
    },
    {
     "name": "stdout",
     "output_type": "stream",
     "text": [
      "[LightGBM] [Warning] feature_fraction is set=1.0, colsample_bytree=1.0 will be ignored. Current value: feature_fraction=1.0\n",
      "[LightGBM] [Warning] min_data_in_leaf is set=32, min_child_samples=20 will be ignored. Current value: min_data_in_leaf=32\n",
      "[LightGBM] [Warning] min_gain_to_split is set=3.0, min_split_gain=0.0 will be ignored. Current value: min_gain_to_split=3.0\n",
      "[LightGBM] [Warning] bagging_fraction is set=1.0, subsample=1.0 will be ignored. Current value: bagging_fraction=1.0\n",
      "[1]\tvalid_0's binary_logloss: 0.227215\n",
      "[2]\tvalid_0's binary_logloss: 0.192475\n",
      "[3]\tvalid_0's binary_logloss: 0.168232\n",
      "[4]\tvalid_0's binary_logloss: 0.149424\n",
      "[5]\tvalid_0's binary_logloss: 0.134054\n",
      "[6]\tvalid_0's binary_logloss: 0.121352\n",
      "[7]\tvalid_0's binary_logloss: 0.110643\n",
      "[8]\tvalid_0's binary_logloss: 0.101457\n",
      "[9]\tvalid_0's binary_logloss: 0.0935106\n",
      "[10]\tvalid_0's binary_logloss: 0.0865868\n",
      "[11]\tvalid_0's binary_logloss: 0.0805617\n",
      "[12]\tvalid_0's binary_logloss: 0.0752919\n",
      "[13]\tvalid_0's binary_logloss: 0.070628\n",
      "[14]\tvalid_0's binary_logloss: 0.0665252\n",
      "[15]\tvalid_0's binary_logloss: 0.0628956\n",
      "[16]\tvalid_0's binary_logloss: 0.0596648\n",
      "[17]\tvalid_0's binary_logloss: 0.0567882\n",
      "[18]\tvalid_0's binary_logloss: 0.0541874\n",
      "[19]\tvalid_0's binary_logloss: 0.0519045\n",
      "[20]\tvalid_0's binary_logloss: 0.0499175\n",
      "[21]\tvalid_0's binary_logloss: 0.0481073\n",
      "[22]\tvalid_0's binary_logloss: 0.046456\n",
      "[23]\tvalid_0's binary_logloss: 0.0450175\n",
      "[24]\tvalid_0's binary_logloss: 0.0437188\n",
      "[25]\tvalid_0's binary_logloss: 0.0425805\n",
      "[26]\tvalid_0's binary_logloss: 0.0415665\n",
      "[27]\tvalid_0's binary_logloss: 0.040657\n",
      "[28]\tvalid_0's binary_logloss: 0.0398377\n",
      "[29]\tvalid_0's binary_logloss: 0.039128\n",
      "[30]\tvalid_0's binary_logloss: 0.0384928\n",
      "[31]\tvalid_0's binary_logloss: 0.0378987\n",
      "[32]\tvalid_0's binary_logloss: 0.0373759\n",
      "[33]\tvalid_0's binary_logloss: 0.0369208\n",
      "[34]\tvalid_0's binary_logloss: 0.0365067\n",
      "[35]\tvalid_0's binary_logloss: 0.0361855\n",
      "[36]\tvalid_0's binary_logloss: 0.0358565\n",
      "[37]\tvalid_0's binary_logloss: 0.0355852\n",
      "[38]\tvalid_0's binary_logloss: 0.0353526\n",
      "[39]\tvalid_0's binary_logloss: 0.0351267\n",
      "[40]\tvalid_0's binary_logloss: 0.034925\n",
      "[41]\tvalid_0's binary_logloss: 0.0347781\n",
      "[42]\tvalid_0's binary_logloss: 0.0345832\n"
     ]
    },
    {
     "name": "stderr",
     "output_type": "stream",
     "text": [
      "\u001b[32m[I 2023-03-12 21:21:10,052]\u001b[0m Trial 0 finished with value: 0.033465811594983165 and parameters: {'max_depth': 7, 'num_leaves': 19}. Best is trial 0 with value: 0.033465811594983165.\u001b[0m\n"
     ]
    },
    {
     "name": "stdout",
     "output_type": "stream",
     "text": [
      "[43]\tvalid_0's binary_logloss: 0.0344612\n",
      "[44]\tvalid_0's binary_logloss: 0.0342999\n",
      "[45]\tvalid_0's binary_logloss: 0.034186\n",
      "[46]\tvalid_0's binary_logloss: 0.034099\n",
      "[47]\tvalid_0's binary_logloss: 0.0340159\n",
      "[48]\tvalid_0's binary_logloss: 0.033946\n",
      "[49]\tvalid_0's binary_logloss: 0.0339009\n",
      "[50]\tvalid_0's binary_logloss: 0.0338727\n",
      "[51]\tvalid_0's binary_logloss: 0.0338247\n",
      "[52]\tvalid_0's binary_logloss: 0.0337947\n",
      "[53]\tvalid_0's binary_logloss: 0.0337793\n",
      "[54]\tvalid_0's binary_logloss: 0.0337408\n",
      "[55]\tvalid_0's binary_logloss: 0.0337102\n",
      "[56]\tvalid_0's binary_logloss: 0.0336607\n",
      "[57]\tvalid_0's binary_logloss: 0.0336193\n",
      "[58]\tvalid_0's binary_logloss: 0.0335971\n",
      "[59]\tvalid_0's binary_logloss: 0.0335606\n",
      "[60]\tvalid_0's binary_logloss: 0.0335461\n",
      "[61]\tvalid_0's binary_logloss: 0.0335407\n",
      "[62]\tvalid_0's binary_logloss: 0.0335056\n",
      "[63]\tvalid_0's binary_logloss: 0.033502\n",
      "[64]\tvalid_0's binary_logloss: 0.0334894\n",
      "[65]\tvalid_0's binary_logloss: 0.0334894\n",
      "[66]\tvalid_0's binary_logloss: 0.0334894\n",
      "[67]\tvalid_0's binary_logloss: 0.0334894\n",
      "[68]\tvalid_0's binary_logloss: 0.0334894\n",
      "[69]\tvalid_0's binary_logloss: 0.0334894\n",
      "[70]\tvalid_0's binary_logloss: 0.033487\n",
      "[71]\tvalid_0's binary_logloss: 0.033487\n",
      "[72]\tvalid_0's binary_logloss: 0.033487\n",
      "[73]\tvalid_0's binary_logloss: 0.033487\n",
      "[74]\tvalid_0's binary_logloss: 0.0334857\n",
      "[75]\tvalid_0's binary_logloss: 0.0334857\n",
      "[76]\tvalid_0's binary_logloss: 0.0334857\n",
      "[77]\tvalid_0's binary_logloss: 0.0334857\n",
      "[78]\tvalid_0's binary_logloss: 0.0334857\n",
      "[79]\tvalid_0's binary_logloss: 0.0334857\n",
      "[80]\tvalid_0's binary_logloss: 0.0334857\n",
      "[81]\tvalid_0's binary_logloss: 0.0334857\n",
      "[82]\tvalid_0's binary_logloss: 0.0334857\n",
      "[83]\tvalid_0's binary_logloss: 0.0334857\n",
      "[84]\tvalid_0's binary_logloss: 0.033475\n",
      "[85]\tvalid_0's binary_logloss: 0.033475\n",
      "[86]\tvalid_0's binary_logloss: 0.033475\n",
      "[87]\tvalid_0's binary_logloss: 0.033475\n",
      "[88]\tvalid_0's binary_logloss: 0.033475\n",
      "[89]\tvalid_0's binary_logloss: 0.033475\n",
      "[90]\tvalid_0's binary_logloss: 0.033475\n",
      "[91]\tvalid_0's binary_logloss: 0.033475\n",
      "[92]\tvalid_0's binary_logloss: 0.033475\n",
      "[93]\tvalid_0's binary_logloss: 0.033475\n",
      "[94]\tvalid_0's binary_logloss: 0.033475\n",
      "[95]\tvalid_0's binary_logloss: 0.033475\n",
      "[96]\tvalid_0's binary_logloss: 0.033475\n",
      "[97]\tvalid_0's binary_logloss: 0.033475\n",
      "[98]\tvalid_0's binary_logloss: 0.033475\n",
      "[99]\tvalid_0's binary_logloss: 0.033475\n",
      "[100]\tvalid_0's binary_logloss: 0.033475\n",
      "[101]\tvalid_0's binary_logloss: 0.033475\n",
      "[102]\tvalid_0's binary_logloss: 0.033475\n",
      "[103]\tvalid_0's binary_logloss: 0.033475\n",
      "[104]\tvalid_0's binary_logloss: 0.033475\n",
      "[105]\tvalid_0's binary_logloss: 0.033475\n",
      "[106]\tvalid_0's binary_logloss: 0.033475\n",
      "[107]\tvalid_0's binary_logloss: 0.033475\n",
      "[108]\tvalid_0's binary_logloss: 0.033475\n",
      "[109]\tvalid_0's binary_logloss: 0.0334731\n",
      "[110]\tvalid_0's binary_logloss: 0.0334731\n",
      "[111]\tvalid_0's binary_logloss: 0.0334731\n",
      "[112]\tvalid_0's binary_logloss: 0.0334731\n",
      "[113]\tvalid_0's binary_logloss: 0.0334731\n",
      "[114]\tvalid_0's binary_logloss: 0.0334731\n",
      "[115]\tvalid_0's binary_logloss: 0.0334731\n",
      "[116]\tvalid_0's binary_logloss: 0.0334731\n",
      "[117]\tvalid_0's binary_logloss: 0.0334731\n",
      "[118]\tvalid_0's binary_logloss: 0.0334706\n",
      "[119]\tvalid_0's binary_logloss: 0.0334706\n",
      "[120]\tvalid_0's binary_logloss: 0.0334706\n",
      "[121]\tvalid_0's binary_logloss: 0.0334706\n",
      "[122]\tvalid_0's binary_logloss: 0.0334706\n",
      "[123]\tvalid_0's binary_logloss: 0.0334658\n",
      "[124]\tvalid_0's binary_logloss: 0.0334658\n",
      "[125]\tvalid_0's binary_logloss: 0.0334658\n",
      "[126]\tvalid_0's binary_logloss: 0.0334658\n",
      "[127]\tvalid_0's binary_logloss: 0.0334658\n",
      "[128]\tvalid_0's binary_logloss: 0.0334658\n"
     ]
    },
    {
     "name": "stderr",
     "output_type": "stream",
     "text": [
      "c:\\ProgramData\\Anaconda3\\lib\\site-packages\\lightgbm\\sklearn.py:726: UserWarning:\n",
      "\n",
      "'early_stopping_rounds' argument is deprecated and will be removed in a future release of LightGBM. Pass 'early_stopping()' callback via 'callbacks' argument instead.\n",
      "\n"
     ]
    },
    {
     "name": "stdout",
     "output_type": "stream",
     "text": [
      "[LightGBM] [Warning] feature_fraction is set=1.0, colsample_bytree=1.0 will be ignored. Current value: feature_fraction=1.0\n",
      "[LightGBM] [Warning] min_data_in_leaf is set=32, min_child_samples=20 will be ignored. Current value: min_data_in_leaf=32\n",
      "[LightGBM] [Warning] min_gain_to_split is set=3.0, min_split_gain=0.0 will be ignored. Current value: min_gain_to_split=3.0\n",
      "[LightGBM] [Warning] bagging_fraction is set=1.0, subsample=1.0 will be ignored. Current value: bagging_fraction=1.0\n",
      "[1]\tvalid_0's binary_logloss: 0.227343\n",
      "[2]\tvalid_0's binary_logloss: 0.192606\n",
      "[3]\tvalid_0's binary_logloss: 0.168309\n",
      "[4]\tvalid_0's binary_logloss: 0.149588\n",
      "[5]\tvalid_0's binary_logloss: 0.134371\n",
      "[6]\tvalid_0's binary_logloss: 0.121746\n",
      "[7]\tvalid_0's binary_logloss: 0.11105\n",
      "[8]\tvalid_0's binary_logloss: 0.101925\n",
      "[9]\tvalid_0's binary_logloss: 0.0940154\n",
      "[10]\tvalid_0's binary_logloss: 0.0871162\n",
      "[11]\tvalid_0's binary_logloss: 0.0810935\n",
      "[12]\tvalid_0's binary_logloss: 0.0758212\n",
      "[13]\tvalid_0's binary_logloss: 0.07118\n",
      "[14]\tvalid_0's binary_logloss: 0.0670579\n",
      "[15]\tvalid_0's binary_logloss: 0.063392\n",
      "[16]\tvalid_0's binary_logloss: 0.0601696\n",
      "[17]\tvalid_0's binary_logloss: 0.0572745\n",
      "[18]\tvalid_0's binary_logloss: 0.0547202\n",
      "[19]\tvalid_0's binary_logloss: 0.052502\n",
      "[20]\tvalid_0's binary_logloss: 0.0504758\n",
      "[21]\tvalid_0's binary_logloss: 0.0487379\n",
      "[22]\tvalid_0's binary_logloss: 0.0471296\n",
      "[23]\tvalid_0's binary_logloss: 0.0456947\n",
      "[24]\tvalid_0's binary_logloss: 0.0444614\n",
      "[25]\tvalid_0's binary_logloss: 0.0432991\n",
      "[26]\tvalid_0's binary_logloss: 0.0422493\n",
      "[27]\tvalid_0's binary_logloss: 0.0413268\n",
      "[28]\tvalid_0's binary_logloss: 0.0405161\n",
      "[29]\tvalid_0's binary_logloss: 0.0397696\n",
      "[30]\tvalid_0's binary_logloss: 0.0391054\n",
      "[31]\tvalid_0's binary_logloss: 0.0385218\n",
      "[32]\tvalid_0's binary_logloss: 0.0379442\n",
      "[33]\tvalid_0's binary_logloss: 0.0374674\n",
      "[34]\tvalid_0's binary_logloss: 0.0369937\n",
      "[35]\tvalid_0's binary_logloss: 0.0365879\n",
      "[36]\tvalid_0's binary_logloss: 0.0362322\n",
      "[37]\tvalid_0's binary_logloss: 0.035896\n",
      "[38]\tvalid_0's binary_logloss: 0.0356066\n",
      "[39]\tvalid_0's binary_logloss: 0.0353998\n",
      "[40]\tvalid_0's binary_logloss: 0.035197\n",
      "[41]\tvalid_0's binary_logloss: 0.0350032\n",
      "[42]\tvalid_0's binary_logloss: 0.0348354\n",
      "[43]\tvalid_0's binary_logloss: 0.0346305\n",
      "[44]\tvalid_0's binary_logloss: 0.0345104\n",
      "[45]\tvalid_0's binary_logloss: 0.0343981\n",
      "[46]\tvalid_0's binary_logloss: 0.0342504\n",
      "[47]\tvalid_0's binary_logloss: 0.0341408\n",
      "[48]\tvalid_0's binary_logloss: 0.0340521\n",
      "[49]\tvalid_0's binary_logloss: 0.0340052\n",
      "[50]\tvalid_0's binary_logloss: 0.0339597\n",
      "[51]\tvalid_0's binary_logloss: 0.0338994\n",
      "[52]\tvalid_0's binary_logloss: 0.0338123\n",
      "[53]\tvalid_0's binary_logloss: 0.0337487\n",
      "[54]\tvalid_0's binary_logloss: 0.0337065\n",
      "[55]\tvalid_0's binary_logloss: 0.0336831\n",
      "[56]\tvalid_0's binary_logloss: 0.0336162\n",
      "[57]\tvalid_0's binary_logloss: 0.0335919\n",
      "[58]\tvalid_0's binary_logloss: 0.033531\n",
      "[59]\tvalid_0's binary_logloss: 0.0335036\n",
      "[60]\tvalid_0's binary_logloss: 0.0334674\n",
      "[61]\tvalid_0's binary_logloss: 0.0334144\n",
      "[62]\tvalid_0's binary_logloss: 0.0334007\n",
      "[63]\tvalid_0's binary_logloss: 0.0333927\n",
      "[64]\tvalid_0's binary_logloss: 0.0333564\n",
      "[65]\tvalid_0's binary_logloss: 0.0333476\n",
      "[66]\tvalid_0's binary_logloss: 0.0333476\n",
      "[67]\tvalid_0's binary_logloss: 0.0333457\n",
      "[68]\tvalid_0's binary_logloss: 0.0333457\n",
      "[69]\tvalid_0's binary_logloss: 0.03334\n",
      "[70]\tvalid_0's binary_logloss: 0.03334\n",
      "[71]\tvalid_0's binary_logloss: 0.033322\n",
      "[72]\tvalid_0's binary_logloss: 0.033322\n",
      "[73]\tvalid_0's binary_logloss: 0.033322\n",
      "[74]\tvalid_0's binary_logloss: 0.0333173\n",
      "[75]\tvalid_0's binary_logloss: 0.0333173\n",
      "[76]\tvalid_0's binary_logloss: 0.0333173\n",
      "[77]\tvalid_0's binary_logloss: 0.0333173\n",
      "[78]\tvalid_0's binary_logloss: 0.0333169\n",
      "[79]\tvalid_0's binary_logloss: 0.0333169\n",
      "[80]\tvalid_0's binary_logloss: 0.0333169\n",
      "[81]\tvalid_0's binary_logloss: 0.0333169\n",
      "[82]\tvalid_0's binary_logloss: 0.0333169\n",
      "[83]\tvalid_0's binary_logloss: 0.0333169\n",
      "[84]\tvalid_0's binary_logloss: 0.0333169\n",
      "[85]\tvalid_0's binary_logloss: 0.0333169\n",
      "[86]\tvalid_0's binary_logloss: 0.0333169\n",
      "[87]\tvalid_0's binary_logloss: 0.0333169\n",
      "[88]\tvalid_0's binary_logloss: 0.0333169\n",
      "[89]\tvalid_0's binary_logloss: 0.0333169\n",
      "[90]\tvalid_0's binary_logloss: 0.0333169\n",
      "[91]\tvalid_0's binary_logloss: 0.0333169\n",
      "[92]\tvalid_0's binary_logloss: 0.0333108\n",
      "[93]\tvalid_0's binary_logloss: 0.0333108\n",
      "[94]\tvalid_0's binary_logloss: 0.0333108\n",
      "[95]\tvalid_0's binary_logloss: 0.0333108\n",
      "[96]\tvalid_0's binary_logloss: 0.0333108\n",
      "[97]\tvalid_0's binary_logloss: 0.0333108\n",
      "[98]\tvalid_0's binary_logloss: 0.0333108\n",
      "[99]\tvalid_0's binary_logloss: 0.0333108\n",
      "[100]\tvalid_0's binary_logloss: 0.0333108\n",
      "[101]\tvalid_0's binary_logloss: 0.0333108\n",
      "[102]\tvalid_0's binary_logloss: 0.0333108\n",
      "[103]\tvalid_0's binary_logloss: 0.0333108\n",
      "[104]\tvalid_0's binary_logloss: 0.0333108\n",
      "[105]\tvalid_0's binary_logloss: 0.0333108\n",
      "[106]\tvalid_0's binary_logloss: 0.0333108\n",
      "[107]\tvalid_0's binary_logloss: 0.0333108\n",
      "[108]\tvalid_0's binary_logloss: 0.0333108\n",
      "[109]\tvalid_0's binary_logloss: 0.0333108\n",
      "[110]\tvalid_0's binary_logloss: 0.0333108\n",
      "[111]\tvalid_0's binary_logloss: 0.0333108\n",
      "[112]\tvalid_0's binary_logloss: 0.0333108\n",
      "[113]\tvalid_0's binary_logloss: 0.0333108\n",
      "[114]\tvalid_0's binary_logloss: 0.0333108\n",
      "[115]\tvalid_0's binary_logloss: 0.0333108\n",
      "[116]\tvalid_0's binary_logloss: 0.0333108\n",
      "[117]\tvalid_0's binary_logloss: 0.0333108\n",
      "[118]\tvalid_0's binary_logloss: 0.0333108\n",
      "[119]\tvalid_0's binary_logloss: 0.0333108\n",
      "[120]\tvalid_0's binary_logloss: 0.0333108\n",
      "[121]\tvalid_0's binary_logloss: 0.0333108\n",
      "[122]\tvalid_0's binary_logloss: 0.0333108\n",
      "[123]\tvalid_0's binary_logloss: 0.0333108\n",
      "[124]\tvalid_0's binary_logloss: 0.0333108\n",
      "[125]\tvalid_0's binary_logloss: 0.0333108\n",
      "[126]\tvalid_0's binary_logloss: 0.0333108\n",
      "[127]\tvalid_0's binary_logloss: 0.0333108\n",
      "[128]\tvalid_0's binary_logloss: 0.0333108\n"
     ]
    },
    {
     "name": "stderr",
     "output_type": "stream",
     "text": [
      "\u001b[32m[I 2023-03-12 21:21:10,519]\u001b[0m Trial 1 finished with value: 0.033310783087823544 and parameters: {'max_depth': 4, 'num_leaves': 18}. Best is trial 1 with value: 0.033310783087823544.\u001b[0m\n",
      "c:\\ProgramData\\Anaconda3\\lib\\site-packages\\lightgbm\\sklearn.py:726: UserWarning:\n",
      "\n",
      "'early_stopping_rounds' argument is deprecated and will be removed in a future release of LightGBM. Pass 'early_stopping()' callback via 'callbacks' argument instead.\n",
      "\n"
     ]
    },
    {
     "name": "stdout",
     "output_type": "stream",
     "text": [
      "[LightGBM] [Warning] feature_fraction is set=1.0, colsample_bytree=1.0 will be ignored. Current value: feature_fraction=1.0\n",
      "[LightGBM] [Warning] min_data_in_leaf is set=32, min_child_samples=20 will be ignored. Current value: min_data_in_leaf=32\n",
      "[LightGBM] [Warning] min_gain_to_split is set=3.0, min_split_gain=0.0 will be ignored. Current value: min_gain_to_split=3.0\n",
      "[LightGBM] [Warning] bagging_fraction is set=1.0, subsample=1.0 will be ignored. Current value: bagging_fraction=1.0\n",
      "[1]\tvalid_0's binary_logloss: 0.227093\n",
      "[2]\tvalid_0's binary_logloss: 0.192359\n",
      "[3]\tvalid_0's binary_logloss: 0.168018\n",
      "[4]\tvalid_0's binary_logloss: 0.149231\n",
      "[5]\tvalid_0's binary_logloss: 0.133908\n",
      "[6]\tvalid_0's binary_logloss: 0.121212\n",
      "[7]\tvalid_0's binary_logloss: 0.110434\n",
      "[8]\tvalid_0's binary_logloss: 0.101237\n",
      "[9]\tvalid_0's binary_logloss: 0.0933082\n",
      "[10]\tvalid_0's binary_logloss: 0.0863759\n",
      "[11]\tvalid_0's binary_logloss: 0.0803407\n",
      "[12]\tvalid_0's binary_logloss: 0.07503\n",
      "[13]\tvalid_0's binary_logloss: 0.0703668\n",
      "[14]\tvalid_0's binary_logloss: 0.0662138\n",
      "[15]\tvalid_0's binary_logloss: 0.0625851\n",
      "[16]\tvalid_0's binary_logloss: 0.0593376\n",
      "[17]\tvalid_0's binary_logloss: 0.0565003\n",
      "[18]\tvalid_0's binary_logloss: 0.0539347\n",
      "[19]\tvalid_0's binary_logloss: 0.0516706\n",
      "[20]\tvalid_0's binary_logloss: 0.0496728\n",
      "[21]\tvalid_0's binary_logloss: 0.047888\n",
      "[22]\tvalid_0's binary_logloss: 0.0462817\n",
      "[23]\tvalid_0's binary_logloss: 0.0448342\n",
      "[24]\tvalid_0's binary_logloss: 0.0435307\n",
      "[25]\tvalid_0's binary_logloss: 0.0423794\n",
      "[26]\tvalid_0's binary_logloss: 0.0413964\n",
      "[27]\tvalid_0's binary_logloss: 0.040526\n",
      "[28]\tvalid_0's binary_logloss: 0.0397376\n",
      "[29]\tvalid_0's binary_logloss: 0.039037\n",
      "[30]\tvalid_0's binary_logloss: 0.0384105\n",
      "[31]\tvalid_0's binary_logloss: 0.0378217\n",
      "[32]\tvalid_0's binary_logloss: 0.0372961\n",
      "[33]\tvalid_0's binary_logloss: 0.0368638\n",
      "[34]\tvalid_0's binary_logloss: 0.036441\n",
      "[35]\tvalid_0's binary_logloss: 0.0361292\n",
      "[36]\tvalid_0's binary_logloss: 0.0357594\n",
      "[37]\tvalid_0's binary_logloss: 0.0354986\n",
      "[38]\tvalid_0's binary_logloss: 0.0352466\n",
      "[39]\tvalid_0's binary_logloss: 0.0350356\n",
      "[40]\tvalid_0's binary_logloss: 0.034821\n",
      "[41]\tvalid_0's binary_logloss: 0.0346514\n",
      "[42]\tvalid_0's binary_logloss: 0.0344945\n",
      "[43]\tvalid_0's binary_logloss: 0.0343527\n",
      "[44]\tvalid_0's binary_logloss: 0.0342448\n",
      "[45]\tvalid_0's binary_logloss: 0.0341575\n",
      "[46]\tvalid_0's binary_logloss: 0.0340879\n",
      "[47]\tvalid_0's binary_logloss: 0.0339998\n",
      "[48]\tvalid_0's binary_logloss: 0.0339495\n",
      "[49]\tvalid_0's binary_logloss: 0.0338986\n",
      "[50]\tvalid_0's binary_logloss: 0.033846\n",
      "[51]\tvalid_0's binary_logloss: 0.0337902\n",
      "[52]\tvalid_0's binary_logloss: 0.0337325\n",
      "[53]\tvalid_0's binary_logloss: 0.0337234\n",
      "[54]\tvalid_0's binary_logloss: 0.0336755\n",
      "[55]\tvalid_0's binary_logloss: 0.0336261\n",
      "[56]\tvalid_0's binary_logloss: 0.0335889\n",
      "[57]\tvalid_0's binary_logloss: 0.0335554\n",
      "[58]\tvalid_0's binary_logloss: 0.0335414\n",
      "[59]\tvalid_0's binary_logloss: 0.0335216\n",
      "[60]\tvalid_0's binary_logloss: 0.0335085\n",
      "[61]\tvalid_0's binary_logloss: 0.0335\n",
      "[62]\tvalid_0's binary_logloss: 0.0334957\n",
      "[63]\tvalid_0's binary_logloss: 0.0334936\n",
      "[64]\tvalid_0's binary_logloss: 0.033469\n",
      "[65]\tvalid_0's binary_logloss: 0.0334666\n",
      "[66]\tvalid_0's binary_logloss: 0.0334543\n",
      "[67]\tvalid_0's binary_logloss: 0.0334524\n",
      "[68]\tvalid_0's binary_logloss: 0.033451\n",
      "[69]\tvalid_0's binary_logloss: 0.0334483\n",
      "[70]\tvalid_0's binary_logloss: 0.0334483\n",
      "[71]\tvalid_0's binary_logloss: 0.0334416\n",
      "[72]\tvalid_0's binary_logloss: 0.0334416\n",
      "[73]\tvalid_0's binary_logloss: 0.0334416\n",
      "[74]\tvalid_0's binary_logloss: 0.0334416\n",
      "[75]\tvalid_0's binary_logloss: 0.0334452\n",
      "[76]\tvalid_0's binary_logloss: 0.0334402\n",
      "[77]\tvalid_0's binary_logloss: 0.0334402\n",
      "[78]\tvalid_0's binary_logloss: 0.0334402\n",
      "[79]\tvalid_0's binary_logloss: 0.0334402\n",
      "[80]\tvalid_0's binary_logloss: 0.0334402\n",
      "[81]\tvalid_0's binary_logloss: 0.0334402\n",
      "[82]\tvalid_0's binary_logloss: 0.0334402\n",
      "[83]\tvalid_0's binary_logloss: 0.0334402\n",
      "[84]\tvalid_0's binary_logloss: 0.0334402\n",
      "[85]\tvalid_0's binary_logloss: 0.0334402\n",
      "[86]\tvalid_0's binary_logloss: 0.0334402\n",
      "[87]\tvalid_0's binary_logloss: 0.0334402\n",
      "[88]\tvalid_0's binary_logloss: 0.0334402\n",
      "[89]\tvalid_0's binary_logloss: 0.0334402\n",
      "[90]\tvalid_0's binary_logloss: 0.0334402\n",
      "[91]\tvalid_0's binary_logloss: 0.0334402\n",
      "[92]\tvalid_0's binary_logloss: 0.0334402\n",
      "[93]\tvalid_0's binary_logloss: 0.0334402\n",
      "[94]\tvalid_0's binary_logloss: 0.0334402\n",
      "[95]\tvalid_0's binary_logloss: 0.0334402\n",
      "[96]\tvalid_0's binary_logloss: 0.0334402\n",
      "[97]\tvalid_0's binary_logloss: 0.0334402\n",
      "[98]\tvalid_0's binary_logloss: 0.0334402\n",
      "[99]\tvalid_0's binary_logloss: 0.0334402\n",
      "[100]\tvalid_0's binary_logloss: 0.0334402\n"
     ]
    },
    {
     "name": "stderr",
     "output_type": "stream",
     "text": [
      "\u001b[32m[I 2023-03-12 21:21:11,046]\u001b[0m Trial 2 finished with value: 0.03343455702567408 and parameters: {'max_depth': 8, 'num_leaves': 23}. Best is trial 1 with value: 0.033310783087823544.\u001b[0m\n"
     ]
    },
    {
     "name": "stdout",
     "output_type": "stream",
     "text": [
      "[101]\tvalid_0's binary_logloss: 0.0334402\n",
      "[102]\tvalid_0's binary_logloss: 0.0334402\n",
      "[103]\tvalid_0's binary_logloss: 0.0334402\n",
      "[104]\tvalid_0's binary_logloss: 0.0334402\n",
      "[105]\tvalid_0's binary_logloss: 0.0334402\n",
      "[106]\tvalid_0's binary_logloss: 0.0334346\n",
      "[107]\tvalid_0's binary_logloss: 0.0334346\n",
      "[108]\tvalid_0's binary_logloss: 0.0334346\n",
      "[109]\tvalid_0's binary_logloss: 0.0334346\n",
      "[110]\tvalid_0's binary_logloss: 0.0334346\n",
      "[111]\tvalid_0's binary_logloss: 0.0334346\n",
      "[112]\tvalid_0's binary_logloss: 0.0334346\n",
      "[113]\tvalid_0's binary_logloss: 0.0334346\n",
      "[114]\tvalid_0's binary_logloss: 0.0334346\n",
      "[115]\tvalid_0's binary_logloss: 0.0334346\n",
      "[116]\tvalid_0's binary_logloss: 0.0334346\n",
      "[117]\tvalid_0's binary_logloss: 0.0334346\n",
      "[118]\tvalid_0's binary_logloss: 0.0334346\n",
      "[119]\tvalid_0's binary_logloss: 0.0334346\n",
      "[120]\tvalid_0's binary_logloss: 0.0334346\n",
      "[121]\tvalid_0's binary_logloss: 0.0334346\n",
      "[122]\tvalid_0's binary_logloss: 0.0334346\n",
      "[123]\tvalid_0's binary_logloss: 0.0334346\n",
      "[124]\tvalid_0's binary_logloss: 0.0334346\n",
      "[125]\tvalid_0's binary_logloss: 0.0334346\n",
      "[126]\tvalid_0's binary_logloss: 0.0334346\n",
      "[127]\tvalid_0's binary_logloss: 0.0334346\n",
      "[128]\tvalid_0's binary_logloss: 0.0334346\n",
      "[LightGBM] [Warning] feature_fraction is set=1.0, colsample_bytree=1.0 will be ignored. Current value: feature_fraction=1.0\n",
      "[LightGBM] [Warning] min_data_in_leaf is set=32, min_child_samples=20 will be ignored. Current value: min_data_in_leaf=32\n",
      "[LightGBM] [Warning] min_gain_to_split is set=3.0, min_split_gain=0.0 will be ignored. Current value: min_gain_to_split=3.0\n",
      "[LightGBM] [Warning] bagging_fraction is set=1.0, subsample=1.0 will be ignored. Current value: bagging_fraction=1.0\n"
     ]
    },
    {
     "name": "stderr",
     "output_type": "stream",
     "text": [
      "c:\\ProgramData\\Anaconda3\\lib\\site-packages\\lightgbm\\sklearn.py:726: UserWarning:\n",
      "\n",
      "'early_stopping_rounds' argument is deprecated and will be removed in a future release of LightGBM. Pass 'early_stopping()' callback via 'callbacks' argument instead.\n",
      "\n"
     ]
    },
    {
     "name": "stdout",
     "output_type": "stream",
     "text": [
      "[1]\tvalid_0's binary_logloss: 0.227343\n",
      "[2]\tvalid_0's binary_logloss: 0.192606\n",
      "[3]\tvalid_0's binary_logloss: 0.168309\n",
      "[4]\tvalid_0's binary_logloss: 0.149588\n",
      "[5]\tvalid_0's binary_logloss: 0.134371\n",
      "[6]\tvalid_0's binary_logloss: 0.121746\n",
      "[7]\tvalid_0's binary_logloss: 0.11105\n",
      "[8]\tvalid_0's binary_logloss: 0.101925\n",
      "[9]\tvalid_0's binary_logloss: 0.0940154\n",
      "[10]\tvalid_0's binary_logloss: 0.0871162\n",
      "[11]\tvalid_0's binary_logloss: 0.0810935\n",
      "[12]\tvalid_0's binary_logloss: 0.0758212\n",
      "[13]\tvalid_0's binary_logloss: 0.07118\n",
      "[14]\tvalid_0's binary_logloss: 0.0670579\n",
      "[15]\tvalid_0's binary_logloss: 0.063392\n",
      "[16]\tvalid_0's binary_logloss: 0.0601696\n",
      "[17]\tvalid_0's binary_logloss: 0.0572745\n",
      "[18]\tvalid_0's binary_logloss: 0.0547202\n",
      "[19]\tvalid_0's binary_logloss: 0.052502\n",
      "[20]\tvalid_0's binary_logloss: 0.0504758\n",
      "[21]\tvalid_0's binary_logloss: 0.0487379\n",
      "[22]\tvalid_0's binary_logloss: 0.0471296\n",
      "[23]\tvalid_0's binary_logloss: 0.0456947\n",
      "[24]\tvalid_0's binary_logloss: 0.0444614\n",
      "[25]\tvalid_0's binary_logloss: 0.0432991\n",
      "[26]\tvalid_0's binary_logloss: 0.0422493\n",
      "[27]\tvalid_0's binary_logloss: 0.0413268\n",
      "[28]\tvalid_0's binary_logloss: 0.0405161\n",
      "[29]\tvalid_0's binary_logloss: 0.0397696\n",
      "[30]\tvalid_0's binary_logloss: 0.0391054\n",
      "[31]\tvalid_0's binary_logloss: 0.0385218\n",
      "[32]\tvalid_0's binary_logloss: 0.0379442\n",
      "[33]\tvalid_0's binary_logloss: 0.0374674\n",
      "[34]\tvalid_0's binary_logloss: 0.0369937\n",
      "[35]\tvalid_0's binary_logloss: 0.0365879\n",
      "[36]\tvalid_0's binary_logloss: 0.0362322\n",
      "[37]\tvalid_0's binary_logloss: 0.035896\n",
      "[38]\tvalid_0's binary_logloss: 0.0356066\n",
      "[39]\tvalid_0's binary_logloss: 0.0353998\n",
      "[40]\tvalid_0's binary_logloss: 0.035197\n",
      "[41]\tvalid_0's binary_logloss: 0.0350032\n",
      "[42]\tvalid_0's binary_logloss: 0.0348354\n",
      "[43]\tvalid_0's binary_logloss: 0.0346305\n",
      "[44]\tvalid_0's binary_logloss: 0.0345104\n",
      "[45]\tvalid_0's binary_logloss: 0.0343981\n",
      "[46]\tvalid_0's binary_logloss: 0.0342504\n",
      "[47]\tvalid_0's binary_logloss: 0.0341408\n",
      "[48]\tvalid_0's binary_logloss: 0.0340521\n",
      "[49]\tvalid_0's binary_logloss: 0.0340052\n",
      "[50]\tvalid_0's binary_logloss: 0.0339597\n",
      "[51]\tvalid_0's binary_logloss: 0.0338994\n",
      "[52]\tvalid_0's binary_logloss: 0.0338123\n",
      "[53]\tvalid_0's binary_logloss: 0.0337487\n",
      "[54]\tvalid_0's binary_logloss: 0.0337065\n",
      "[55]\tvalid_0's binary_logloss: 0.0336831\n",
      "[56]\tvalid_0's binary_logloss: 0.0336162\n",
      "[57]\tvalid_0's binary_logloss: 0.0335919\n",
      "[58]\tvalid_0's binary_logloss: 0.033531\n",
      "[59]\tvalid_0's binary_logloss: 0.0335036\n",
      "[60]\tvalid_0's binary_logloss: 0.0334674\n",
      "[61]\tvalid_0's binary_logloss: 0.0334144\n",
      "[62]\tvalid_0's binary_logloss: 0.0334007\n",
      "[63]\tvalid_0's binary_logloss: 0.0333927\n"
     ]
    },
    {
     "name": "stderr",
     "output_type": "stream",
     "text": [
      "\u001b[32m[I 2023-03-12 21:21:11,503]\u001b[0m Trial 3 finished with value: 0.033310783087823544 and parameters: {'max_depth': 4, 'num_leaves': 22}. Best is trial 1 with value: 0.033310783087823544.\u001b[0m\n"
     ]
    },
    {
     "name": "stdout",
     "output_type": "stream",
     "text": [
      "[64]\tvalid_0's binary_logloss: 0.0333564\n",
      "[65]\tvalid_0's binary_logloss: 0.0333476\n",
      "[66]\tvalid_0's binary_logloss: 0.0333476\n",
      "[67]\tvalid_0's binary_logloss: 0.0333457\n",
      "[68]\tvalid_0's binary_logloss: 0.0333457\n",
      "[69]\tvalid_0's binary_logloss: 0.03334\n",
      "[70]\tvalid_0's binary_logloss: 0.03334\n",
      "[71]\tvalid_0's binary_logloss: 0.033322\n",
      "[72]\tvalid_0's binary_logloss: 0.033322\n",
      "[73]\tvalid_0's binary_logloss: 0.033322\n",
      "[74]\tvalid_0's binary_logloss: 0.0333173\n",
      "[75]\tvalid_0's binary_logloss: 0.0333173\n",
      "[76]\tvalid_0's binary_logloss: 0.0333173\n",
      "[77]\tvalid_0's binary_logloss: 0.0333173\n",
      "[78]\tvalid_0's binary_logloss: 0.0333169\n",
      "[79]\tvalid_0's binary_logloss: 0.0333169\n",
      "[80]\tvalid_0's binary_logloss: 0.0333169\n",
      "[81]\tvalid_0's binary_logloss: 0.0333169\n",
      "[82]\tvalid_0's binary_logloss: 0.0333169\n",
      "[83]\tvalid_0's binary_logloss: 0.0333169\n",
      "[84]\tvalid_0's binary_logloss: 0.0333169\n",
      "[85]\tvalid_0's binary_logloss: 0.0333169\n",
      "[86]\tvalid_0's binary_logloss: 0.0333169\n",
      "[87]\tvalid_0's binary_logloss: 0.0333169\n",
      "[88]\tvalid_0's binary_logloss: 0.0333169\n",
      "[89]\tvalid_0's binary_logloss: 0.0333169\n",
      "[90]\tvalid_0's binary_logloss: 0.0333169\n",
      "[91]\tvalid_0's binary_logloss: 0.0333169\n",
      "[92]\tvalid_0's binary_logloss: 0.0333108\n",
      "[93]\tvalid_0's binary_logloss: 0.0333108\n",
      "[94]\tvalid_0's binary_logloss: 0.0333108\n",
      "[95]\tvalid_0's binary_logloss: 0.0333108\n",
      "[96]\tvalid_0's binary_logloss: 0.0333108\n",
      "[97]\tvalid_0's binary_logloss: 0.0333108\n",
      "[98]\tvalid_0's binary_logloss: 0.0333108\n",
      "[99]\tvalid_0's binary_logloss: 0.0333108\n",
      "[100]\tvalid_0's binary_logloss: 0.0333108\n",
      "[101]\tvalid_0's binary_logloss: 0.0333108\n",
      "[102]\tvalid_0's binary_logloss: 0.0333108\n",
      "[103]\tvalid_0's binary_logloss: 0.0333108\n",
      "[104]\tvalid_0's binary_logloss: 0.0333108\n",
      "[105]\tvalid_0's binary_logloss: 0.0333108\n",
      "[106]\tvalid_0's binary_logloss: 0.0333108\n",
      "[107]\tvalid_0's binary_logloss: 0.0333108\n",
      "[108]\tvalid_0's binary_logloss: 0.0333108\n",
      "[109]\tvalid_0's binary_logloss: 0.0333108\n",
      "[110]\tvalid_0's binary_logloss: 0.0333108\n",
      "[111]\tvalid_0's binary_logloss: 0.0333108\n",
      "[112]\tvalid_0's binary_logloss: 0.0333108\n",
      "[113]\tvalid_0's binary_logloss: 0.0333108\n",
      "[114]\tvalid_0's binary_logloss: 0.0333108\n",
      "[115]\tvalid_0's binary_logloss: 0.0333108\n",
      "[116]\tvalid_0's binary_logloss: 0.0333108\n",
      "[117]\tvalid_0's binary_logloss: 0.0333108\n",
      "[118]\tvalid_0's binary_logloss: 0.0333108\n",
      "[119]\tvalid_0's binary_logloss: 0.0333108\n",
      "[120]\tvalid_0's binary_logloss: 0.0333108\n",
      "[121]\tvalid_0's binary_logloss: 0.0333108\n",
      "[122]\tvalid_0's binary_logloss: 0.0333108\n",
      "[123]\tvalid_0's binary_logloss: 0.0333108\n",
      "[124]\tvalid_0's binary_logloss: 0.0333108\n",
      "[125]\tvalid_0's binary_logloss: 0.0333108\n",
      "[126]\tvalid_0's binary_logloss: 0.0333108\n",
      "[127]\tvalid_0's binary_logloss: 0.0333108\n",
      "[128]\tvalid_0's binary_logloss: 0.0333108\n",
      "[LightGBM] [Warning] feature_fraction is set=1.0, colsample_bytree=1.0 will be ignored. Current value: feature_fraction=1.0\n",
      "[LightGBM] [Warning] min_data_in_leaf is set=32, min_child_samples=20 will be ignored. Current value: min_data_in_leaf=32\n",
      "[LightGBM] [Warning] min_gain_to_split is set=3.0, min_split_gain=0.0 will be ignored. Current value: min_gain_to_split=3.0\n",
      "[LightGBM] [Warning] bagging_fraction is set=1.0, subsample=1.0 will be ignored. Current value: bagging_fraction=1.0\n"
     ]
    },
    {
     "name": "stderr",
     "output_type": "stream",
     "text": [
      "c:\\ProgramData\\Anaconda3\\lib\\site-packages\\lightgbm\\sklearn.py:726: UserWarning:\n",
      "\n",
      "'early_stopping_rounds' argument is deprecated and will be removed in a future release of LightGBM. Pass 'early_stopping()' callback via 'callbacks' argument instead.\n",
      "\n"
     ]
    },
    {
     "name": "stdout",
     "output_type": "stream",
     "text": [
      "[1]\tvalid_0's binary_logloss: 0.227288\n",
      "[2]\tvalid_0's binary_logloss: 0.192724\n",
      "[3]\tvalid_0's binary_logloss: 0.168303\n",
      "[4]\tvalid_0's binary_logloss: 0.14957\n",
      "[5]\tvalid_0's binary_logloss: 0.134265\n",
      "[6]\tvalid_0's binary_logloss: 0.121611\n",
      "[7]\tvalid_0's binary_logloss: 0.110978\n",
      "[8]\tvalid_0's binary_logloss: 0.10178\n",
      "[9]\tvalid_0's binary_logloss: 0.0938584\n",
      "[10]\tvalid_0's binary_logloss: 0.0869661\n",
      "[11]\tvalid_0's binary_logloss: 0.0809661\n",
      "[12]\tvalid_0's binary_logloss: 0.0756841\n",
      "[13]\tvalid_0's binary_logloss: 0.0709982\n",
      "[14]\tvalid_0's binary_logloss: 0.0668902\n",
      "[15]\tvalid_0's binary_logloss: 0.063243\n",
      "[16]\tvalid_0's binary_logloss: 0.0599764\n",
      "[17]\tvalid_0's binary_logloss: 0.0571164\n",
      "[18]\tvalid_0's binary_logloss: 0.0545501\n",
      "[19]\tvalid_0's binary_logloss: 0.0522634\n",
      "[20]\tvalid_0's binary_logloss: 0.0502565\n",
      "[21]\tvalid_0's binary_logloss: 0.0484317\n",
      "[22]\tvalid_0's binary_logloss: 0.0468064\n",
      "[23]\tvalid_0's binary_logloss: 0.0453511\n",
      "[24]\tvalid_0's binary_logloss: 0.044056\n",
      "[25]\tvalid_0's binary_logloss: 0.042907\n",
      "[26]\tvalid_0's binary_logloss: 0.0419067\n",
      "[27]\tvalid_0's binary_logloss: 0.0410159\n",
      "[28]\tvalid_0's binary_logloss: 0.0401901\n",
      "[29]\tvalid_0's binary_logloss: 0.0394659\n",
      "[30]\tvalid_0's binary_logloss: 0.0387882\n",
      "[31]\tvalid_0's binary_logloss: 0.0382109\n",
      "[32]\tvalid_0's binary_logloss: 0.0376991\n",
      "[33]\tvalid_0's binary_logloss: 0.0372337\n",
      "[34]\tvalid_0's binary_logloss: 0.0367753\n",
      "[35]\tvalid_0's binary_logloss: 0.0364168\n",
      "[36]\tvalid_0's binary_logloss: 0.0361179\n",
      "[37]\tvalid_0's binary_logloss: 0.035827\n",
      "[38]\tvalid_0's binary_logloss: 0.0355296\n",
      "[39]\tvalid_0's binary_logloss: 0.0353062\n",
      "[40]\tvalid_0's binary_logloss: 0.0350609\n",
      "[41]\tvalid_0's binary_logloss: 0.0348382\n",
      "[42]\tvalid_0's binary_logloss: 0.0346472\n",
      "[43]\tvalid_0's binary_logloss: 0.0345207\n",
      "[44]\tvalid_0's binary_logloss: 0.0343474\n",
      "[45]\tvalid_0's binary_logloss: 0.0342331\n",
      "[46]\tvalid_0's binary_logloss: 0.0340923\n",
      "[47]\tvalid_0's binary_logloss: 0.0340241\n",
      "[48]\tvalid_0's binary_logloss: 0.0339796\n",
      "[49]\tvalid_0's binary_logloss: 0.033921\n",
      "[50]\tvalid_0's binary_logloss: 0.0338664\n",
      "[51]\tvalid_0's binary_logloss: 0.0337907\n",
      "[52]\tvalid_0's binary_logloss: 0.0337213\n",
      "[53]\tvalid_0's binary_logloss: 0.0336814\n",
      "[54]\tvalid_0's binary_logloss: 0.0336501\n",
      "[55]\tvalid_0's binary_logloss: 0.0335832\n",
      "[56]\tvalid_0's binary_logloss: 0.0335524\n",
      "[57]\tvalid_0's binary_logloss: 0.0335318\n",
      "[58]\tvalid_0's binary_logloss: 0.0335165\n",
      "[59]\tvalid_0's binary_logloss: 0.0334913\n",
      "[60]\tvalid_0's binary_logloss: 0.0334861\n",
      "[61]\tvalid_0's binary_logloss: 0.0334713\n",
      "[62]\tvalid_0's binary_logloss: 0.0334687\n",
      "[63]\tvalid_0's binary_logloss: 0.0334685\n",
      "[64]\tvalid_0's binary_logloss: 0.0334662\n",
      "[65]\tvalid_0's binary_logloss: 0.0334526\n",
      "[66]\tvalid_0's binary_logloss: 0.0334516\n",
      "[67]\tvalid_0's binary_logloss: 0.0334493\n",
      "[68]\tvalid_0's binary_logloss: 0.0334432\n",
      "[69]\tvalid_0's binary_logloss: 0.0334432\n",
      "[70]\tvalid_0's binary_logloss: 0.0334432\n",
      "[71]\tvalid_0's binary_logloss: 0.0334432\n",
      "[72]\tvalid_0's binary_logloss: 0.0334432\n",
      "[73]\tvalid_0's binary_logloss: 0.0334379\n",
      "[74]\tvalid_0's binary_logloss: 0.0334337\n",
      "[75]\tvalid_0's binary_logloss: 0.0334312\n",
      "[76]\tvalid_0's binary_logloss: 0.0334312\n",
      "[77]\tvalid_0's binary_logloss: 0.0334312\n",
      "[78]\tvalid_0's binary_logloss: 0.0334312\n",
      "[79]\tvalid_0's binary_logloss: 0.0334312\n",
      "[80]\tvalid_0's binary_logloss: 0.0334312\n",
      "[81]\tvalid_0's binary_logloss: 0.0334312\n",
      "[82]\tvalid_0's binary_logloss: 0.0334312\n",
      "[83]\tvalid_0's binary_logloss: 0.0334312\n",
      "[84]\tvalid_0's binary_logloss: 0.0334312\n"
     ]
    },
    {
     "name": "stderr",
     "output_type": "stream",
     "text": [
      "\u001b[32m[I 2023-03-12 21:21:11,917]\u001b[0m Trial 4 finished with value: 0.03342134852720442 and parameters: {'max_depth': 8, 'num_leaves': 13}. Best is trial 1 with value: 0.033310783087823544.\u001b[0m\n"
     ]
    },
    {
     "name": "stdout",
     "output_type": "stream",
     "text": [
      "[85]\tvalid_0's binary_logloss: 0.0334312\n",
      "[86]\tvalid_0's binary_logloss: 0.0334312\n",
      "[87]\tvalid_0's binary_logloss: 0.0334312\n",
      "[88]\tvalid_0's binary_logloss: 0.0334312\n",
      "[89]\tvalid_0's binary_logloss: 0.0334312\n",
      "[90]\tvalid_0's binary_logloss: 0.0334294\n",
      "[91]\tvalid_0's binary_logloss: 0.0334294\n",
      "[92]\tvalid_0's binary_logloss: 0.0334294\n",
      "[93]\tvalid_0's binary_logloss: 0.0334294\n",
      "[94]\tvalid_0's binary_logloss: 0.0334294\n",
      "[95]\tvalid_0's binary_logloss: 0.0334294\n",
      "[96]\tvalid_0's binary_logloss: 0.0334294\n",
      "[97]\tvalid_0's binary_logloss: 0.0334294\n",
      "[98]\tvalid_0's binary_logloss: 0.0334294\n",
      "[99]\tvalid_0's binary_logloss: 0.0334294\n",
      "[100]\tvalid_0's binary_logloss: 0.0334294\n",
      "[101]\tvalid_0's binary_logloss: 0.0334294\n",
      "[102]\tvalid_0's binary_logloss: 0.0334233\n",
      "[103]\tvalid_0's binary_logloss: 0.0334233\n",
      "[104]\tvalid_0's binary_logloss: 0.0334233\n",
      "[105]\tvalid_0's binary_logloss: 0.0334233\n",
      "[106]\tvalid_0's binary_logloss: 0.0334233\n",
      "[107]\tvalid_0's binary_logloss: 0.0334233\n",
      "[108]\tvalid_0's binary_logloss: 0.0334233\n",
      "[109]\tvalid_0's binary_logloss: 0.0334233\n",
      "[110]\tvalid_0's binary_logloss: 0.0334233\n",
      "[111]\tvalid_0's binary_logloss: 0.0334233\n",
      "[112]\tvalid_0's binary_logloss: 0.0334233\n",
      "[113]\tvalid_0's binary_logloss: 0.0334233\n",
      "[114]\tvalid_0's binary_logloss: 0.0334233\n",
      "[115]\tvalid_0's binary_logloss: 0.0334233\n",
      "[116]\tvalid_0's binary_logloss: 0.0334233\n",
      "[117]\tvalid_0's binary_logloss: 0.0334233\n",
      "[118]\tvalid_0's binary_logloss: 0.0334233\n",
      "[119]\tvalid_0's binary_logloss: 0.0334213\n",
      "[120]\tvalid_0's binary_logloss: 0.0334213\n",
      "[121]\tvalid_0's binary_logloss: 0.0334213\n",
      "[122]\tvalid_0's binary_logloss: 0.0334213\n",
      "[123]\tvalid_0's binary_logloss: 0.0334213\n",
      "[124]\tvalid_0's binary_logloss: 0.0334213\n",
      "[125]\tvalid_0's binary_logloss: 0.0334213\n",
      "[126]\tvalid_0's binary_logloss: 0.0334213\n",
      "[127]\tvalid_0's binary_logloss: 0.0334213\n",
      "[128]\tvalid_0's binary_logloss: 0.0334213\n",
      "[LightGBM] [Warning] feature_fraction is set=1.0, colsample_bytree=1.0 will be ignored. Current value: feature_fraction=1.0\n",
      "[LightGBM] [Warning] min_data_in_leaf is set=32, min_child_samples=20 will be ignored. Current value: min_data_in_leaf=32\n",
      "[LightGBM] [Warning] min_gain_to_split is set=3.0, min_split_gain=0.0 will be ignored. Current value: min_gain_to_split=3.0\n",
      "[LightGBM] [Warning] bagging_fraction is set=1.0, subsample=1.0 will be ignored. Current value: bagging_fraction=1.0\n"
     ]
    },
    {
     "name": "stderr",
     "output_type": "stream",
     "text": [
      "c:\\ProgramData\\Anaconda3\\lib\\site-packages\\lightgbm\\sklearn.py:726: UserWarning:\n",
      "\n",
      "'early_stopping_rounds' argument is deprecated and will be removed in a future release of LightGBM. Pass 'early_stopping()' callback via 'callbacks' argument instead.\n",
      "\n"
     ]
    },
    {
     "name": "stdout",
     "output_type": "stream",
     "text": [
      "[1]\tvalid_0's binary_logloss: 0.22727\n",
      "[2]\tvalid_0's binary_logloss: 0.192696\n",
      "[3]\tvalid_0's binary_logloss: 0.16828\n",
      "[4]\tvalid_0's binary_logloss: 0.149537\n",
      "[5]\tvalid_0's binary_logloss: 0.134223\n",
      "[6]\tvalid_0's binary_logloss: 0.121583\n",
      "[7]\tvalid_0's binary_logloss: 0.110842\n",
      "[8]\tvalid_0's binary_logloss: 0.101711\n",
      "[9]\tvalid_0's binary_logloss: 0.0938095\n",
      "[10]\tvalid_0's binary_logloss: 0.0868931\n",
      "[11]\tvalid_0's binary_logloss: 0.0808953\n",
      "[12]\tvalid_0's binary_logloss: 0.0756127\n",
      "[13]\tvalid_0's binary_logloss: 0.070965\n",
      "[14]\tvalid_0's binary_logloss: 0.0668433\n",
      "[15]\tvalid_0's binary_logloss: 0.0631811\n",
      "[16]\tvalid_0's binary_logloss: 0.0599253\n",
      "[17]\tvalid_0's binary_logloss: 0.0570631\n",
      "[18]\tvalid_0's binary_logloss: 0.054486\n",
      "[19]\tvalid_0's binary_logloss: 0.0522132\n",
      "[20]\tvalid_0's binary_logloss: 0.0501857\n",
      "[21]\tvalid_0's binary_logloss: 0.048351\n",
      "[22]\tvalid_0's binary_logloss: 0.0466983\n",
      "[23]\tvalid_0's binary_logloss: 0.0452655\n",
      "[24]\tvalid_0's binary_logloss: 0.0439782\n",
      "[25]\tvalid_0's binary_logloss: 0.0428217\n",
      "[26]\tvalid_0's binary_logloss: 0.0418181\n",
      "[27]\tvalid_0's binary_logloss: 0.0408843\n",
      "[28]\tvalid_0's binary_logloss: 0.0400755\n",
      "[29]\tvalid_0's binary_logloss: 0.0393577\n",
      "[30]\tvalid_0's binary_logloss: 0.0387189\n",
      "[31]\tvalid_0's binary_logloss: 0.0381203\n",
      "[32]\tvalid_0's binary_logloss: 0.037585\n",
      "[33]\tvalid_0's binary_logloss: 0.037181\n",
      "[34]\tvalid_0's binary_logloss: 0.0367686\n",
      "[35]\tvalid_0's binary_logloss: 0.0364312\n",
      "[36]\tvalid_0's binary_logloss: 0.0361215\n",
      "[37]\tvalid_0's binary_logloss: 0.0358135\n",
      "[38]\tvalid_0's binary_logloss: 0.0355194\n",
      "[39]\tvalid_0's binary_logloss: 0.0352958\n",
      "[40]\tvalid_0's binary_logloss: 0.0350497\n",
      "[41]\tvalid_0's binary_logloss: 0.034896\n",
      "[42]\tvalid_0's binary_logloss: 0.034757\n",
      "[43]\tvalid_0's binary_logloss: 0.0345804\n",
      "[44]\tvalid_0's binary_logloss: 0.0344351\n",
      "[45]\tvalid_0's binary_logloss: 0.0343336\n",
      "[46]\tvalid_0's binary_logloss: 0.0342267\n",
      "[47]\tvalid_0's binary_logloss: 0.0341211\n",
      "[48]\tvalid_0's binary_logloss: 0.0340696\n",
      "[49]\tvalid_0's binary_logloss: 0.034\n",
      "[50]\tvalid_0's binary_logloss: 0.0339244\n",
      "[51]\tvalid_0's binary_logloss: 0.0338672\n",
      "[52]\tvalid_0's binary_logloss: 0.0338267\n",
      "[53]\tvalid_0's binary_logloss: 0.0337565\n",
      "[54]\tvalid_0's binary_logloss: 0.0337407\n",
      "[55]\tvalid_0's binary_logloss: 0.0336884\n",
      "[56]\tvalid_0's binary_logloss: 0.0336381\n",
      "[57]\tvalid_0's binary_logloss: 0.0336214\n",
      "[58]\tvalid_0's binary_logloss: 0.0336094\n",
      "[59]\tvalid_0's binary_logloss: 0.0335797\n",
      "[60]\tvalid_0's binary_logloss: 0.0335546\n",
      "[61]\tvalid_0's binary_logloss: 0.0335529\n",
      "[62]\tvalid_0's binary_logloss: 0.0335479\n",
      "[63]\tvalid_0's binary_logloss: 0.0335344\n",
      "[64]\tvalid_0's binary_logloss: 0.0335179\n",
      "[65]\tvalid_0's binary_logloss: 0.0335003\n",
      "[66]\tvalid_0's binary_logloss: 0.0335003\n",
      "[67]\tvalid_0's binary_logloss: 0.0334977\n",
      "[68]\tvalid_0's binary_logloss: 0.0334977\n",
      "[69]\tvalid_0's binary_logloss: 0.0334977\n",
      "[70]\tvalid_0's binary_logloss: 0.0334923\n",
      "[71]\tvalid_0's binary_logloss: 0.0334923\n",
      "[72]\tvalid_0's binary_logloss: 0.03348\n",
      "[73]\tvalid_0's binary_logloss: 0.03348\n",
      "[74]\tvalid_0's binary_logloss: 0.03348\n",
      "[75]\tvalid_0's binary_logloss: 0.03348\n",
      "[76]\tvalid_0's binary_logloss: 0.03348\n",
      "[77]\tvalid_0's binary_logloss: 0.03348\n",
      "[78]\tvalid_0's binary_logloss: 0.03348\n",
      "[79]\tvalid_0's binary_logloss: 0.03348\n",
      "[80]\tvalid_0's binary_logloss: 0.03348\n",
      "[81]\tvalid_0's binary_logloss: 0.03348\n",
      "[82]\tvalid_0's binary_logloss: 0.03348\n",
      "[83]\tvalid_0's binary_logloss: 0.033473\n",
      "[84]\tvalid_0's binary_logloss: 0.033473\n",
      "[85]\tvalid_0's binary_logloss: 0.033473\n"
     ]
    },
    {
     "name": "stderr",
     "output_type": "stream",
     "text": [
      "\u001b[32m[I 2023-03-12 21:21:12,318]\u001b[0m Trial 5 finished with value: 0.033468105281269075 and parameters: {'max_depth': 9, 'num_leaves': 14}. Best is trial 1 with value: 0.033310783087823544.\u001b[0m\n"
     ]
    },
    {
     "name": "stdout",
     "output_type": "stream",
     "text": [
      "[86]\tvalid_0's binary_logloss: 0.033473\n",
      "[87]\tvalid_0's binary_logloss: 0.033473\n",
      "[88]\tvalid_0's binary_logloss: 0.033473\n",
      "[89]\tvalid_0's binary_logloss: 0.033473\n",
      "[90]\tvalid_0's binary_logloss: 0.033473\n",
      "[91]\tvalid_0's binary_logloss: 0.033473\n",
      "[92]\tvalid_0's binary_logloss: 0.033473\n",
      "[93]\tvalid_0's binary_logloss: 0.033473\n",
      "[94]\tvalid_0's binary_logloss: 0.033473\n",
      "[95]\tvalid_0's binary_logloss: 0.033473\n",
      "[96]\tvalid_0's binary_logloss: 0.033473\n",
      "[97]\tvalid_0's binary_logloss: 0.033473\n",
      "[98]\tvalid_0's binary_logloss: 0.0334681\n",
      "[99]\tvalid_0's binary_logloss: 0.0334681\n",
      "[100]\tvalid_0's binary_logloss: 0.0334681\n",
      "[101]\tvalid_0's binary_logloss: 0.0334681\n",
      "[102]\tvalid_0's binary_logloss: 0.0334681\n",
      "[103]\tvalid_0's binary_logloss: 0.0334681\n",
      "[104]\tvalid_0's binary_logloss: 0.0334681\n",
      "[105]\tvalid_0's binary_logloss: 0.0334681\n",
      "[106]\tvalid_0's binary_logloss: 0.0334681\n",
      "[107]\tvalid_0's binary_logloss: 0.0334681\n",
      "[108]\tvalid_0's binary_logloss: 0.0334681\n",
      "[109]\tvalid_0's binary_logloss: 0.0334681\n",
      "[110]\tvalid_0's binary_logloss: 0.0334681\n",
      "[111]\tvalid_0's binary_logloss: 0.0334681\n",
      "[112]\tvalid_0's binary_logloss: 0.0334681\n",
      "[113]\tvalid_0's binary_logloss: 0.0334681\n",
      "[114]\tvalid_0's binary_logloss: 0.0334681\n",
      "[115]\tvalid_0's binary_logloss: 0.0334681\n",
      "[116]\tvalid_0's binary_logloss: 0.0334681\n",
      "[117]\tvalid_0's binary_logloss: 0.0334681\n",
      "[118]\tvalid_0's binary_logloss: 0.0334681\n",
      "[119]\tvalid_0's binary_logloss: 0.0334681\n",
      "[120]\tvalid_0's binary_logloss: 0.0334681\n",
      "[121]\tvalid_0's binary_logloss: 0.0334681\n",
      "[122]\tvalid_0's binary_logloss: 0.0334681\n",
      "[123]\tvalid_0's binary_logloss: 0.0334681\n",
      "[124]\tvalid_0's binary_logloss: 0.0334681\n",
      "[125]\tvalid_0's binary_logloss: 0.0334681\n",
      "[126]\tvalid_0's binary_logloss: 0.0334681\n",
      "[127]\tvalid_0's binary_logloss: 0.0334681\n",
      "[128]\tvalid_0's binary_logloss: 0.0334681\n",
      "[LightGBM] [Warning] feature_fraction is set=1.0, colsample_bytree=1.0 will be ignored. Current value: feature_fraction=1.0\n",
      "[LightGBM] [Warning] min_data_in_leaf is set=32, min_child_samples=20 will be ignored. Current value: min_data_in_leaf=32\n",
      "[LightGBM] [Warning] min_gain_to_split is set=3.0, min_split_gain=0.0 will be ignored. Current value: min_gain_to_split=3.0\n",
      "[LightGBM] [Warning] bagging_fraction is set=1.0, subsample=1.0 will be ignored. Current value: bagging_fraction=1.0\n",
      "[1]\tvalid_0's binary_logloss: 0.227215\n",
      "[2]\tvalid_0's binary_logloss: 0.192475\n",
      "[3]\tvalid_0's binary_logloss: 0.168232\n",
      "[4]\tvalid_0's binary_logloss: 0.149424\n",
      "[5]\tvalid_0's binary_logloss: 0.134054\n",
      "[6]\tvalid_0's binary_logloss: 0.121352\n",
      "[7]\tvalid_0's binary_logloss: 0.110643\n"
     ]
    },
    {
     "name": "stderr",
     "output_type": "stream",
     "text": [
      "c:\\ProgramData\\Anaconda3\\lib\\site-packages\\lightgbm\\sklearn.py:726: UserWarning:\n",
      "\n",
      "'early_stopping_rounds' argument is deprecated and will be removed in a future release of LightGBM. Pass 'early_stopping()' callback via 'callbacks' argument instead.\n",
      "\n"
     ]
    },
    {
     "name": "stdout",
     "output_type": "stream",
     "text": [
      "[8]\tvalid_0's binary_logloss: 0.101457\n",
      "[9]\tvalid_0's binary_logloss: 0.0935106\n",
      "[10]\tvalid_0's binary_logloss: 0.0865868\n",
      "[11]\tvalid_0's binary_logloss: 0.0805617\n",
      "[12]\tvalid_0's binary_logloss: 0.0752919\n",
      "[13]\tvalid_0's binary_logloss: 0.070628\n",
      "[14]\tvalid_0's binary_logloss: 0.0665252\n",
      "[15]\tvalid_0's binary_logloss: 0.0628956\n",
      "[16]\tvalid_0's binary_logloss: 0.0596648\n",
      "[17]\tvalid_0's binary_logloss: 0.0567882\n",
      "[18]\tvalid_0's binary_logloss: 0.0541874\n",
      "[19]\tvalid_0's binary_logloss: 0.0519045\n",
      "[20]\tvalid_0's binary_logloss: 0.0499175\n",
      "[21]\tvalid_0's binary_logloss: 0.0481073\n",
      "[22]\tvalid_0's binary_logloss: 0.046456\n",
      "[23]\tvalid_0's binary_logloss: 0.0450175\n",
      "[24]\tvalid_0's binary_logloss: 0.0437188\n",
      "[25]\tvalid_0's binary_logloss: 0.0425805\n",
      "[26]\tvalid_0's binary_logloss: 0.0415665\n",
      "[27]\tvalid_0's binary_logloss: 0.040657\n",
      "[28]\tvalid_0's binary_logloss: 0.0398377\n",
      "[29]\tvalid_0's binary_logloss: 0.039128\n",
      "[30]\tvalid_0's binary_logloss: 0.0384928\n",
      "[31]\tvalid_0's binary_logloss: 0.0378987\n",
      "[32]\tvalid_0's binary_logloss: 0.0373759\n",
      "[33]\tvalid_0's binary_logloss: 0.0369208\n",
      "[34]\tvalid_0's binary_logloss: 0.0365067\n",
      "[35]\tvalid_0's binary_logloss: 0.0361855\n",
      "[36]\tvalid_0's binary_logloss: 0.0358565\n",
      "[37]\tvalid_0's binary_logloss: 0.0355852\n",
      "[38]\tvalid_0's binary_logloss: 0.0353526\n",
      "[39]\tvalid_0's binary_logloss: 0.0351267\n",
      "[40]\tvalid_0's binary_logloss: 0.034925\n",
      "[41]\tvalid_0's binary_logloss: 0.0347781\n",
      "[42]\tvalid_0's binary_logloss: 0.0345832\n",
      "[43]\tvalid_0's binary_logloss: 0.0344612\n",
      "[44]\tvalid_0's binary_logloss: 0.0342999\n",
      "[45]\tvalid_0's binary_logloss: 0.034186\n",
      "[46]\tvalid_0's binary_logloss: 0.034099\n",
      "[47]\tvalid_0's binary_logloss: 0.0340159\n",
      "[48]\tvalid_0's binary_logloss: 0.033946\n",
      "[49]\tvalid_0's binary_logloss: 0.0339009\n",
      "[50]\tvalid_0's binary_logloss: 0.0338727\n",
      "[51]\tvalid_0's binary_logloss: 0.0338247\n",
      "[52]\tvalid_0's binary_logloss: 0.0337947\n",
      "[53]\tvalid_0's binary_logloss: 0.0337793\n",
      "[54]\tvalid_0's binary_logloss: 0.0337408\n",
      "[55]\tvalid_0's binary_logloss: 0.0337102\n",
      "[56]\tvalid_0's binary_logloss: 0.0336607\n",
      "[57]\tvalid_0's binary_logloss: 0.0336193\n",
      "[58]\tvalid_0's binary_logloss: 0.0335971\n",
      "[59]\tvalid_0's binary_logloss: 0.0335606\n",
      "[60]\tvalid_0's binary_logloss: 0.0335461\n",
      "[61]\tvalid_0's binary_logloss: 0.0335407\n",
      "[62]\tvalid_0's binary_logloss: 0.0335056\n",
      "[63]\tvalid_0's binary_logloss: 0.033502\n",
      "[64]\tvalid_0's binary_logloss: 0.0334894\n",
      "[65]\tvalid_0's binary_logloss: 0.0334894\n",
      "[66]\tvalid_0's binary_logloss: 0.0334894\n",
      "[67]\tvalid_0's binary_logloss: 0.0334894\n",
      "[68]\tvalid_0's binary_logloss: 0.0334894\n",
      "[69]\tvalid_0's binary_logloss: 0.0334894\n",
      "[70]\tvalid_0's binary_logloss: 0.033487\n",
      "[71]\tvalid_0's binary_logloss: 0.033487\n",
      "[72]\tvalid_0's binary_logloss: 0.033487\n",
      "[73]\tvalid_0's binary_logloss: 0.033487\n",
      "[74]\tvalid_0's binary_logloss: 0.0334857\n",
      "[75]\tvalid_0's binary_logloss: 0.0334857\n",
      "[76]\tvalid_0's binary_logloss: 0.0334857\n",
      "[77]\tvalid_0's binary_logloss: 0.0334857\n",
      "[78]\tvalid_0's binary_logloss: 0.0334857\n",
      "[79]\tvalid_0's binary_logloss: 0.0334857\n",
      "[80]\tvalid_0's binary_logloss: 0.0334857\n",
      "[81]\tvalid_0's binary_logloss: 0.0334857\n",
      "[82]\tvalid_0's binary_logloss: 0.0334857\n",
      "[83]\tvalid_0's binary_logloss: 0.0334857\n",
      "[84]\tvalid_0's binary_logloss: 0.033475\n",
      "[85]\tvalid_0's binary_logloss: 0.033475\n",
      "[86]\tvalid_0's binary_logloss: 0.033475\n",
      "[87]\tvalid_0's binary_logloss: 0.033475\n",
      "[88]\tvalid_0's binary_logloss: 0.033475\n",
      "[89]\tvalid_0's binary_logloss: 0.033475\n",
      "[90]\tvalid_0's binary_logloss: 0.033475\n",
      "[91]\tvalid_0's binary_logloss: 0.033475\n",
      "[92]\tvalid_0's binary_logloss: 0.033475\n",
      "[93]\tvalid_0's binary_logloss: 0.033475\n",
      "[94]\tvalid_0's binary_logloss: 0.033475\n"
     ]
    },
    {
     "name": "stderr",
     "output_type": "stream",
     "text": [
      "\u001b[32m[I 2023-03-12 21:21:12,719]\u001b[0m Trial 6 finished with value: 0.033465811594983165 and parameters: {'max_depth': 7, 'num_leaves': 19}. Best is trial 1 with value: 0.033310783087823544.\u001b[0m\n"
     ]
    },
    {
     "name": "stdout",
     "output_type": "stream",
     "text": [
      "[95]\tvalid_0's binary_logloss: 0.033475\n",
      "[96]\tvalid_0's binary_logloss: 0.033475\n",
      "[97]\tvalid_0's binary_logloss: 0.033475\n",
      "[98]\tvalid_0's binary_logloss: 0.033475\n",
      "[99]\tvalid_0's binary_logloss: 0.033475\n",
      "[100]\tvalid_0's binary_logloss: 0.033475\n",
      "[101]\tvalid_0's binary_logloss: 0.033475\n",
      "[102]\tvalid_0's binary_logloss: 0.033475\n",
      "[103]\tvalid_0's binary_logloss: 0.033475\n",
      "[104]\tvalid_0's binary_logloss: 0.033475\n",
      "[105]\tvalid_0's binary_logloss: 0.033475\n",
      "[106]\tvalid_0's binary_logloss: 0.033475\n",
      "[107]\tvalid_0's binary_logloss: 0.033475\n",
      "[108]\tvalid_0's binary_logloss: 0.033475\n",
      "[109]\tvalid_0's binary_logloss: 0.0334731\n",
      "[110]\tvalid_0's binary_logloss: 0.0334731\n",
      "[111]\tvalid_0's binary_logloss: 0.0334731\n",
      "[112]\tvalid_0's binary_logloss: 0.0334731\n",
      "[113]\tvalid_0's binary_logloss: 0.0334731\n",
      "[114]\tvalid_0's binary_logloss: 0.0334731\n",
      "[115]\tvalid_0's binary_logloss: 0.0334731\n",
      "[116]\tvalid_0's binary_logloss: 0.0334731\n",
      "[117]\tvalid_0's binary_logloss: 0.0334731\n",
      "[118]\tvalid_0's binary_logloss: 0.0334706\n",
      "[119]\tvalid_0's binary_logloss: 0.0334706\n",
      "[120]\tvalid_0's binary_logloss: 0.0334706\n",
      "[121]\tvalid_0's binary_logloss: 0.0334706\n",
      "[122]\tvalid_0's binary_logloss: 0.0334706\n",
      "[123]\tvalid_0's binary_logloss: 0.0334658\n",
      "[124]\tvalid_0's binary_logloss: 0.0334658\n",
      "[125]\tvalid_0's binary_logloss: 0.0334658\n",
      "[126]\tvalid_0's binary_logloss: 0.0334658\n",
      "[127]\tvalid_0's binary_logloss: 0.0334658\n",
      "[128]\tvalid_0's binary_logloss: 0.0334658\n",
      "[LightGBM] [Warning] feature_fraction is set=1.0, colsample_bytree=1.0 will be ignored. Current value: feature_fraction=1.0\n",
      "[LightGBM] [Warning] min_data_in_leaf is set=32, min_child_samples=20 will be ignored. Current value: min_data_in_leaf=32\n",
      "[LightGBM] [Warning] min_gain_to_split is set=3.0, min_split_gain=0.0 will be ignored. Current value: min_gain_to_split=3.0\n",
      "[LightGBM] [Warning] bagging_fraction is set=1.0, subsample=1.0 will be ignored. Current value: bagging_fraction=1.0\n",
      "[1]\tvalid_0's binary_logloss: 0.227259\n",
      "[2]\tvalid_0's binary_logloss: 0.192591\n",
      "[3]\tvalid_0's binary_logloss: 0.168269\n",
      "[4]\tvalid_0's binary_logloss: 0.149505\n",
      "[5]\tvalid_0's binary_logloss: 0.13421\n",
      "[6]\tvalid_0's binary_logloss: 0.121565\n",
      "[7]\tvalid_0's binary_logloss: 0.110878\n",
      "[8]\tvalid_0's binary_logloss: 0.101662\n",
      "[9]\tvalid_0's binary_logloss: 0.0937655\n",
      "[10]\tvalid_0's binary_logloss: 0.0868024\n",
      "[11]\tvalid_0's binary_logloss: 0.0807815\n",
      "[12]\tvalid_0's binary_logloss: 0.0755143\n"
     ]
    },
    {
     "name": "stderr",
     "output_type": "stream",
     "text": [
      "c:\\ProgramData\\Anaconda3\\lib\\site-packages\\lightgbm\\sklearn.py:726: UserWarning:\n",
      "\n",
      "'early_stopping_rounds' argument is deprecated and will be removed in a future release of LightGBM. Pass 'early_stopping()' callback via 'callbacks' argument instead.\n",
      "\n"
     ]
    },
    {
     "name": "stdout",
     "output_type": "stream",
     "text": [
      "[13]\tvalid_0's binary_logloss: 0.0708713\n",
      "[14]\tvalid_0's binary_logloss: 0.0667419\n",
      "[15]\tvalid_0's binary_logloss: 0.0630601\n",
      "[16]\tvalid_0's binary_logloss: 0.0598417\n",
      "[17]\tvalid_0's binary_logloss: 0.0569507\n",
      "[18]\tvalid_0's binary_logloss: 0.0543758\n",
      "[19]\tvalid_0's binary_logloss: 0.0520959\n",
      "[20]\tvalid_0's binary_logloss: 0.0500521\n",
      "[21]\tvalid_0's binary_logloss: 0.0482199\n",
      "[22]\tvalid_0's binary_logloss: 0.0465974\n",
      "[23]\tvalid_0's binary_logloss: 0.0451386\n",
      "[24]\tvalid_0's binary_logloss: 0.0438199\n",
      "[25]\tvalid_0's binary_logloss: 0.042693\n",
      "[26]\tvalid_0's binary_logloss: 0.041683\n",
      "[27]\tvalid_0's binary_logloss: 0.0407807\n",
      "[28]\tvalid_0's binary_logloss: 0.0399821\n",
      "[29]\tvalid_0's binary_logloss: 0.0392637\n",
      "[30]\tvalid_0's binary_logloss: 0.0385847\n",
      "[31]\tvalid_0's binary_logloss: 0.0380137\n",
      "[32]\tvalid_0's binary_logloss: 0.037503\n",
      "[33]\tvalid_0's binary_logloss: 0.0370493\n",
      "[34]\tvalid_0's binary_logloss: 0.0366925\n",
      "[35]\tvalid_0's binary_logloss: 0.0363274\n",
      "[36]\tvalid_0's binary_logloss: 0.0359983\n",
      "[37]\tvalid_0's binary_logloss: 0.0357578\n",
      "[38]\tvalid_0's binary_logloss: 0.0355434\n",
      "[39]\tvalid_0's binary_logloss: 0.0353056\n",
      "[40]\tvalid_0's binary_logloss: 0.035058\n",
      "[41]\tvalid_0's binary_logloss: 0.0348218\n",
      "[42]\tvalid_0's binary_logloss: 0.0346504\n",
      "[43]\tvalid_0's binary_logloss: 0.034509\n",
      "[44]\tvalid_0's binary_logloss: 0.0343402\n",
      "[45]\tvalid_0's binary_logloss: 0.0342405\n",
      "[46]\tvalid_0's binary_logloss: 0.0341381\n",
      "[47]\tvalid_0's binary_logloss: 0.034046\n",
      "[48]\tvalid_0's binary_logloss: 0.0339941\n",
      "[49]\tvalid_0's binary_logloss: 0.0339252\n",
      "[50]\tvalid_0's binary_logloss: 0.0338518\n",
      "[51]\tvalid_0's binary_logloss: 0.0337935\n",
      "[52]\tvalid_0's binary_logloss: 0.0337577\n",
      "[53]\tvalid_0's binary_logloss: 0.0337008\n",
      "[54]\tvalid_0's binary_logloss: 0.0336619\n",
      "[55]\tvalid_0's binary_logloss: 0.0335923\n",
      "[56]\tvalid_0's binary_logloss: 0.0335738\n",
      "[57]\tvalid_0's binary_logloss: 0.0335429\n",
      "[58]\tvalid_0's binary_logloss: 0.0335187\n",
      "[59]\tvalid_0's binary_logloss: 0.0335097\n",
      "[60]\tvalid_0's binary_logloss: 0.0334939\n",
      "[61]\tvalid_0's binary_logloss: 0.0334927\n",
      "[62]\tvalid_0's binary_logloss: 0.0334589\n",
      "[63]\tvalid_0's binary_logloss: 0.0334505\n",
      "[64]\tvalid_0's binary_logloss: 0.0334476\n",
      "[65]\tvalid_0's binary_logloss: 0.033435\n",
      "[66]\tvalid_0's binary_logloss: 0.033435\n"
     ]
    },
    {
     "name": "stderr",
     "output_type": "stream",
     "text": [
      "\u001b[32m[I 2023-03-12 21:21:13,243]\u001b[0m Trial 7 finished with value: 0.03342508189547128 and parameters: {'max_depth': 7, 'num_leaves': 15}. Best is trial 1 with value: 0.033310783087823544.\u001b[0m\n"
     ]
    },
    {
     "name": "stdout",
     "output_type": "stream",
     "text": [
      "[67]\tvalid_0's binary_logloss: 0.033435\n",
      "[68]\tvalid_0's binary_logloss: 0.0334333\n",
      "[69]\tvalid_0's binary_logloss: 0.0334333\n",
      "[70]\tvalid_0's binary_logloss: 0.0334333\n",
      "[71]\tvalid_0's binary_logloss: 0.0334333\n",
      "[72]\tvalid_0's binary_logloss: 0.0334333\n",
      "[73]\tvalid_0's binary_logloss: 0.0334333\n",
      "[74]\tvalid_0's binary_logloss: 0.0334333\n",
      "[75]\tvalid_0's binary_logloss: 0.0334333\n",
      "[76]\tvalid_0's binary_logloss: 0.0334333\n",
      "[77]\tvalid_0's binary_logloss: 0.0334333\n",
      "[78]\tvalid_0's binary_logloss: 0.0334333\n",
      "[79]\tvalid_0's binary_logloss: 0.0334333\n",
      "[80]\tvalid_0's binary_logloss: 0.0334333\n",
      "[81]\tvalid_0's binary_logloss: 0.0334316\n",
      "[82]\tvalid_0's binary_logloss: 0.0334316\n",
      "[83]\tvalid_0's binary_logloss: 0.0334316\n",
      "[84]\tvalid_0's binary_logloss: 0.0334316\n",
      "[85]\tvalid_0's binary_logloss: 0.0334316\n",
      "[86]\tvalid_0's binary_logloss: 0.0334316\n",
      "[87]\tvalid_0's binary_logloss: 0.0334251\n",
      "[88]\tvalid_0's binary_logloss: 0.0334251\n",
      "[89]\tvalid_0's binary_logloss: 0.0334251\n",
      "[90]\tvalid_0's binary_logloss: 0.0334251\n",
      "[91]\tvalid_0's binary_logloss: 0.0334251\n",
      "[92]\tvalid_0's binary_logloss: 0.0334251\n",
      "[93]\tvalid_0's binary_logloss: 0.0334251\n",
      "[94]\tvalid_0's binary_logloss: 0.0334251\n",
      "[95]\tvalid_0's binary_logloss: 0.0334251\n",
      "[96]\tvalid_0's binary_logloss: 0.0334251\n",
      "[97]\tvalid_0's binary_logloss: 0.0334251\n",
      "[98]\tvalid_0's binary_logloss: 0.0334251\n",
      "[99]\tvalid_0's binary_logloss: 0.0334251\n",
      "[100]\tvalid_0's binary_logloss: 0.0334251\n",
      "[101]\tvalid_0's binary_logloss: 0.0334251\n",
      "[102]\tvalid_0's binary_logloss: 0.0334251\n",
      "[103]\tvalid_0's binary_logloss: 0.0334251\n",
      "[104]\tvalid_0's binary_logloss: 0.0334251\n",
      "[105]\tvalid_0's binary_logloss: 0.0334251\n",
      "[106]\tvalid_0's binary_logloss: 0.0334251\n",
      "[107]\tvalid_0's binary_logloss: 0.0334251\n",
      "[108]\tvalid_0's binary_logloss: 0.0334251\n",
      "[109]\tvalid_0's binary_logloss: 0.0334251\n",
      "[110]\tvalid_0's binary_logloss: 0.0334251\n",
      "[111]\tvalid_0's binary_logloss: 0.0334251\n",
      "[112]\tvalid_0's binary_logloss: 0.0334251\n",
      "[113]\tvalid_0's binary_logloss: 0.0334251\n",
      "[114]\tvalid_0's binary_logloss: 0.0334251\n",
      "[115]\tvalid_0's binary_logloss: 0.0334251\n",
      "[116]\tvalid_0's binary_logloss: 0.0334251\n",
      "[117]\tvalid_0's binary_logloss: 0.0334251\n",
      "[118]\tvalid_0's binary_logloss: 0.0334251\n",
      "[119]\tvalid_0's binary_logloss: 0.0334251\n",
      "[120]\tvalid_0's binary_logloss: 0.0334251\n",
      "[121]\tvalid_0's binary_logloss: 0.0334251\n",
      "[122]\tvalid_0's binary_logloss: 0.0334251\n",
      "[123]\tvalid_0's binary_logloss: 0.0334251\n",
      "[124]\tvalid_0's binary_logloss: 0.0334251\n",
      "[125]\tvalid_0's binary_logloss: 0.0334251\n",
      "[126]\tvalid_0's binary_logloss: 0.0334251\n",
      "[127]\tvalid_0's binary_logloss: 0.0334251\n",
      "[128]\tvalid_0's binary_logloss: 0.0334251\n"
     ]
    },
    {
     "name": "stderr",
     "output_type": "stream",
     "text": [
      "c:\\ProgramData\\Anaconda3\\lib\\site-packages\\lightgbm\\sklearn.py:726: UserWarning:\n",
      "\n",
      "'early_stopping_rounds' argument is deprecated and will be removed in a future release of LightGBM. Pass 'early_stopping()' callback via 'callbacks' argument instead.\n",
      "\n"
     ]
    },
    {
     "name": "stdout",
     "output_type": "stream",
     "text": [
      "[LightGBM] [Warning] feature_fraction is set=1.0, colsample_bytree=1.0 will be ignored. Current value: feature_fraction=1.0\n",
      "[LightGBM] [Warning] min_data_in_leaf is set=32, min_child_samples=20 will be ignored. Current value: min_data_in_leaf=32\n",
      "[LightGBM] [Warning] min_gain_to_split is set=3.0, min_split_gain=0.0 will be ignored. Current value: min_gain_to_split=3.0\n",
      "[LightGBM] [Warning] bagging_fraction is set=1.0, subsample=1.0 will be ignored. Current value: bagging_fraction=1.0\n",
      "[1]\tvalid_0's binary_logloss: 0.227148\n",
      "[2]\tvalid_0's binary_logloss: 0.192431\n",
      "[3]\tvalid_0's binary_logloss: 0.168154\n",
      "[4]\tvalid_0's binary_logloss: 0.14933\n",
      "[5]\tvalid_0's binary_logloss: 0.134023\n",
      "[6]\tvalid_0's binary_logloss: 0.121339\n",
      "[7]\tvalid_0's binary_logloss: 0.110577\n",
      "[8]\tvalid_0's binary_logloss: 0.101372\n",
      "[9]\tvalid_0's binary_logloss: 0.0934348\n",
      "[10]\tvalid_0's binary_logloss: 0.086536\n",
      "[11]\tvalid_0's binary_logloss: 0.0805111\n",
      "[12]\tvalid_0's binary_logloss: 0.0752132\n",
      "[13]\tvalid_0's binary_logloss: 0.0705417\n",
      "[14]\tvalid_0's binary_logloss: 0.0664074\n",
      "[15]\tvalid_0's binary_logloss: 0.0627677\n",
      "[16]\tvalid_0's binary_logloss: 0.0595337\n",
      "[17]\tvalid_0's binary_logloss: 0.056695\n",
      "[18]\tvalid_0's binary_logloss: 0.054139\n",
      "[19]\tvalid_0's binary_logloss: 0.0518386\n",
      "[20]\tvalid_0's binary_logloss: 0.0498161\n",
      "[21]\tvalid_0's binary_logloss: 0.0480195\n",
      "[22]\tvalid_0's binary_logloss: 0.04638\n",
      "[23]\tvalid_0's binary_logloss: 0.0449755\n",
      "[24]\tvalid_0's binary_logloss: 0.0437218\n",
      "[25]\tvalid_0's binary_logloss: 0.0425666\n",
      "[26]\tvalid_0's binary_logloss: 0.0415555\n",
      "[27]\tvalid_0's binary_logloss: 0.0406621\n",
      "[28]\tvalid_0's binary_logloss: 0.0398467\n",
      "[29]\tvalid_0's binary_logloss: 0.0391285\n",
      "[30]\tvalid_0's binary_logloss: 0.0385289\n",
      "[31]\tvalid_0's binary_logloss: 0.0379521\n",
      "[32]\tvalid_0's binary_logloss: 0.0374284\n",
      "[33]\tvalid_0's binary_logloss: 0.036974\n",
      "[34]\tvalid_0's binary_logloss: 0.0365681\n",
      "[35]\tvalid_0's binary_logloss: 0.0362106\n",
      "[36]\tvalid_0's binary_logloss: 0.0359099\n",
      "[37]\tvalid_0's binary_logloss: 0.0356327\n",
      "[38]\tvalid_0's binary_logloss: 0.0354235\n",
      "[39]\tvalid_0's binary_logloss: 0.0351892\n",
      "[40]\tvalid_0's binary_logloss: 0.0349906\n",
      "[41]\tvalid_0's binary_logloss: 0.0348206\n",
      "[42]\tvalid_0's binary_logloss: 0.0346644\n",
      "[43]\tvalid_0's binary_logloss: 0.034532\n",
      "[44]\tvalid_0's binary_logloss: 0.0344272\n"
     ]
    },
    {
     "name": "stderr",
     "output_type": "stream",
     "text": [
      "\u001b[32m[I 2023-03-12 21:21:13,640]\u001b[0m Trial 8 finished with value: 0.03354378850450742 and parameters: {'max_depth': 9, 'num_leaves': 21}. Best is trial 1 with value: 0.033310783087823544.\u001b[0m\n"
     ]
    },
    {
     "name": "stdout",
     "output_type": "stream",
     "text": [
      "[45]\tvalid_0's binary_logloss: 0.0343005\n",
      "[46]\tvalid_0's binary_logloss: 0.0342135\n",
      "[47]\tvalid_0's binary_logloss: 0.0341084\n",
      "[48]\tvalid_0's binary_logloss: 0.0340604\n",
      "[49]\tvalid_0's binary_logloss: 0.033999\n",
      "[50]\tvalid_0's binary_logloss: 0.0339549\n",
      "[51]\tvalid_0's binary_logloss: 0.0339093\n",
      "[52]\tvalid_0's binary_logloss: 0.0338776\n",
      "[53]\tvalid_0's binary_logloss: 0.0338179\n",
      "[54]\tvalid_0's binary_logloss: 0.0337482\n",
      "[55]\tvalid_0's binary_logloss: 0.0337309\n",
      "[56]\tvalid_0's binary_logloss: 0.0337146\n",
      "[57]\tvalid_0's binary_logloss: 0.0336846\n",
      "[58]\tvalid_0's binary_logloss: 0.0336592\n",
      "[59]\tvalid_0's binary_logloss: 0.0336405\n",
      "[60]\tvalid_0's binary_logloss: 0.0336248\n",
      "[61]\tvalid_0's binary_logloss: 0.0336135\n",
      "[62]\tvalid_0's binary_logloss: 0.0336003\n",
      "[63]\tvalid_0's binary_logloss: 0.0335881\n",
      "[64]\tvalid_0's binary_logloss: 0.0335723\n",
      "[65]\tvalid_0's binary_logloss: 0.0335723\n",
      "[66]\tvalid_0's binary_logloss: 0.0335755\n",
      "[67]\tvalid_0's binary_logloss: 0.0335714\n",
      "[68]\tvalid_0's binary_logloss: 0.033566\n",
      "[69]\tvalid_0's binary_logloss: 0.0335592\n",
      "[70]\tvalid_0's binary_logloss: 0.0335592\n",
      "[71]\tvalid_0's binary_logloss: 0.033556\n",
      "[72]\tvalid_0's binary_logloss: 0.0335505\n",
      "[73]\tvalid_0's binary_logloss: 0.0335505\n",
      "[74]\tvalid_0's binary_logloss: 0.0335505\n",
      "[75]\tvalid_0's binary_logloss: 0.0335505\n",
      "[76]\tvalid_0's binary_logloss: 0.0335505\n",
      "[77]\tvalid_0's binary_logloss: 0.0335505\n",
      "[78]\tvalid_0's binary_logloss: 0.0335505\n",
      "[79]\tvalid_0's binary_logloss: 0.0335476\n",
      "[80]\tvalid_0's binary_logloss: 0.0335476\n",
      "[81]\tvalid_0's binary_logloss: 0.0335476\n",
      "[82]\tvalid_0's binary_logloss: 0.0335476\n",
      "[83]\tvalid_0's binary_logloss: 0.0335451\n",
      "[84]\tvalid_0's binary_logloss: 0.0335451\n",
      "[85]\tvalid_0's binary_logloss: 0.0335451\n",
      "[86]\tvalid_0's binary_logloss: 0.0335451\n",
      "[87]\tvalid_0's binary_logloss: 0.0335451\n",
      "[88]\tvalid_0's binary_logloss: 0.0335451\n",
      "[89]\tvalid_0's binary_logloss: 0.0335451\n",
      "[90]\tvalid_0's binary_logloss: 0.0335451\n",
      "[91]\tvalid_0's binary_logloss: 0.0335451\n",
      "[92]\tvalid_0's binary_logloss: 0.0335451\n",
      "[93]\tvalid_0's binary_logloss: 0.0335451\n",
      "[94]\tvalid_0's binary_logloss: 0.0335451\n",
      "[95]\tvalid_0's binary_logloss: 0.0335451\n",
      "[96]\tvalid_0's binary_logloss: 0.0335438\n",
      "[97]\tvalid_0's binary_logloss: 0.0335438\n",
      "[98]\tvalid_0's binary_logloss: 0.0335438\n",
      "[99]\tvalid_0's binary_logloss: 0.0335438\n",
      "[100]\tvalid_0's binary_logloss: 0.0335438\n",
      "[101]\tvalid_0's binary_logloss: 0.0335438\n",
      "[102]\tvalid_0's binary_logloss: 0.0335438\n",
      "[103]\tvalid_0's binary_logloss: 0.0335438\n",
      "[104]\tvalid_0's binary_logloss: 0.0335438\n",
      "[105]\tvalid_0's binary_logloss: 0.0335438\n",
      "[106]\tvalid_0's binary_logloss: 0.0335438\n",
      "[107]\tvalid_0's binary_logloss: 0.0335438\n",
      "[108]\tvalid_0's binary_logloss: 0.0335438\n",
      "[109]\tvalid_0's binary_logloss: 0.0335438\n",
      "[110]\tvalid_0's binary_logloss: 0.0335438\n",
      "[111]\tvalid_0's binary_logloss: 0.0335438\n",
      "[112]\tvalid_0's binary_logloss: 0.0335438\n",
      "[113]\tvalid_0's binary_logloss: 0.0335438\n",
      "[114]\tvalid_0's binary_logloss: 0.0335438\n",
      "[115]\tvalid_0's binary_logloss: 0.0335438\n",
      "[116]\tvalid_0's binary_logloss: 0.0335438\n",
      "[117]\tvalid_0's binary_logloss: 0.0335438\n",
      "[118]\tvalid_0's binary_logloss: 0.0335438\n",
      "[119]\tvalid_0's binary_logloss: 0.0335438\n",
      "[120]\tvalid_0's binary_logloss: 0.0335438\n",
      "[121]\tvalid_0's binary_logloss: 0.0335438\n",
      "[122]\tvalid_0's binary_logloss: 0.0335438\n",
      "[123]\tvalid_0's binary_logloss: 0.0335438\n",
      "[124]\tvalid_0's binary_logloss: 0.0335438\n",
      "[125]\tvalid_0's binary_logloss: 0.0335438\n",
      "[126]\tvalid_0's binary_logloss: 0.0335438\n",
      "[127]\tvalid_0's binary_logloss: 0.0335438\n",
      "[128]\tvalid_0's binary_logloss: 0.0335438\n"
     ]
    },
    {
     "name": "stderr",
     "output_type": "stream",
     "text": [
      "c:\\ProgramData\\Anaconda3\\lib\\site-packages\\lightgbm\\sklearn.py:726: UserWarning:\n",
      "\n",
      "'early_stopping_rounds' argument is deprecated and will be removed in a future release of LightGBM. Pass 'early_stopping()' callback via 'callbacks' argument instead.\n",
      "\n"
     ]
    },
    {
     "name": "stdout",
     "output_type": "stream",
     "text": [
      "[LightGBM] [Warning] feature_fraction is set=1.0, colsample_bytree=1.0 will be ignored. Current value: feature_fraction=1.0\n",
      "[LightGBM] [Warning] min_data_in_leaf is set=32, min_child_samples=20 will be ignored. Current value: min_data_in_leaf=32\n",
      "[LightGBM] [Warning] min_gain_to_split is set=3.0, min_split_gain=0.0 will be ignored. Current value: min_gain_to_split=3.0\n",
      "[LightGBM] [Warning] bagging_fraction is set=1.0, subsample=1.0 will be ignored. Current value: bagging_fraction=1.0\n",
      "[1]\tvalid_0's binary_logloss: 0.227472\n",
      "[2]\tvalid_0's binary_logloss: 0.192867\n",
      "[3]\tvalid_0's binary_logloss: 0.168496\n",
      "[4]\tvalid_0's binary_logloss: 0.149796\n",
      "[5]\tvalid_0's binary_logloss: 0.13454\n",
      "[6]\tvalid_0's binary_logloss: 0.121946\n",
      "[7]\tvalid_0's binary_logloss: 0.111263\n",
      "[8]\tvalid_0's binary_logloss: 0.102114\n",
      "[9]\tvalid_0's binary_logloss: 0.0942375\n",
      "[10]\tvalid_0's binary_logloss: 0.0873343\n",
      "[11]\tvalid_0's binary_logloss: 0.0813286\n",
      "[12]\tvalid_0's binary_logloss: 0.0760638\n",
      "[13]\tvalid_0's binary_logloss: 0.0714059\n",
      "[14]\tvalid_0's binary_logloss: 0.0672653\n",
      "[15]\tvalid_0's binary_logloss: 0.0636403\n",
      "[16]\tvalid_0's binary_logloss: 0.0604165\n",
      "[17]\tvalid_0's binary_logloss: 0.0575805\n",
      "[18]\tvalid_0's binary_logloss: 0.0550188\n",
      "[19]\tvalid_0's binary_logloss: 0.0527238\n",
      "[20]\tvalid_0's binary_logloss: 0.0506763\n",
      "[21]\tvalid_0's binary_logloss: 0.0488664\n",
      "[22]\tvalid_0's binary_logloss: 0.0472545\n",
      "[23]\tvalid_0's binary_logloss: 0.0457975\n",
      "[24]\tvalid_0's binary_logloss: 0.0444855\n",
      "[25]\tvalid_0's binary_logloss: 0.0433071\n",
      "[26]\tvalid_0's binary_logloss: 0.0422905\n",
      "[27]\tvalid_0's binary_logloss: 0.0413644\n",
      "[28]\tvalid_0's binary_logloss: 0.0405415\n",
      "[29]\tvalid_0's binary_logloss: 0.0397959\n",
      "[30]\tvalid_0's binary_logloss: 0.0391395\n",
      "[31]\tvalid_0's binary_logloss: 0.0386061\n",
      "[32]\tvalid_0's binary_logloss: 0.0380235\n",
      "[33]\tvalid_0's binary_logloss: 0.0375147\n",
      "[34]\tvalid_0's binary_logloss: 0.0370925\n",
      "[35]\tvalid_0's binary_logloss: 0.0367245\n",
      "[36]\tvalid_0's binary_logloss: 0.0364373\n",
      "[37]\tvalid_0's binary_logloss: 0.0360751\n",
      "[38]\tvalid_0's binary_logloss: 0.0357594\n",
      "[39]\tvalid_0's binary_logloss: 0.0355462\n",
      "[40]\tvalid_0's binary_logloss: 0.0353048\n",
      "[41]\tvalid_0's binary_logloss: 0.0351287\n",
      "[42]\tvalid_0's binary_logloss: 0.0348882\n",
      "[43]\tvalid_0's binary_logloss: 0.0347591\n",
      "[44]\tvalid_0's binary_logloss: 0.0346562\n",
      "[45]\tvalid_0's binary_logloss: 0.0345457\n",
      "[46]\tvalid_0's binary_logloss: 0.0344115\n",
      "[47]\tvalid_0's binary_logloss: 0.0343273\n",
      "[48]\tvalid_0's binary_logloss: 0.0342432\n",
      "[49]\tvalid_0's binary_logloss: 0.0341665\n"
     ]
    },
    {
     "name": "stderr",
     "output_type": "stream",
     "text": [
      "\u001b[32m[I 2023-03-12 21:21:14,049]\u001b[0m Trial 9 finished with value: 0.0334610092669974 and parameters: {'max_depth': 7, 'num_leaves': 10}. Best is trial 1 with value: 0.033310783087823544.\u001b[0m\n"
     ]
    },
    {
     "name": "stdout",
     "output_type": "stream",
     "text": [
      "[50]\tvalid_0's binary_logloss: 0.034093\n",
      "[51]\tvalid_0's binary_logloss: 0.0340331\n",
      "[52]\tvalid_0's binary_logloss: 0.0339737\n",
      "[53]\tvalid_0's binary_logloss: 0.0339397\n",
      "[54]\tvalid_0's binary_logloss: 0.0338926\n",
      "[55]\tvalid_0's binary_logloss: 0.0338637\n",
      "[56]\tvalid_0's binary_logloss: 0.0338412\n",
      "[57]\tvalid_0's binary_logloss: 0.0338093\n",
      "[58]\tvalid_0's binary_logloss: 0.0337777\n",
      "[59]\tvalid_0's binary_logloss: 0.0337086\n",
      "[60]\tvalid_0's binary_logloss: 0.0336882\n",
      "[61]\tvalid_0's binary_logloss: 0.0336572\n",
      "[62]\tvalid_0's binary_logloss: 0.033598\n",
      "[63]\tvalid_0's binary_logloss: 0.0335866\n",
      "[64]\tvalid_0's binary_logloss: 0.0335738\n",
      "[65]\tvalid_0's binary_logloss: 0.0335569\n",
      "[66]\tvalid_0's binary_logloss: 0.0335284\n",
      "[67]\tvalid_0's binary_logloss: 0.0335258\n",
      "[68]\tvalid_0's binary_logloss: 0.0334946\n",
      "[69]\tvalid_0's binary_logloss: 0.033477\n",
      "[70]\tvalid_0's binary_logloss: 0.0334751\n",
      "[71]\tvalid_0's binary_logloss: 0.0334725\n",
      "[72]\tvalid_0's binary_logloss: 0.0334725\n",
      "[73]\tvalid_0's binary_logloss: 0.0334725\n",
      "[74]\tvalid_0's binary_logloss: 0.0334725\n",
      "[75]\tvalid_0's binary_logloss: 0.0334705\n",
      "[76]\tvalid_0's binary_logloss: 0.0334705\n",
      "[77]\tvalid_0's binary_logloss: 0.0334705\n",
      "[78]\tvalid_0's binary_logloss: 0.0334705\n",
      "[79]\tvalid_0's binary_logloss: 0.0334705\n",
      "[80]\tvalid_0's binary_logloss: 0.0334627\n",
      "[81]\tvalid_0's binary_logloss: 0.0334627\n",
      "[82]\tvalid_0's binary_logloss: 0.0334627\n",
      "[83]\tvalid_0's binary_logloss: 0.0334627\n",
      "[84]\tvalid_0's binary_logloss: 0.0334627\n",
      "[85]\tvalid_0's binary_logloss: 0.0334627\n",
      "[86]\tvalid_0's binary_logloss: 0.0334627\n",
      "[87]\tvalid_0's binary_logloss: 0.0334627\n",
      "[88]\tvalid_0's binary_logloss: 0.0334607\n",
      "[89]\tvalid_0's binary_logloss: 0.0334607\n",
      "[90]\tvalid_0's binary_logloss: 0.0334607\n",
      "[91]\tvalid_0's binary_logloss: 0.0334607\n",
      "[92]\tvalid_0's binary_logloss: 0.0334607\n",
      "[93]\tvalid_0's binary_logloss: 0.0334607\n",
      "[94]\tvalid_0's binary_logloss: 0.0334607\n",
      "[95]\tvalid_0's binary_logloss: 0.033461\n",
      "[96]\tvalid_0's binary_logloss: 0.033461\n",
      "[97]\tvalid_0's binary_logloss: 0.033461\n",
      "[98]\tvalid_0's binary_logloss: 0.033461\n",
      "[99]\tvalid_0's binary_logloss: 0.033461\n",
      "[100]\tvalid_0's binary_logloss: 0.033461\n",
      "[101]\tvalid_0's binary_logloss: 0.033461\n",
      "[102]\tvalid_0's binary_logloss: 0.033461\n",
      "[103]\tvalid_0's binary_logloss: 0.033461\n",
      "[104]\tvalid_0's binary_logloss: 0.033461\n",
      "[105]\tvalid_0's binary_logloss: 0.033461\n",
      "[106]\tvalid_0's binary_logloss: 0.033461\n",
      "[107]\tvalid_0's binary_logloss: 0.033461\n",
      "[108]\tvalid_0's binary_logloss: 0.033461\n",
      "[109]\tvalid_0's binary_logloss: 0.033461\n",
      "[110]\tvalid_0's binary_logloss: 0.033461\n",
      "[111]\tvalid_0's binary_logloss: 0.033461\n",
      "[112]\tvalid_0's binary_logloss: 0.033461\n",
      "[113]\tvalid_0's binary_logloss: 0.033461\n",
      "[114]\tvalid_0's binary_logloss: 0.033461\n",
      "[115]\tvalid_0's binary_logloss: 0.033461\n",
      "[116]\tvalid_0's binary_logloss: 0.033461\n",
      "[117]\tvalid_0's binary_logloss: 0.033461\n",
      "[118]\tvalid_0's binary_logloss: 0.033461\n",
      "[119]\tvalid_0's binary_logloss: 0.033461\n",
      "[120]\tvalid_0's binary_logloss: 0.033461\n",
      "[121]\tvalid_0's binary_logloss: 0.033461\n",
      "[122]\tvalid_0's binary_logloss: 0.033461\n",
      "[123]\tvalid_0's binary_logloss: 0.033461\n",
      "[124]\tvalid_0's binary_logloss: 0.033461\n",
      "[125]\tvalid_0's binary_logloss: 0.033461\n",
      "[126]\tvalid_0's binary_logloss: 0.033461\n",
      "[127]\tvalid_0's binary_logloss: 0.033461\n",
      "[128]\tvalid_0's binary_logloss: 0.033461\n"
     ]
    },
    {
     "name": "stderr",
     "output_type": "stream",
     "text": [
      "c:\\ProgramData\\Anaconda3\\lib\\site-packages\\lightgbm\\sklearn.py:726: UserWarning:\n",
      "\n",
      "'early_stopping_rounds' argument is deprecated and will be removed in a future release of LightGBM. Pass 'early_stopping()' callback via 'callbacks' argument instead.\n",
      "\n"
     ]
    },
    {
     "name": "stdout",
     "output_type": "stream",
     "text": [
      "[LightGBM] [Warning] feature_fraction is set=1.0, colsample_bytree=1.0 will be ignored. Current value: feature_fraction=1.0\n",
      "[LightGBM] [Warning] min_data_in_leaf is set=32, min_child_samples=20 will be ignored. Current value: min_data_in_leaf=32\n",
      "[LightGBM] [Warning] min_gain_to_split is set=3.0, min_split_gain=0.0 will be ignored. Current value: min_gain_to_split=3.0\n",
      "[LightGBM] [Warning] bagging_fraction is set=1.0, subsample=1.0 will be ignored. Current value: bagging_fraction=1.0\n",
      "[1]\tvalid_0's binary_logloss: 0.227557\n",
      "[2]\tvalid_0's binary_logloss: 0.192966\n",
      "[3]\tvalid_0's binary_logloss: 0.168736\n",
      "[4]\tvalid_0's binary_logloss: 0.149964\n",
      "[5]\tvalid_0's binary_logloss: 0.134722\n",
      "[6]\tvalid_0's binary_logloss: 0.122098\n",
      "[7]\tvalid_0's binary_logloss: 0.111397\n",
      "[8]\tvalid_0's binary_logloss: 0.102256\n",
      "[9]\tvalid_0's binary_logloss: 0.0943795\n",
      "[10]\tvalid_0's binary_logloss: 0.0875159\n",
      "[11]\tvalid_0's binary_logloss: 0.0814721\n",
      "[12]\tvalid_0's binary_logloss: 0.0761658\n",
      "[13]\tvalid_0's binary_logloss: 0.0715165\n",
      "[14]\tvalid_0's binary_logloss: 0.0674026\n",
      "[15]\tvalid_0's binary_logloss: 0.0637539\n",
      "[16]\tvalid_0's binary_logloss: 0.0605423\n",
      "[17]\tvalid_0's binary_logloss: 0.0576671\n",
      "[18]\tvalid_0's binary_logloss: 0.0551333\n",
      "[19]\tvalid_0's binary_logloss: 0.0528463\n",
      "[20]\tvalid_0's binary_logloss: 0.0508279\n",
      "[21]\tvalid_0's binary_logloss: 0.0490049\n",
      "[22]\tvalid_0's binary_logloss: 0.0473808\n",
      "[23]\tvalid_0's binary_logloss: 0.0459317\n",
      "[24]\tvalid_0's binary_logloss: 0.0446274\n",
      "[25]\tvalid_0's binary_logloss: 0.0434418\n",
      "[26]\tvalid_0's binary_logloss: 0.0424143\n",
      "[27]\tvalid_0's binary_logloss: 0.0414795\n",
      "[28]\tvalid_0's binary_logloss: 0.0406386\n",
      "[29]\tvalid_0's binary_logloss: 0.0398893\n",
      "[30]\tvalid_0's binary_logloss: 0.0392177\n",
      "[31]\tvalid_0's binary_logloss: 0.0386713\n",
      "[32]\tvalid_0's binary_logloss: 0.0381301\n",
      "[33]\tvalid_0's binary_logloss: 0.0376389\n",
      "[34]\tvalid_0's binary_logloss: 0.0372102\n",
      "[35]\tvalid_0's binary_logloss: 0.0368237\n",
      "[36]\tvalid_0's binary_logloss: 0.036519\n",
      "[37]\tvalid_0's binary_logloss: 0.036183\n",
      "[38]\tvalid_0's binary_logloss: 0.0358807\n",
      "[39]\tvalid_0's binary_logloss: 0.0356599\n",
      "[40]\tvalid_0's binary_logloss: 0.0354121\n",
      "[41]\tvalid_0's binary_logloss: 0.0352467\n",
      "[42]\tvalid_0's binary_logloss: 0.0350361\n",
      "[43]\tvalid_0's binary_logloss: 0.0348224\n",
      "[44]\tvalid_0's binary_logloss: 0.0346988\n",
      "[45]\tvalid_0's binary_logloss: 0.034601\n",
      "[46]\tvalid_0's binary_logloss: 0.0345163\n",
      "[47]\tvalid_0's binary_logloss: 0.0343768\n",
      "[48]\tvalid_0's binary_logloss: 0.0343088\n",
      "[49]\tvalid_0's binary_logloss: 0.0342444\n"
     ]
    },
    {
     "name": "stderr",
     "output_type": "stream",
     "text": [
      "\u001b[32m[I 2023-03-12 21:21:14,444]\u001b[0m Trial 10 finished with value: 0.033462962749419255 and parameters: {'max_depth': 4, 'num_leaves': 10}. Best is trial 1 with value: 0.033310783087823544.\u001b[0m\n"
     ]
    },
    {
     "name": "stdout",
     "output_type": "stream",
     "text": [
      "[50]\tvalid_0's binary_logloss: 0.0341608\n",
      "[51]\tvalid_0's binary_logloss: 0.0341181\n",
      "[52]\tvalid_0's binary_logloss: 0.0340884\n",
      "[53]\tvalid_0's binary_logloss: 0.0340337\n",
      "[54]\tvalid_0's binary_logloss: 0.0339594\n",
      "[55]\tvalid_0's binary_logloss: 0.0339167\n",
      "[56]\tvalid_0's binary_logloss: 0.0338506\n",
      "[57]\tvalid_0's binary_logloss: 0.0338174\n",
      "[58]\tvalid_0's binary_logloss: 0.033806\n",
      "[59]\tvalid_0's binary_logloss: 0.0337859\n",
      "[60]\tvalid_0's binary_logloss: 0.0337064\n",
      "[61]\tvalid_0's binary_logloss: 0.0336731\n",
      "[62]\tvalid_0's binary_logloss: 0.0336443\n",
      "[63]\tvalid_0's binary_logloss: 0.0335926\n",
      "[64]\tvalid_0's binary_logloss: 0.0335798\n",
      "[65]\tvalid_0's binary_logloss: 0.0335389\n",
      "[66]\tvalid_0's binary_logloss: 0.0335152\n",
      "[67]\tvalid_0's binary_logloss: 0.0334976\n",
      "[68]\tvalid_0's binary_logloss: 0.0334976\n",
      "[69]\tvalid_0's binary_logloss: 0.0334904\n",
      "[70]\tvalid_0's binary_logloss: 0.0334912\n",
      "[71]\tvalid_0's binary_logloss: 0.0334885\n",
      "[72]\tvalid_0's binary_logloss: 0.0334885\n",
      "[73]\tvalid_0's binary_logloss: 0.0334821\n",
      "[74]\tvalid_0's binary_logloss: 0.0334765\n",
      "[75]\tvalid_0's binary_logloss: 0.0334694\n",
      "[76]\tvalid_0's binary_logloss: 0.0334694\n",
      "[77]\tvalid_0's binary_logloss: 0.0334694\n",
      "[78]\tvalid_0's binary_logloss: 0.0334694\n",
      "[79]\tvalid_0's binary_logloss: 0.0334694\n",
      "[80]\tvalid_0's binary_logloss: 0.0334694\n",
      "[81]\tvalid_0's binary_logloss: 0.0334694\n",
      "[82]\tvalid_0's binary_logloss: 0.0334604\n",
      "[83]\tvalid_0's binary_logloss: 0.0334604\n",
      "[84]\tvalid_0's binary_logloss: 0.0334604\n",
      "[85]\tvalid_0's binary_logloss: 0.0334604\n",
      "[86]\tvalid_0's binary_logloss: 0.0334604\n",
      "[87]\tvalid_0's binary_logloss: 0.0334604\n",
      "[88]\tvalid_0's binary_logloss: 0.0334604\n",
      "[89]\tvalid_0's binary_logloss: 0.0334604\n",
      "[90]\tvalid_0's binary_logloss: 0.0334604\n",
      "[91]\tvalid_0's binary_logloss: 0.0334604\n",
      "[92]\tvalid_0's binary_logloss: 0.0334604\n",
      "[93]\tvalid_0's binary_logloss: 0.0334604\n",
      "[94]\tvalid_0's binary_logloss: 0.0334604\n",
      "[95]\tvalid_0's binary_logloss: 0.0334604\n",
      "[96]\tvalid_0's binary_logloss: 0.0334604\n",
      "[97]\tvalid_0's binary_logloss: 0.0334604\n",
      "[98]\tvalid_0's binary_logloss: 0.0334604\n",
      "[99]\tvalid_0's binary_logloss: 0.0334604\n",
      "[100]\tvalid_0's binary_logloss: 0.0334604\n",
      "[101]\tvalid_0's binary_logloss: 0.0334604\n",
      "[102]\tvalid_0's binary_logloss: 0.0334604\n",
      "[103]\tvalid_0's binary_logloss: 0.0334604\n",
      "[104]\tvalid_0's binary_logloss: 0.0334604\n",
      "[105]\tvalid_0's binary_logloss: 0.0334604\n",
      "[106]\tvalid_0's binary_logloss: 0.0334604\n",
      "[107]\tvalid_0's binary_logloss: 0.0334604\n",
      "[108]\tvalid_0's binary_logloss: 0.0334604\n",
      "[109]\tvalid_0's binary_logloss: 0.0334604\n",
      "[110]\tvalid_0's binary_logloss: 0.0334604\n",
      "[111]\tvalid_0's binary_logloss: 0.0334604\n",
      "[112]\tvalid_0's binary_logloss: 0.0334604\n",
      "[113]\tvalid_0's binary_logloss: 0.0334604\n",
      "[114]\tvalid_0's binary_logloss: 0.0334604\n",
      "[115]\tvalid_0's binary_logloss: 0.0334604\n",
      "[116]\tvalid_0's binary_logloss: 0.0334604\n",
      "[117]\tvalid_0's binary_logloss: 0.0334604\n",
      "[118]\tvalid_0's binary_logloss: 0.0334604\n",
      "[119]\tvalid_0's binary_logloss: 0.0334604\n",
      "[120]\tvalid_0's binary_logloss: 0.0334604\n",
      "[121]\tvalid_0's binary_logloss: 0.0334604\n",
      "[122]\tvalid_0's binary_logloss: 0.0334604\n",
      "[123]\tvalid_0's binary_logloss: 0.0334604\n",
      "[124]\tvalid_0's binary_logloss: 0.0334604\n",
      "[125]\tvalid_0's binary_logloss: 0.0334604\n",
      "[126]\tvalid_0's binary_logloss: 0.033463\n",
      "[127]\tvalid_0's binary_logloss: 0.033463\n",
      "[128]\tvalid_0's binary_logloss: 0.033463\n"
     ]
    },
    {
     "name": "stderr",
     "output_type": "stream",
     "text": [
      "c:\\ProgramData\\Anaconda3\\lib\\site-packages\\lightgbm\\sklearn.py:726: UserWarning:\n",
      "\n",
      "'early_stopping_rounds' argument is deprecated and will be removed in a future release of LightGBM. Pass 'early_stopping()' callback via 'callbacks' argument instead.\n",
      "\n"
     ]
    },
    {
     "name": "stdout",
     "output_type": "stream",
     "text": [
      "[LightGBM] [Warning] feature_fraction is set=1.0, colsample_bytree=1.0 will be ignored. Current value: feature_fraction=1.0\n",
      "[LightGBM] [Warning] min_data_in_leaf is set=32, min_child_samples=20 will be ignored. Current value: min_data_in_leaf=32\n",
      "[LightGBM] [Warning] min_gain_to_split is set=3.0, min_split_gain=0.0 will be ignored. Current value: min_gain_to_split=3.0\n",
      "[LightGBM] [Warning] bagging_fraction is set=1.0, subsample=1.0 will be ignored. Current value: bagging_fraction=1.0\n",
      "[1]\tvalid_0's binary_logloss: 0.227343\n",
      "[2]\tvalid_0's binary_logloss: 0.192606\n",
      "[3]\tvalid_0's binary_logloss: 0.168309\n",
      "[4]\tvalid_0's binary_logloss: 0.149588\n",
      "[5]\tvalid_0's binary_logloss: 0.134371\n",
      "[6]\tvalid_0's binary_logloss: 0.121746\n",
      "[7]\tvalid_0's binary_logloss: 0.11105\n",
      "[8]\tvalid_0's binary_logloss: 0.101925\n",
      "[9]\tvalid_0's binary_logloss: 0.0940154\n",
      "[10]\tvalid_0's binary_logloss: 0.0871162\n",
      "[11]\tvalid_0's binary_logloss: 0.0810935\n",
      "[12]\tvalid_0's binary_logloss: 0.0758212\n",
      "[13]\tvalid_0's binary_logloss: 0.07118\n",
      "[14]\tvalid_0's binary_logloss: 0.0670579\n",
      "[15]\tvalid_0's binary_logloss: 0.063392\n",
      "[16]\tvalid_0's binary_logloss: 0.0601696\n",
      "[17]\tvalid_0's binary_logloss: 0.0572745\n",
      "[18]\tvalid_0's binary_logloss: 0.0547202\n",
      "[19]\tvalid_0's binary_logloss: 0.052502\n",
      "[20]\tvalid_0's binary_logloss: 0.0504758\n",
      "[21]\tvalid_0's binary_logloss: 0.0487379\n",
      "[22]\tvalid_0's binary_logloss: 0.0471296\n",
      "[23]\tvalid_0's binary_logloss: 0.0456947\n",
      "[24]\tvalid_0's binary_logloss: 0.0444614\n",
      "[25]\tvalid_0's binary_logloss: 0.0432991\n",
      "[26]\tvalid_0's binary_logloss: 0.0422493\n",
      "[27]\tvalid_0's binary_logloss: 0.0413268\n",
      "[28]\tvalid_0's binary_logloss: 0.0405161\n",
      "[29]\tvalid_0's binary_logloss: 0.0397696\n",
      "[30]\tvalid_0's binary_logloss: 0.0391054\n",
      "[31]\tvalid_0's binary_logloss: 0.0385218\n",
      "[32]\tvalid_0's binary_logloss: 0.0379442\n",
      "[33]\tvalid_0's binary_logloss: 0.0374674\n",
      "[34]\tvalid_0's binary_logloss: 0.0369937\n",
      "[35]\tvalid_0's binary_logloss: 0.0365879\n",
      "[36]\tvalid_0's binary_logloss: 0.0362322\n",
      "[37]\tvalid_0's binary_logloss: 0.035896\n",
      "[38]\tvalid_0's binary_logloss: 0.0356066\n",
      "[39]\tvalid_0's binary_logloss: 0.0353998\n",
      "[40]\tvalid_0's binary_logloss: 0.035197\n",
      "[41]\tvalid_0's binary_logloss: 0.0350032\n",
      "[42]\tvalid_0's binary_logloss: 0.0348354\n",
      "[43]\tvalid_0's binary_logloss: 0.0346305\n",
      "[44]\tvalid_0's binary_logloss: 0.0345104\n",
      "[45]\tvalid_0's binary_logloss: 0.0343981\n",
      "[46]\tvalid_0's binary_logloss: 0.0342504\n",
      "[47]\tvalid_0's binary_logloss: 0.0341408\n",
      "[48]\tvalid_0's binary_logloss: 0.0340521\n",
      "[49]\tvalid_0's binary_logloss: 0.0340052\n",
      "[50]\tvalid_0's binary_logloss: 0.0339597\n",
      "[51]\tvalid_0's binary_logloss: 0.0338994\n",
      "[52]\tvalid_0's binary_logloss: 0.0338123\n"
     ]
    },
    {
     "name": "stderr",
     "output_type": "stream",
     "text": [
      "\u001b[32m[I 2023-03-12 21:21:14,866]\u001b[0m Trial 11 finished with value: 0.033310783087823544 and parameters: {'max_depth': 4, 'num_leaves': 24}. Best is trial 1 with value: 0.033310783087823544.\u001b[0m\n"
     ]
    },
    {
     "name": "stdout",
     "output_type": "stream",
     "text": [
      "[53]\tvalid_0's binary_logloss: 0.0337487\n",
      "[54]\tvalid_0's binary_logloss: 0.0337065\n",
      "[55]\tvalid_0's binary_logloss: 0.0336831\n",
      "[56]\tvalid_0's binary_logloss: 0.0336162\n",
      "[57]\tvalid_0's binary_logloss: 0.0335919\n",
      "[58]\tvalid_0's binary_logloss: 0.033531\n",
      "[59]\tvalid_0's binary_logloss: 0.0335036\n",
      "[60]\tvalid_0's binary_logloss: 0.0334674\n",
      "[61]\tvalid_0's binary_logloss: 0.0334144\n",
      "[62]\tvalid_0's binary_logloss: 0.0334007\n",
      "[63]\tvalid_0's binary_logloss: 0.0333927\n",
      "[64]\tvalid_0's binary_logloss: 0.0333564\n",
      "[65]\tvalid_0's binary_logloss: 0.0333476\n",
      "[66]\tvalid_0's binary_logloss: 0.0333476\n",
      "[67]\tvalid_0's binary_logloss: 0.0333457\n",
      "[68]\tvalid_0's binary_logloss: 0.0333457\n",
      "[69]\tvalid_0's binary_logloss: 0.03334\n",
      "[70]\tvalid_0's binary_logloss: 0.03334\n",
      "[71]\tvalid_0's binary_logloss: 0.033322\n",
      "[72]\tvalid_0's binary_logloss: 0.033322\n",
      "[73]\tvalid_0's binary_logloss: 0.033322\n",
      "[74]\tvalid_0's binary_logloss: 0.0333173\n",
      "[75]\tvalid_0's binary_logloss: 0.0333173\n",
      "[76]\tvalid_0's binary_logloss: 0.0333173\n",
      "[77]\tvalid_0's binary_logloss: 0.0333173\n",
      "[78]\tvalid_0's binary_logloss: 0.0333169\n",
      "[79]\tvalid_0's binary_logloss: 0.0333169\n",
      "[80]\tvalid_0's binary_logloss: 0.0333169\n",
      "[81]\tvalid_0's binary_logloss: 0.0333169\n",
      "[82]\tvalid_0's binary_logloss: 0.0333169\n",
      "[83]\tvalid_0's binary_logloss: 0.0333169\n",
      "[84]\tvalid_0's binary_logloss: 0.0333169\n",
      "[85]\tvalid_0's binary_logloss: 0.0333169\n",
      "[86]\tvalid_0's binary_logloss: 0.0333169\n",
      "[87]\tvalid_0's binary_logloss: 0.0333169\n",
      "[88]\tvalid_0's binary_logloss: 0.0333169\n",
      "[89]\tvalid_0's binary_logloss: 0.0333169\n",
      "[90]\tvalid_0's binary_logloss: 0.0333169\n",
      "[91]\tvalid_0's binary_logloss: 0.0333169\n",
      "[92]\tvalid_0's binary_logloss: 0.0333108\n",
      "[93]\tvalid_0's binary_logloss: 0.0333108\n",
      "[94]\tvalid_0's binary_logloss: 0.0333108\n",
      "[95]\tvalid_0's binary_logloss: 0.0333108\n",
      "[96]\tvalid_0's binary_logloss: 0.0333108\n",
      "[97]\tvalid_0's binary_logloss: 0.0333108\n",
      "[98]\tvalid_0's binary_logloss: 0.0333108\n",
      "[99]\tvalid_0's binary_logloss: 0.0333108\n",
      "[100]\tvalid_0's binary_logloss: 0.0333108\n",
      "[101]\tvalid_0's binary_logloss: 0.0333108\n",
      "[102]\tvalid_0's binary_logloss: 0.0333108\n",
      "[103]\tvalid_0's binary_logloss: 0.0333108\n",
      "[104]\tvalid_0's binary_logloss: 0.0333108\n",
      "[105]\tvalid_0's binary_logloss: 0.0333108\n",
      "[106]\tvalid_0's binary_logloss: 0.0333108\n",
      "[107]\tvalid_0's binary_logloss: 0.0333108\n",
      "[108]\tvalid_0's binary_logloss: 0.0333108\n",
      "[109]\tvalid_0's binary_logloss: 0.0333108\n",
      "[110]\tvalid_0's binary_logloss: 0.0333108\n",
      "[111]\tvalid_0's binary_logloss: 0.0333108\n",
      "[112]\tvalid_0's binary_logloss: 0.0333108\n",
      "[113]\tvalid_0's binary_logloss: 0.0333108\n",
      "[114]\tvalid_0's binary_logloss: 0.0333108\n",
      "[115]\tvalid_0's binary_logloss: 0.0333108\n",
      "[116]\tvalid_0's binary_logloss: 0.0333108\n",
      "[117]\tvalid_0's binary_logloss: 0.0333108\n",
      "[118]\tvalid_0's binary_logloss: 0.0333108\n",
      "[119]\tvalid_0's binary_logloss: 0.0333108\n",
      "[120]\tvalid_0's binary_logloss: 0.0333108\n",
      "[121]\tvalid_0's binary_logloss: 0.0333108\n",
      "[122]\tvalid_0's binary_logloss: 0.0333108\n",
      "[123]\tvalid_0's binary_logloss: 0.0333108\n",
      "[124]\tvalid_0's binary_logloss: 0.0333108\n",
      "[125]\tvalid_0's binary_logloss: 0.0333108\n",
      "[126]\tvalid_0's binary_logloss: 0.0333108\n",
      "[127]\tvalid_0's binary_logloss: 0.0333108\n",
      "[128]\tvalid_0's binary_logloss: 0.0333108\n"
     ]
    },
    {
     "name": "stderr",
     "output_type": "stream",
     "text": [
      "c:\\ProgramData\\Anaconda3\\lib\\site-packages\\lightgbm\\sklearn.py:726: UserWarning:\n",
      "\n",
      "'early_stopping_rounds' argument is deprecated and will be removed in a future release of LightGBM. Pass 'early_stopping()' callback via 'callbacks' argument instead.\n",
      "\n"
     ]
    },
    {
     "name": "stdout",
     "output_type": "stream",
     "text": [
      "[LightGBM] [Warning] feature_fraction is set=1.0, colsample_bytree=1.0 will be ignored. Current value: feature_fraction=1.0\n",
      "[LightGBM] [Warning] min_data_in_leaf is set=32, min_child_samples=20 will be ignored. Current value: min_data_in_leaf=32\n",
      "[LightGBM] [Warning] min_gain_to_split is set=3.0, min_split_gain=0.0 will be ignored. Current value: min_gain_to_split=3.0\n",
      "[LightGBM] [Warning] bagging_fraction is set=1.0, subsample=1.0 will be ignored. Current value: bagging_fraction=1.0\n",
      "[1]\tvalid_0's binary_logloss: 0.227823\n",
      "[2]\tvalid_0's binary_logloss: 0.193397\n",
      "[3]\tvalid_0's binary_logloss: 0.16918\n",
      "[4]\tvalid_0's binary_logloss: 0.150508\n",
      "[5]\tvalid_0's binary_logloss: 0.135341\n",
      "[6]\tvalid_0's binary_logloss: 0.122752\n",
      "[7]\tvalid_0's binary_logloss: 0.112101\n",
      "[8]\tvalid_0's binary_logloss: 0.10296\n",
      "[9]\tvalid_0's binary_logloss: 0.0951164\n",
      "[10]\tvalid_0's binary_logloss: 0.088281\n",
      "[11]\tvalid_0's binary_logloss: 0.0822992\n",
      "[12]\tvalid_0's binary_logloss: 0.0770222\n",
      "[13]\tvalid_0's binary_logloss: 0.0724283\n",
      "[14]\tvalid_0's binary_logloss: 0.0683336\n",
      "[15]\tvalid_0's binary_logloss: 0.064758\n",
      "[16]\tvalid_0's binary_logloss: 0.0616042\n",
      "[17]\tvalid_0's binary_logloss: 0.0587684\n",
      "[18]\tvalid_0's binary_logloss: 0.0562523\n",
      "[19]\tvalid_0's binary_logloss: 0.0540376\n",
      "[20]\tvalid_0's binary_logloss: 0.0520032\n",
      "[21]\tvalid_0's binary_logloss: 0.0502031\n",
      "[22]\tvalid_0's binary_logloss: 0.0485683\n",
      "[23]\tvalid_0's binary_logloss: 0.0471352\n",
      "[24]\tvalid_0's binary_logloss: 0.0458588\n",
      "[25]\tvalid_0's binary_logloss: 0.0447321\n",
      "[26]\tvalid_0's binary_logloss: 0.0436592\n",
      "[27]\tvalid_0's binary_logloss: 0.0427157\n",
      "[28]\tvalid_0's binary_logloss: 0.0418805\n",
      "[29]\tvalid_0's binary_logloss: 0.0411505\n",
      "[30]\tvalid_0's binary_logloss: 0.0404862\n",
      "[31]\tvalid_0's binary_logloss: 0.0398739\n",
      "[32]\tvalid_0's binary_logloss: 0.0392884\n",
      "[33]\tvalid_0's binary_logloss: 0.0387692\n",
      "[34]\tvalid_0's binary_logloss: 0.0383128\n",
      "[35]\tvalid_0's binary_logloss: 0.0379366\n",
      "[36]\tvalid_0's binary_logloss: 0.0375015\n",
      "[37]\tvalid_0's binary_logloss: 0.0371596\n",
      "[38]\tvalid_0's binary_logloss: 0.0368621\n",
      "[39]\tvalid_0's binary_logloss: 0.0366143\n",
      "[40]\tvalid_0's binary_logloss: 0.0362936\n",
      "[41]\tvalid_0's binary_logloss: 0.0360803\n",
      "[42]\tvalid_0's binary_logloss: 0.035807\n",
      "[43]\tvalid_0's binary_logloss: 0.0356175\n",
      "[44]\tvalid_0's binary_logloss: 0.0354044\n",
      "[45]\tvalid_0's binary_logloss: 0.0352677\n",
      "[46]\tvalid_0's binary_logloss: 0.0351\n",
      "[47]\tvalid_0's binary_logloss: 0.0349563\n",
      "[48]\tvalid_0's binary_logloss: 0.0348166\n",
      "[49]\tvalid_0's binary_logloss: 0.034727\n",
      "[50]\tvalid_0's binary_logloss: 0.0346797\n"
     ]
    },
    {
     "name": "stderr",
     "output_type": "stream",
     "text": [
      "\u001b[32m[I 2023-03-12 21:21:15,255]\u001b[0m Trial 12 finished with value: 0.033393548506636686 and parameters: {'max_depth': 3, 'num_leaves': 18}. Best is trial 1 with value: 0.033310783087823544.\u001b[0m\n"
     ]
    },
    {
     "name": "stdout",
     "output_type": "stream",
     "text": [
      "[51]\tvalid_0's binary_logloss: 0.0345906\n",
      "[52]\tvalid_0's binary_logloss: 0.0345228\n",
      "[53]\tvalid_0's binary_logloss: 0.0344329\n",
      "[54]\tvalid_0's binary_logloss: 0.0343793\n",
      "[55]\tvalid_0's binary_logloss: 0.0342648\n",
      "[56]\tvalid_0's binary_logloss: 0.0341745\n",
      "[57]\tvalid_0's binary_logloss: 0.0341176\n",
      "[58]\tvalid_0's binary_logloss: 0.0340465\n",
      "[59]\tvalid_0's binary_logloss: 0.0339906\n",
      "[60]\tvalid_0's binary_logloss: 0.0339446\n",
      "[61]\tvalid_0's binary_logloss: 0.0338866\n",
      "[62]\tvalid_0's binary_logloss: 0.033793\n",
      "[63]\tvalid_0's binary_logloss: 0.0337058\n",
      "[64]\tvalid_0's binary_logloss: 0.0336787\n",
      "[65]\tvalid_0's binary_logloss: 0.0336448\n",
      "[66]\tvalid_0's binary_logloss: 0.0336097\n",
      "[67]\tvalid_0's binary_logloss: 0.0335935\n",
      "[68]\tvalid_0's binary_logloss: 0.0335273\n",
      "[69]\tvalid_0's binary_logloss: 0.0335047\n",
      "[70]\tvalid_0's binary_logloss: 0.0334999\n",
      "[71]\tvalid_0's binary_logloss: 0.0334672\n",
      "[72]\tvalid_0's binary_logloss: 0.0334574\n",
      "[73]\tvalid_0's binary_logloss: 0.0334371\n",
      "[74]\tvalid_0's binary_logloss: 0.0334344\n",
      "[75]\tvalid_0's binary_logloss: 0.0334246\n",
      "[76]\tvalid_0's binary_logloss: 0.033423\n",
      "[77]\tvalid_0's binary_logloss: 0.0334115\n",
      "[78]\tvalid_0's binary_logloss: 0.0334115\n",
      "[79]\tvalid_0's binary_logloss: 0.0334115\n",
      "[80]\tvalid_0's binary_logloss: 0.0334115\n",
      "[81]\tvalid_0's binary_logloss: 0.0334111\n",
      "[82]\tvalid_0's binary_logloss: 0.0334111\n",
      "[83]\tvalid_0's binary_logloss: 0.0334111\n",
      "[84]\tvalid_0's binary_logloss: 0.0334111\n",
      "[85]\tvalid_0's binary_logloss: 0.0334111\n",
      "[86]\tvalid_0's binary_logloss: 0.0334111\n",
      "[87]\tvalid_0's binary_logloss: 0.0334111\n",
      "[88]\tvalid_0's binary_logloss: 0.0334057\n",
      "[89]\tvalid_0's binary_logloss: 0.0334057\n",
      "[90]\tvalid_0's binary_logloss: 0.0334057\n",
      "[91]\tvalid_0's binary_logloss: 0.0334057\n",
      "[92]\tvalid_0's binary_logloss: 0.0334055\n",
      "[93]\tvalid_0's binary_logloss: 0.0333935\n",
      "[94]\tvalid_0's binary_logloss: 0.0333935\n",
      "[95]\tvalid_0's binary_logloss: 0.0333935\n",
      "[96]\tvalid_0's binary_logloss: 0.0333935\n",
      "[97]\tvalid_0's binary_logloss: 0.0333935\n",
      "[98]\tvalid_0's binary_logloss: 0.0333935\n",
      "[99]\tvalid_0's binary_logloss: 0.0333935\n",
      "[100]\tvalid_0's binary_logloss: 0.0333935\n",
      "[101]\tvalid_0's binary_logloss: 0.0333935\n",
      "[102]\tvalid_0's binary_logloss: 0.0333935\n",
      "[103]\tvalid_0's binary_logloss: 0.0333935\n",
      "[104]\tvalid_0's binary_logloss: 0.0333935\n",
      "[105]\tvalid_0's binary_logloss: 0.0333935\n",
      "[106]\tvalid_0's binary_logloss: 0.0333935\n",
      "[107]\tvalid_0's binary_logloss: 0.0333935\n",
      "[108]\tvalid_0's binary_logloss: 0.0333935\n",
      "[109]\tvalid_0's binary_logloss: 0.0333935\n",
      "[110]\tvalid_0's binary_logloss: 0.0333935\n",
      "[111]\tvalid_0's binary_logloss: 0.0333935\n",
      "[112]\tvalid_0's binary_logloss: 0.0333935\n",
      "[113]\tvalid_0's binary_logloss: 0.0333935\n",
      "[114]\tvalid_0's binary_logloss: 0.0333935\n",
      "[115]\tvalid_0's binary_logloss: 0.0333935\n",
      "[116]\tvalid_0's binary_logloss: 0.0333935\n",
      "[117]\tvalid_0's binary_logloss: 0.0333935\n",
      "[118]\tvalid_0's binary_logloss: 0.0333935\n",
      "[119]\tvalid_0's binary_logloss: 0.0333935\n",
      "[120]\tvalid_0's binary_logloss: 0.0333935\n",
      "[121]\tvalid_0's binary_logloss: 0.0333935\n",
      "[122]\tvalid_0's binary_logloss: 0.0333935\n",
      "[123]\tvalid_0's binary_logloss: 0.0333935\n",
      "[124]\tvalid_0's binary_logloss: 0.0333935\n",
      "[125]\tvalid_0's binary_logloss: 0.0333935\n",
      "[126]\tvalid_0's binary_logloss: 0.0333935\n",
      "[127]\tvalid_0's binary_logloss: 0.0333935\n",
      "[128]\tvalid_0's binary_logloss: 0.0333935\n"
     ]
    },
    {
     "name": "stderr",
     "output_type": "stream",
     "text": [
      "c:\\ProgramData\\Anaconda3\\lib\\site-packages\\lightgbm\\sklearn.py:726: UserWarning:\n",
      "\n",
      "'early_stopping_rounds' argument is deprecated and will be removed in a future release of LightGBM. Pass 'early_stopping()' callback via 'callbacks' argument instead.\n",
      "\n"
     ]
    },
    {
     "name": "stdout",
     "output_type": "stream",
     "text": [
      "[LightGBM] [Warning] feature_fraction is set=1.0, colsample_bytree=1.0 will be ignored. Current value: feature_fraction=1.0\n",
      "[LightGBM] [Warning] min_data_in_leaf is set=32, min_child_samples=20 will be ignored. Current value: min_data_in_leaf=32\n",
      "[LightGBM] [Warning] min_gain_to_split is set=3.0, min_split_gain=0.0 will be ignored. Current value: min_gain_to_split=3.0\n",
      "[LightGBM] [Warning] bagging_fraction is set=1.0, subsample=1.0 will be ignored. Current value: bagging_fraction=1.0\n",
      "[1]\tvalid_0's binary_logloss: 0.227343\n",
      "[2]\tvalid_0's binary_logloss: 0.192606\n",
      "[3]\tvalid_0's binary_logloss: 0.168309\n",
      "[4]\tvalid_0's binary_logloss: 0.149588\n",
      "[5]\tvalid_0's binary_logloss: 0.134371\n",
      "[6]\tvalid_0's binary_logloss: 0.121746\n",
      "[7]\tvalid_0's binary_logloss: 0.11105\n",
      "[8]\tvalid_0's binary_logloss: 0.101925\n",
      "[9]\tvalid_0's binary_logloss: 0.0940154\n",
      "[10]\tvalid_0's binary_logloss: 0.0871162\n",
      "[11]\tvalid_0's binary_logloss: 0.0810935\n",
      "[12]\tvalid_0's binary_logloss: 0.0758212\n",
      "[13]\tvalid_0's binary_logloss: 0.07118\n",
      "[14]\tvalid_0's binary_logloss: 0.0670579\n",
      "[15]\tvalid_0's binary_logloss: 0.063392\n",
      "[16]\tvalid_0's binary_logloss: 0.0601696\n",
      "[17]\tvalid_0's binary_logloss: 0.0572745\n",
      "[18]\tvalid_0's binary_logloss: 0.0547202\n",
      "[19]\tvalid_0's binary_logloss: 0.052502\n",
      "[20]\tvalid_0's binary_logloss: 0.0504758\n",
      "[21]\tvalid_0's binary_logloss: 0.0487379\n",
      "[22]\tvalid_0's binary_logloss: 0.0471296\n",
      "[23]\tvalid_0's binary_logloss: 0.0456947\n",
      "[24]\tvalid_0's binary_logloss: 0.0444614\n",
      "[25]\tvalid_0's binary_logloss: 0.0432991\n",
      "[26]\tvalid_0's binary_logloss: 0.0422493\n",
      "[27]\tvalid_0's binary_logloss: 0.0413268\n",
      "[28]\tvalid_0's binary_logloss: 0.0405161\n",
      "[29]\tvalid_0's binary_logloss: 0.0397696\n",
      "[30]\tvalid_0's binary_logloss: 0.0391054\n",
      "[31]\tvalid_0's binary_logloss: 0.0385218\n",
      "[32]\tvalid_0's binary_logloss: 0.0379442\n",
      "[33]\tvalid_0's binary_logloss: 0.0374674\n",
      "[34]\tvalid_0's binary_logloss: 0.0369937\n",
      "[35]\tvalid_0's binary_logloss: 0.0365879\n",
      "[36]\tvalid_0's binary_logloss: 0.0362322\n",
      "[37]\tvalid_0's binary_logloss: 0.035896\n",
      "[38]\tvalid_0's binary_logloss: 0.0356066\n",
      "[39]\tvalid_0's binary_logloss: 0.0353998\n",
      "[40]\tvalid_0's binary_logloss: 0.035197\n",
      "[41]\tvalid_0's binary_logloss: 0.0350032\n",
      "[42]\tvalid_0's binary_logloss: 0.0348354\n",
      "[43]\tvalid_0's binary_logloss: 0.0346305\n",
      "[44]\tvalid_0's binary_logloss: 0.0345104\n",
      "[45]\tvalid_0's binary_logloss: 0.0343981\n",
      "[46]\tvalid_0's binary_logloss: 0.0342504\n",
      "[47]\tvalid_0's binary_logloss: 0.0341408\n",
      "[48]\tvalid_0's binary_logloss: 0.0340521\n",
      "[49]\tvalid_0's binary_logloss: 0.0340052\n",
      "[50]\tvalid_0's binary_logloss: 0.0339597\n",
      "[51]\tvalid_0's binary_logloss: 0.0338994\n",
      "[52]\tvalid_0's binary_logloss: 0.0338123\n",
      "[53]\tvalid_0's binary_logloss: 0.0337487\n",
      "[54]\tvalid_0's binary_logloss: 0.0337065\n",
      "[55]\tvalid_0's binary_logloss: 0.0336831\n",
      "[56]\tvalid_0's binary_logloss: 0.0336162\n",
      "[57]\tvalid_0's binary_logloss: 0.0335919\n",
      "[58]\tvalid_0's binary_logloss: 0.033531\n",
      "[59]\tvalid_0's binary_logloss: 0.0335036\n",
      "[60]\tvalid_0's binary_logloss: 0.0334674\n",
      "[61]\tvalid_0's binary_logloss: 0.0334144\n",
      "[62]\tvalid_0's binary_logloss: 0.0334007\n",
      "[63]\tvalid_0's binary_logloss: 0.0333927\n",
      "[64]\tvalid_0's binary_logloss: 0.0333564\n",
      "[65]\tvalid_0's binary_logloss: 0.0333476\n",
      "[66]\tvalid_0's binary_logloss: 0.0333476\n",
      "[67]\tvalid_0's binary_logloss: 0.0333457\n",
      "[68]\tvalid_0's binary_logloss: 0.0333457\n",
      "[69]\tvalid_0's binary_logloss: 0.03334\n",
      "[70]\tvalid_0's binary_logloss: 0.03334\n",
      "[71]\tvalid_0's binary_logloss: 0.033322\n",
      "[72]\tvalid_0's binary_logloss: 0.033322\n",
      "[73]\tvalid_0's binary_logloss: 0.033322\n",
      "[74]\tvalid_0's binary_logloss: 0.0333173\n",
      "[75]\tvalid_0's binary_logloss: 0.0333173\n",
      "[76]\tvalid_0's binary_logloss: 0.0333173\n",
      "[77]\tvalid_0's binary_logloss: 0.0333173\n",
      "[78]\tvalid_0's binary_logloss: 0.0333169\n",
      "[79]\tvalid_0's binary_logloss: 0.0333169\n",
      "[80]\tvalid_0's binary_logloss: 0.0333169\n",
      "[81]\tvalid_0's binary_logloss: 0.0333169\n",
      "[82]\tvalid_0's binary_logloss: 0.0333169\n",
      "[83]\tvalid_0's binary_logloss: 0.0333169\n",
      "[84]\tvalid_0's binary_logloss: 0.0333169\n",
      "[85]\tvalid_0's binary_logloss: 0.0333169\n",
      "[86]\tvalid_0's binary_logloss: 0.0333169\n",
      "[87]\tvalid_0's binary_logloss: 0.0333169\n",
      "[88]\tvalid_0's binary_logloss: 0.0333169\n",
      "[89]\tvalid_0's binary_logloss: 0.0333169\n",
      "[90]\tvalid_0's binary_logloss: 0.0333169\n",
      "[91]\tvalid_0's binary_logloss: 0.0333169\n",
      "[92]\tvalid_0's binary_logloss: 0.0333108\n",
      "[93]\tvalid_0's binary_logloss: 0.0333108\n",
      "[94]\tvalid_0's binary_logloss: 0.0333108\n",
      "[95]\tvalid_0's binary_logloss: 0.0333108\n",
      "[96]\tvalid_0's binary_logloss: 0.0333108\n",
      "[97]\tvalid_0's binary_logloss: 0.0333108\n",
      "[98]\tvalid_0's binary_logloss: 0.0333108\n",
      "[99]\tvalid_0's binary_logloss: 0.0333108\n",
      "[100]\tvalid_0's binary_logloss: 0.0333108\n",
      "[101]\tvalid_0's binary_logloss: 0.0333108\n",
      "[102]\tvalid_0's binary_logloss: 0.0333108\n",
      "[103]\tvalid_0's binary_logloss: 0.0333108\n",
      "[104]\tvalid_0's binary_logloss: 0.0333108\n",
      "[105]\tvalid_0's binary_logloss: 0.0333108\n",
      "[106]\tvalid_0's binary_logloss: 0.0333108\n",
      "[107]\tvalid_0's binary_logloss: 0.0333108\n",
      "[108]\tvalid_0's binary_logloss: 0.0333108\n",
      "[109]\tvalid_0's binary_logloss: 0.0333108\n",
      "[110]\tvalid_0's binary_logloss: 0.0333108\n",
      "[111]\tvalid_0's binary_logloss: 0.0333108\n",
      "[112]\tvalid_0's binary_logloss: 0.0333108\n",
      "[113]\tvalid_0's binary_logloss: 0.0333108\n",
      "[114]\tvalid_0's binary_logloss: 0.0333108\n",
      "[115]\tvalid_0's binary_logloss: 0.0333108\n",
      "[116]\tvalid_0's binary_logloss: 0.0333108\n",
      "[117]\tvalid_0's binary_logloss: 0.0333108\n",
      "[118]\tvalid_0's binary_logloss: 0.0333108\n",
      "[119]\tvalid_0's binary_logloss: 0.0333108\n",
      "[120]\tvalid_0's binary_logloss: 0.0333108\n",
      "[121]\tvalid_0's binary_logloss: 0.0333108\n",
      "[122]\tvalid_0's binary_logloss: 0.0333108\n",
      "[123]\tvalid_0's binary_logloss: 0.0333108\n",
      "[124]\tvalid_0's binary_logloss: 0.0333108\n",
      "[125]\tvalid_0's binary_logloss: 0.0333108\n",
      "[126]\tvalid_0's binary_logloss: 0.0333108\n",
      "[127]\tvalid_0's binary_logloss: 0.0333108\n",
      "[128]\tvalid_0's binary_logloss: 0.0333108\n"
     ]
    },
    {
     "name": "stderr",
     "output_type": "stream",
     "text": [
      "\u001b[32m[I 2023-03-12 21:21:15,698]\u001b[0m Trial 13 finished with value: 0.033310783087823544 and parameters: {'max_depth': 4, 'num_leaves': 21}. Best is trial 1 with value: 0.033310783087823544.\u001b[0m\n",
      "c:\\ProgramData\\Anaconda3\\lib\\site-packages\\lightgbm\\sklearn.py:726: UserWarning:\n",
      "\n",
      "'early_stopping_rounds' argument is deprecated and will be removed in a future release of LightGBM. Pass 'early_stopping()' callback via 'callbacks' argument instead.\n",
      "\n"
     ]
    },
    {
     "name": "stdout",
     "output_type": "stream",
     "text": [
      "[LightGBM] [Warning] feature_fraction is set=1.0, colsample_bytree=1.0 will be ignored. Current value: feature_fraction=1.0\n",
      "[LightGBM] [Warning] min_data_in_leaf is set=32, min_child_samples=20 will be ignored. Current value: min_data_in_leaf=32\n",
      "[LightGBM] [Warning] min_gain_to_split is set=3.0, min_split_gain=0.0 will be ignored. Current value: min_gain_to_split=3.0\n",
      "[LightGBM] [Warning] bagging_fraction is set=1.0, subsample=1.0 will be ignored. Current value: bagging_fraction=1.0\n",
      "[1]\tvalid_0's binary_logloss: 0.227229\n",
      "[2]\tvalid_0's binary_logloss: 0.192525\n",
      "[3]\tvalid_0's binary_logloss: 0.168321\n",
      "[4]\tvalid_0's binary_logloss: 0.149572\n",
      "[5]\tvalid_0's binary_logloss: 0.134278\n",
      "[6]\tvalid_0's binary_logloss: 0.121581\n",
      "[7]\tvalid_0's binary_logloss: 0.110881\n",
      "[8]\tvalid_0's binary_logloss: 0.101669\n",
      "[9]\tvalid_0's binary_logloss: 0.093708\n",
      "[10]\tvalid_0's binary_logloss: 0.086789\n",
      "[11]\tvalid_0's binary_logloss: 0.0807804\n",
      "[12]\tvalid_0's binary_logloss: 0.0754786\n",
      "[13]\tvalid_0's binary_logloss: 0.0708098\n",
      "[14]\tvalid_0's binary_logloss: 0.0667019\n",
      "[15]\tvalid_0's binary_logloss: 0.0630671\n",
      "[16]\tvalid_0's binary_logloss: 0.0598634\n",
      "[17]\tvalid_0's binary_logloss: 0.0569834\n",
      "[18]\tvalid_0's binary_logloss: 0.0543867\n",
      "[19]\tvalid_0's binary_logloss: 0.0521212\n",
      "[20]\tvalid_0's binary_logloss: 0.050126\n",
      "[21]\tvalid_0's binary_logloss: 0.0482933\n",
      "[22]\tvalid_0's binary_logloss: 0.0466959\n",
      "[23]\tvalid_0's binary_logloss: 0.045248\n",
      "[24]\tvalid_0's binary_logloss: 0.043965\n",
      "[25]\tvalid_0's binary_logloss: 0.0428254\n",
      "[26]\tvalid_0's binary_logloss: 0.0417977\n",
      "[27]\tvalid_0's binary_logloss: 0.0408667\n",
      "[28]\tvalid_0's binary_logloss: 0.040044\n",
      "[29]\tvalid_0's binary_logloss: 0.0393146\n",
      "[30]\tvalid_0's binary_logloss: 0.0386718\n",
      "[31]\tvalid_0's binary_logloss: 0.0380816\n",
      "[32]\tvalid_0's binary_logloss: 0.0375623\n",
      "[33]\tvalid_0's binary_logloss: 0.0371045\n",
      "[34]\tvalid_0's binary_logloss: 0.0366959\n",
      "[35]\tvalid_0's binary_logloss: 0.0363419\n",
      "[36]\tvalid_0's binary_logloss: 0.0360327\n",
      "[37]\tvalid_0's binary_logloss: 0.0357359\n",
      "[38]\tvalid_0's binary_logloss: 0.0354389\n",
      "[39]\tvalid_0's binary_logloss: 0.0352323\n",
      "[40]\tvalid_0's binary_logloss: 0.0349954\n",
      "[41]\tvalid_0's binary_logloss: 0.0348226\n",
      "[42]\tvalid_0's binary_logloss: 0.0346624\n",
      "[43]\tvalid_0's binary_logloss: 0.0345053\n",
      "[44]\tvalid_0's binary_logloss: 0.0343557\n",
      "[45]\tvalid_0's binary_logloss: 0.0342268\n",
      "[46]\tvalid_0's binary_logloss: 0.0341464\n",
      "[47]\tvalid_0's binary_logloss: 0.0340396\n",
      "[48]\tvalid_0's binary_logloss: 0.0339856\n",
      "[49]\tvalid_0's binary_logloss: 0.0339366\n",
      "[50]\tvalid_0's binary_logloss: 0.0338854\n",
      "[51]\tvalid_0's binary_logloss: 0.0338074\n",
      "[52]\tvalid_0's binary_logloss: 0.0337831\n",
      "[53]\tvalid_0's binary_logloss: 0.0337325\n",
      "[54]\tvalid_0's binary_logloss: 0.0337017\n",
      "[55]\tvalid_0's binary_logloss: 0.0336775\n",
      "[56]\tvalid_0's binary_logloss: 0.0336419\n",
      "[57]\tvalid_0's binary_logloss: 0.0335779\n",
      "[58]\tvalid_0's binary_logloss: 0.0335566\n",
      "[59]\tvalid_0's binary_logloss: 0.0335292\n",
      "[60]\tvalid_0's binary_logloss: 0.0335068\n",
      "[61]\tvalid_0's binary_logloss: 0.0334763\n",
      "[62]\tvalid_0's binary_logloss: 0.0334735\n",
      "[63]\tvalid_0's binary_logloss: 0.0334708\n",
      "[64]\tvalid_0's binary_logloss: 0.0334647\n",
      "[65]\tvalid_0's binary_logloss: 0.0334588\n",
      "[66]\tvalid_0's binary_logloss: 0.0334618\n",
      "[67]\tvalid_0's binary_logloss: 0.0334618\n",
      "[68]\tvalid_0's binary_logloss: 0.0334618\n",
      "[69]\tvalid_0's binary_logloss: 0.0334621\n",
      "[70]\tvalid_0's binary_logloss: 0.0334492\n",
      "[71]\tvalid_0's binary_logloss: 0.0334473\n",
      "[72]\tvalid_0's binary_logloss: 0.0334473\n",
      "[73]\tvalid_0's binary_logloss: 0.0334456\n",
      "[74]\tvalid_0's binary_logloss: 0.0334385\n",
      "[75]\tvalid_0's binary_logloss: 0.0334385\n",
      "[76]\tvalid_0's binary_logloss: 0.0334385\n",
      "[77]\tvalid_0's binary_logloss: 0.0334385\n",
      "[78]\tvalid_0's binary_logloss: 0.0334385\n",
      "[79]\tvalid_0's binary_logloss: 0.0334368\n",
      "[80]\tvalid_0's binary_logloss: 0.0334368\n",
      "[81]\tvalid_0's binary_logloss: 0.0334368\n",
      "[82]\tvalid_0's binary_logloss: 0.0334368\n",
      "[83]\tvalid_0's binary_logloss: 0.0334318\n",
      "[84]\tvalid_0's binary_logloss: 0.0334318\n",
      "[85]\tvalid_0's binary_logloss: 0.0334318\n",
      "[86]\tvalid_0's binary_logloss: 0.0334318\n",
      "[87]\tvalid_0's binary_logloss: 0.0334318\n",
      "[88]\tvalid_0's binary_logloss: 0.0334318\n",
      "[89]\tvalid_0's binary_logloss: 0.0334318\n",
      "[90]\tvalid_0's binary_logloss: 0.0334318\n",
      "[91]\tvalid_0's binary_logloss: 0.0334318\n",
      "[92]\tvalid_0's binary_logloss: 0.0334318\n",
      "[93]\tvalid_0's binary_logloss: 0.0334318\n",
      "[94]\tvalid_0's binary_logloss: 0.0334318\n",
      "[95]\tvalid_0's binary_logloss: 0.0334288\n",
      "[96]\tvalid_0's binary_logloss: 0.0334288\n",
      "[97]\tvalid_0's binary_logloss: 0.0334288\n",
      "[98]\tvalid_0's binary_logloss: 0.0334288\n",
      "[99]\tvalid_0's binary_logloss: 0.0334288\n",
      "[100]\tvalid_0's binary_logloss: 0.0334288\n",
      "[101]\tvalid_0's binary_logloss: 0.0334288\n",
      "[102]\tvalid_0's binary_logloss: 0.0334288\n",
      "[103]\tvalid_0's binary_logloss: 0.0334288\n",
      "[104]\tvalid_0's binary_logloss: 0.0334288\n",
      "[105]\tvalid_0's binary_logloss: 0.0334288\n",
      "[106]\tvalid_0's binary_logloss: 0.0334288\n",
      "[107]\tvalid_0's binary_logloss: 0.0334288\n",
      "[108]\tvalid_0's binary_logloss: 0.0334288\n",
      "[109]\tvalid_0's binary_logloss: 0.0334288\n",
      "[110]\tvalid_0's binary_logloss: 0.0334288\n",
      "[111]\tvalid_0's binary_logloss: 0.0334288\n",
      "[112]\tvalid_0's binary_logloss: 0.0334288\n",
      "[113]\tvalid_0's binary_logloss: 0.0334288\n",
      "[114]\tvalid_0's binary_logloss: 0.0334288\n",
      "[115]\tvalid_0's binary_logloss: 0.0334288\n",
      "[116]\tvalid_0's binary_logloss: 0.0334288\n",
      "[117]\tvalid_0's binary_logloss: 0.0334288\n",
      "[118]\tvalid_0's binary_logloss: 0.0334288\n",
      "[119]\tvalid_0's binary_logloss: 0.0334288\n"
     ]
    },
    {
     "name": "stderr",
     "output_type": "stream",
     "text": [
      "\u001b[32m[I 2023-03-12 21:21:16,199]\u001b[0m Trial 14 finished with value: 0.03342880048811407 and parameters: {'max_depth': 5, 'num_leaves': 17}. Best is trial 1 with value: 0.033310783087823544.\u001b[0m\n"
     ]
    },
    {
     "name": "stdout",
     "output_type": "stream",
     "text": [
      "[120]\tvalid_0's binary_logloss: 0.0334288\n",
      "[121]\tvalid_0's binary_logloss: 0.0334288\n",
      "[122]\tvalid_0's binary_logloss: 0.0334288\n",
      "[123]\tvalid_0's binary_logloss: 0.0334288\n",
      "[124]\tvalid_0's binary_logloss: 0.0334288\n",
      "[125]\tvalid_0's binary_logloss: 0.0334288\n",
      "[126]\tvalid_0's binary_logloss: 0.0334288\n",
      "[127]\tvalid_0's binary_logloss: 0.0334288\n",
      "[128]\tvalid_0's binary_logloss: 0.0334288\n",
      "[LightGBM] [Warning] feature_fraction is set=1.0, colsample_bytree=1.0 will be ignored. Current value: feature_fraction=1.0\n",
      "[LightGBM] [Warning] min_data_in_leaf is set=32, min_child_samples=20 will be ignored. Current value: min_data_in_leaf=32\n",
      "[LightGBM] [Warning] min_gain_to_split is set=3.0, min_split_gain=0.0 will be ignored. Current value: min_gain_to_split=3.0\n",
      "[LightGBM] [Warning] bagging_fraction is set=1.0, subsample=1.0 will be ignored. Current value: bagging_fraction=1.0\n",
      "[1]\tvalid_0's binary_logloss: 0.227096\n",
      "[2]\tvalid_0's binary_logloss: 0.192381\n",
      "[3]\tvalid_0's binary_logloss: 0.168096\n",
      "[4]\tvalid_0's binary_logloss: 0.149354\n",
      "[5]\tvalid_0's binary_logloss: 0.134074\n",
      "[6]\tvalid_0's binary_logloss: 0.121439\n",
      "[7]\tvalid_0's binary_logloss: 0.110698\n",
      "[8]\tvalid_0's binary_logloss: 0.101492\n",
      "[9]\tvalid_0's binary_logloss: 0.0935326\n",
      "[10]\tvalid_0's binary_logloss: 0.0865976\n",
      "[11]\tvalid_0's binary_logloss: 0.0805407\n",
      "[12]\tvalid_0's binary_logloss: 0.0752598\n",
      "[13]\tvalid_0's binary_logloss: 0.0705843\n",
      "[14]\tvalid_0's binary_logloss: 0.0664617\n",
      "[15]\tvalid_0's binary_logloss: 0.0627982\n",
      "[16]\tvalid_0's binary_logloss: 0.0595531\n",
      "[17]\tvalid_0's binary_logloss: 0.0567004\n"
     ]
    },
    {
     "name": "stderr",
     "output_type": "stream",
     "text": [
      "c:\\ProgramData\\Anaconda3\\lib\\site-packages\\lightgbm\\sklearn.py:726: UserWarning:\n",
      "\n",
      "'early_stopping_rounds' argument is deprecated and will be removed in a future release of LightGBM. Pass 'early_stopping()' callback via 'callbacks' argument instead.\n",
      "\n"
     ]
    },
    {
     "name": "stdout",
     "output_type": "stream",
     "text": [
      "[18]\tvalid_0's binary_logloss: 0.0541332\n",
      "[19]\tvalid_0's binary_logloss: 0.0518793\n",
      "[20]\tvalid_0's binary_logloss: 0.049888\n",
      "[21]\tvalid_0's binary_logloss: 0.048079\n",
      "[22]\tvalid_0's binary_logloss: 0.0464764\n",
      "[23]\tvalid_0's binary_logloss: 0.0450465\n",
      "[24]\tvalid_0's binary_logloss: 0.0437724\n",
      "[25]\tvalid_0's binary_logloss: 0.0426189\n",
      "[26]\tvalid_0's binary_logloss: 0.0416226\n",
      "[27]\tvalid_0's binary_logloss: 0.0407147\n",
      "[28]\tvalid_0's binary_logloss: 0.0399258\n",
      "[29]\tvalid_0's binary_logloss: 0.039216\n",
      "[30]\tvalid_0's binary_logloss: 0.0385612\n",
      "[31]\tvalid_0's binary_logloss: 0.0379797\n",
      "[32]\tvalid_0's binary_logloss: 0.0374862\n",
      "[33]\tvalid_0's binary_logloss: 0.0370119\n",
      "[34]\tvalid_0's binary_logloss: 0.0366169\n",
      "[35]\tvalid_0's binary_logloss: 0.0362209\n",
      "[36]\tvalid_0's binary_logloss: 0.035936\n",
      "[37]\tvalid_0's binary_logloss: 0.0356489\n",
      "[38]\tvalid_0's binary_logloss: 0.0353709\n",
      "[39]\tvalid_0's binary_logloss: 0.0351383\n",
      "[40]\tvalid_0's binary_logloss: 0.0349303\n",
      "[41]\tvalid_0's binary_logloss: 0.0347529\n",
      "[42]\tvalid_0's binary_logloss: 0.0346181\n",
      "[43]\tvalid_0's binary_logloss: 0.0344982\n",
      "[44]\tvalid_0's binary_logloss: 0.0343518\n",
      "[45]\tvalid_0's binary_logloss: 0.0342437\n",
      "[46]\tvalid_0's binary_logloss: 0.0341574\n",
      "[47]\tvalid_0's binary_logloss: 0.0340677\n",
      "[48]\tvalid_0's binary_logloss: 0.0340017\n",
      "[49]\tvalid_0's binary_logloss: 0.0339524\n",
      "[50]\tvalid_0's binary_logloss: 0.0339202\n",
      "[51]\tvalid_0's binary_logloss: 0.0338774\n",
      "[52]\tvalid_0's binary_logloss: 0.0337935\n",
      "[53]\tvalid_0's binary_logloss: 0.0337693\n",
      "[54]\tvalid_0's binary_logloss: 0.0337545\n",
      "[55]\tvalid_0's binary_logloss: 0.0337168\n",
      "[56]\tvalid_0's binary_logloss: 0.0336698\n",
      "[57]\tvalid_0's binary_logloss: 0.0336455\n",
      "[58]\tvalid_0's binary_logloss: 0.0336261\n",
      "[59]\tvalid_0's binary_logloss: 0.0335989\n",
      "[60]\tvalid_0's binary_logloss: 0.0335953\n",
      "[61]\tvalid_0's binary_logloss: 0.0335651\n",
      "[62]\tvalid_0's binary_logloss: 0.0335466\n",
      "[63]\tvalid_0's binary_logloss: 0.0335337\n",
      "[64]\tvalid_0's binary_logloss: 0.0335333\n",
      "[65]\tvalid_0's binary_logloss: 0.0335187\n",
      "[66]\tvalid_0's binary_logloss: 0.0335185\n",
      "[67]\tvalid_0's binary_logloss: 0.0335158\n",
      "[68]\tvalid_0's binary_logloss: 0.0335089\n",
      "[69]\tvalid_0's binary_logloss: 0.0335059\n",
      "[70]\tvalid_0's binary_logloss: 0.0335059\n",
      "[71]\tvalid_0's binary_logloss: 0.0335059\n",
      "[72]\tvalid_0's binary_logloss: 0.0335059\n",
      "[73]\tvalid_0's binary_logloss: 0.0335059\n",
      "[74]\tvalid_0's binary_logloss: 0.0335059\n",
      "[75]\tvalid_0's binary_logloss: 0.0335059\n",
      "[76]\tvalid_0's binary_logloss: 0.0335059\n",
      "[77]\tvalid_0's binary_logloss: 0.0335059\n",
      "[78]\tvalid_0's binary_logloss: 0.0335059\n",
      "[79]\tvalid_0's binary_logloss: 0.0335059\n",
      "[80]\tvalid_0's binary_logloss: 0.0335059\n",
      "[81]\tvalid_0's binary_logloss: 0.033501\n",
      "[82]\tvalid_0's binary_logloss: 0.033501\n",
      "[83]\tvalid_0's binary_logloss: 0.0334884\n",
      "[84]\tvalid_0's binary_logloss: 0.0334884\n",
      "[85]\tvalid_0's binary_logloss: 0.0334884\n",
      "[86]\tvalid_0's binary_logloss: 0.0334884\n",
      "[87]\tvalid_0's binary_logloss: 0.0334884\n",
      "[88]\tvalid_0's binary_logloss: 0.0334884\n",
      "[89]\tvalid_0's binary_logloss: 0.0334884\n",
      "[90]\tvalid_0's binary_logloss: 0.0334884\n",
      "[91]\tvalid_0's binary_logloss: 0.0334884\n",
      "[92]\tvalid_0's binary_logloss: 0.0334884\n",
      "[93]\tvalid_0's binary_logloss: 0.0334884\n",
      "[94]\tvalid_0's binary_logloss: 0.0334884\n",
      "[95]\tvalid_0's binary_logloss: 0.0334884\n",
      "[96]\tvalid_0's binary_logloss: 0.0334884\n",
      "[97]\tvalid_0's binary_logloss: 0.0334885\n",
      "[98]\tvalid_0's binary_logloss: 0.0334885\n",
      "[99]\tvalid_0's binary_logloss: 0.0334885\n",
      "[100]\tvalid_0's binary_logloss: 0.0334885\n",
      "[101]\tvalid_0's binary_logloss: 0.0334885\n",
      "[102]\tvalid_0's binary_logloss: 0.0334885\n",
      "[103]\tvalid_0's binary_logloss: 0.0334885\n",
      "[104]\tvalid_0's binary_logloss: 0.0334885\n",
      "[105]\tvalid_0's binary_logloss: 0.0334885\n",
      "[106]\tvalid_0's binary_logloss: 0.0334759\n",
      "[107]\tvalid_0's binary_logloss: 0.0334759\n",
      "[108]\tvalid_0's binary_logloss: 0.0334759\n",
      "[109]\tvalid_0's binary_logloss: 0.0334759\n",
      "[110]\tvalid_0's binary_logloss: 0.0334759\n",
      "[111]\tvalid_0's binary_logloss: 0.0334759\n",
      "[112]\tvalid_0's binary_logloss: 0.0334759\n",
      "[113]\tvalid_0's binary_logloss: 0.0334759\n",
      "[114]\tvalid_0's binary_logloss: 0.0334759\n",
      "[115]\tvalid_0's binary_logloss: 0.0334759\n",
      "[116]\tvalid_0's binary_logloss: 0.0334759\n"
     ]
    },
    {
     "name": "stderr",
     "output_type": "stream",
     "text": [
      "\u001b[32m[I 2023-03-12 21:21:16,638]\u001b[0m Trial 15 finished with value: 0.033475910886838954 and parameters: {'max_depth': 5, 'num_leaves': 21}. Best is trial 1 with value: 0.033310783087823544.\u001b[0m\n"
     ]
    },
    {
     "name": "stdout",
     "output_type": "stream",
     "text": [
      "[117]\tvalid_0's binary_logloss: 0.0334759\n",
      "[118]\tvalid_0's binary_logloss: 0.0334759\n",
      "[119]\tvalid_0's binary_logloss: 0.0334759\n",
      "[120]\tvalid_0's binary_logloss: 0.0334759\n",
      "[121]\tvalid_0's binary_logloss: 0.0334759\n",
      "[122]\tvalid_0's binary_logloss: 0.0334759\n",
      "[123]\tvalid_0's binary_logloss: 0.0334759\n",
      "[124]\tvalid_0's binary_logloss: 0.0334759\n",
      "[125]\tvalid_0's binary_logloss: 0.0334759\n",
      "[126]\tvalid_0's binary_logloss: 0.0334759\n",
      "[127]\tvalid_0's binary_logloss: 0.0334759\n",
      "[128]\tvalid_0's binary_logloss: 0.0334759\n",
      "[LightGBM] [Warning] feature_fraction is set=1.0, colsample_bytree=1.0 will be ignored. Current value: feature_fraction=1.0\n",
      "[LightGBM] [Warning] min_data_in_leaf is set=32, min_child_samples=20 will be ignored. Current value: min_data_in_leaf=32\n",
      "[LightGBM] [Warning] min_gain_to_split is set=3.0, min_split_gain=0.0 will be ignored. Current value: min_gain_to_split=3.0\n",
      "[LightGBM] [Warning] bagging_fraction is set=1.0, subsample=1.0 will be ignored. Current value: bagging_fraction=1.0\n",
      "[1]\tvalid_0's binary_logloss: 0.227823\n",
      "[2]\tvalid_0's binary_logloss: 0.193397\n",
      "[3]\tvalid_0's binary_logloss: 0.16918\n",
      "[4]\tvalid_0's binary_logloss: 0.150508\n",
      "[5]\tvalid_0's binary_logloss: 0.135341\n",
      "[6]\tvalid_0's binary_logloss: 0.122752\n",
      "[7]\tvalid_0's binary_logloss: 0.112101\n",
      "[8]\tvalid_0's binary_logloss: 0.10296\n",
      "[9]\tvalid_0's binary_logloss: 0.0951164\n",
      "[10]\tvalid_0's binary_logloss: 0.088281\n",
      "[11]\tvalid_0's binary_logloss: 0.0822992\n",
      "[12]\tvalid_0's binary_logloss: 0.0770222\n",
      "[13]\tvalid_0's binary_logloss: 0.0724283\n",
      "[14]\tvalid_0's binary_logloss: 0.0683336\n",
      "[15]\tvalid_0's binary_logloss: 0.064758\n",
      "[16]\tvalid_0's binary_logloss: 0.0616042\n"
     ]
    },
    {
     "name": "stderr",
     "output_type": "stream",
     "text": [
      "c:\\ProgramData\\Anaconda3\\lib\\site-packages\\lightgbm\\sklearn.py:726: UserWarning:\n",
      "\n",
      "'early_stopping_rounds' argument is deprecated and will be removed in a future release of LightGBM. Pass 'early_stopping()' callback via 'callbacks' argument instead.\n",
      "\n"
     ]
    },
    {
     "name": "stdout",
     "output_type": "stream",
     "text": [
      "[17]\tvalid_0's binary_logloss: 0.0587684\n",
      "[18]\tvalid_0's binary_logloss: 0.0562523\n",
      "[19]\tvalid_0's binary_logloss: 0.0540376\n",
      "[20]\tvalid_0's binary_logloss: 0.0520032\n",
      "[21]\tvalid_0's binary_logloss: 0.0502031\n",
      "[22]\tvalid_0's binary_logloss: 0.0485683\n",
      "[23]\tvalid_0's binary_logloss: 0.0471352\n",
      "[24]\tvalid_0's binary_logloss: 0.0458588\n",
      "[25]\tvalid_0's binary_logloss: 0.0447321\n",
      "[26]\tvalid_0's binary_logloss: 0.0436592\n",
      "[27]\tvalid_0's binary_logloss: 0.0427157\n",
      "[28]\tvalid_0's binary_logloss: 0.0418805\n",
      "[29]\tvalid_0's binary_logloss: 0.0411505\n",
      "[30]\tvalid_0's binary_logloss: 0.0404862\n",
      "[31]\tvalid_0's binary_logloss: 0.0398739\n",
      "[32]\tvalid_0's binary_logloss: 0.0392884\n",
      "[33]\tvalid_0's binary_logloss: 0.0387692\n",
      "[34]\tvalid_0's binary_logloss: 0.0383128\n",
      "[35]\tvalid_0's binary_logloss: 0.0379366\n",
      "[36]\tvalid_0's binary_logloss: 0.0375015\n",
      "[37]\tvalid_0's binary_logloss: 0.0371596\n",
      "[38]\tvalid_0's binary_logloss: 0.0368621\n",
      "[39]\tvalid_0's binary_logloss: 0.0366143\n",
      "[40]\tvalid_0's binary_logloss: 0.0362936\n",
      "[41]\tvalid_0's binary_logloss: 0.0360803\n",
      "[42]\tvalid_0's binary_logloss: 0.035807\n",
      "[43]\tvalid_0's binary_logloss: 0.0356175\n",
      "[44]\tvalid_0's binary_logloss: 0.0354044\n",
      "[45]\tvalid_0's binary_logloss: 0.0352677\n",
      "[46]\tvalid_0's binary_logloss: 0.0351\n",
      "[47]\tvalid_0's binary_logloss: 0.0349563\n",
      "[48]\tvalid_0's binary_logloss: 0.0348166\n",
      "[49]\tvalid_0's binary_logloss: 0.034727\n",
      "[50]\tvalid_0's binary_logloss: 0.0346797\n",
      "[51]\tvalid_0's binary_logloss: 0.0345906\n",
      "[52]\tvalid_0's binary_logloss: 0.0345228\n",
      "[53]\tvalid_0's binary_logloss: 0.0344329\n",
      "[54]\tvalid_0's binary_logloss: 0.0343793\n",
      "[55]\tvalid_0's binary_logloss: 0.0342648\n",
      "[56]\tvalid_0's binary_logloss: 0.0341745\n",
      "[57]\tvalid_0's binary_logloss: 0.0341176\n",
      "[58]\tvalid_0's binary_logloss: 0.0340465\n",
      "[59]\tvalid_0's binary_logloss: 0.0339906\n",
      "[60]\tvalid_0's binary_logloss: 0.0339446\n",
      "[61]\tvalid_0's binary_logloss: 0.0338866\n",
      "[62]\tvalid_0's binary_logloss: 0.033793\n",
      "[63]\tvalid_0's binary_logloss: 0.0337058\n",
      "[64]\tvalid_0's binary_logloss: 0.0336787\n",
      "[65]\tvalid_0's binary_logloss: 0.0336448\n",
      "[66]\tvalid_0's binary_logloss: 0.0336097\n",
      "[67]\tvalid_0's binary_logloss: 0.0335935\n",
      "[68]\tvalid_0's binary_logloss: 0.0335273\n",
      "[69]\tvalid_0's binary_logloss: 0.0335047\n",
      "[70]\tvalid_0's binary_logloss: 0.0334999\n",
      "[71]\tvalid_0's binary_logloss: 0.0334672\n",
      "[72]\tvalid_0's binary_logloss: 0.0334574\n",
      "[73]\tvalid_0's binary_logloss: 0.0334371\n",
      "[74]\tvalid_0's binary_logloss: 0.0334344\n",
      "[75]\tvalid_0's binary_logloss: 0.0334246\n",
      "[76]\tvalid_0's binary_logloss: 0.033423\n",
      "[77]\tvalid_0's binary_logloss: 0.0334115\n",
      "[78]\tvalid_0's binary_logloss: 0.0334115\n",
      "[79]\tvalid_0's binary_logloss: 0.0334115\n",
      "[80]\tvalid_0's binary_logloss: 0.0334115\n",
      "[81]\tvalid_0's binary_logloss: 0.0334111\n",
      "[82]\tvalid_0's binary_logloss: 0.0334111\n",
      "[83]\tvalid_0's binary_logloss: 0.0334111\n",
      "[84]\tvalid_0's binary_logloss: 0.0334111\n",
      "[85]\tvalid_0's binary_logloss: 0.0334111\n",
      "[86]\tvalid_0's binary_logloss: 0.0334111\n",
      "[87]\tvalid_0's binary_logloss: 0.0334111\n",
      "[88]\tvalid_0's binary_logloss: 0.0334057\n",
      "[89]\tvalid_0's binary_logloss: 0.0334057\n",
      "[90]\tvalid_0's binary_logloss: 0.0334057\n",
      "[91]\tvalid_0's binary_logloss: 0.0334057\n",
      "[92]\tvalid_0's binary_logloss: 0.0334055\n",
      "[93]\tvalid_0's binary_logloss: 0.0333935\n",
      "[94]\tvalid_0's binary_logloss: 0.0333935\n",
      "[95]\tvalid_0's binary_logloss: 0.0333935\n",
      "[96]\tvalid_0's binary_logloss: 0.0333935\n",
      "[97]\tvalid_0's binary_logloss: 0.0333935\n",
      "[98]\tvalid_0's binary_logloss: 0.0333935\n",
      "[99]\tvalid_0's binary_logloss: 0.0333935\n",
      "[100]\tvalid_0's binary_logloss: 0.0333935\n",
      "[101]\tvalid_0's binary_logloss: 0.0333935\n",
      "[102]\tvalid_0's binary_logloss: 0.0333935\n",
      "[103]\tvalid_0's binary_logloss: 0.0333935\n",
      "[104]\tvalid_0's binary_logloss: 0.0333935\n",
      "[105]\tvalid_0's binary_logloss: 0.0333935\n",
      "[106]\tvalid_0's binary_logloss: 0.0333935\n",
      "[107]\tvalid_0's binary_logloss: 0.0333935\n",
      "[108]\tvalid_0's binary_logloss: 0.0333935\n",
      "[109]\tvalid_0's binary_logloss: 0.0333935\n",
      "[110]\tvalid_0's binary_logloss: 0.0333935\n",
      "[111]\tvalid_0's binary_logloss: 0.0333935\n",
      "[112]\tvalid_0's binary_logloss: 0.0333935\n",
      "[113]\tvalid_0's binary_logloss: 0.0333935\n",
      "[114]\tvalid_0's binary_logloss: 0.0333935\n",
      "[115]\tvalid_0's binary_logloss: 0.0333935\n",
      "[116]\tvalid_0's binary_logloss: 0.0333935\n",
      "[117]\tvalid_0's binary_logloss: 0.0333935\n"
     ]
    },
    {
     "name": "stderr",
     "output_type": "stream",
     "text": [
      "\u001b[32m[I 2023-03-12 21:21:17,039]\u001b[0m Trial 16 finished with value: 0.033393548506636686 and parameters: {'max_depth': 3, 'num_leaves': 22}. Best is trial 1 with value: 0.033310783087823544.\u001b[0m\n"
     ]
    },
    {
     "name": "stdout",
     "output_type": "stream",
     "text": [
      "[118]\tvalid_0's binary_logloss: 0.0333935\n",
      "[119]\tvalid_0's binary_logloss: 0.0333935\n",
      "[120]\tvalid_0's binary_logloss: 0.0333935\n",
      "[121]\tvalid_0's binary_logloss: 0.0333935\n",
      "[122]\tvalid_0's binary_logloss: 0.0333935\n",
      "[123]\tvalid_0's binary_logloss: 0.0333935\n",
      "[124]\tvalid_0's binary_logloss: 0.0333935\n",
      "[125]\tvalid_0's binary_logloss: 0.0333935\n",
      "[126]\tvalid_0's binary_logloss: 0.0333935\n",
      "[127]\tvalid_0's binary_logloss: 0.0333935\n",
      "[128]\tvalid_0's binary_logloss: 0.0333935\n",
      "[LightGBM] [Warning] feature_fraction is set=1.0, colsample_bytree=1.0 will be ignored. Current value: feature_fraction=1.0\n",
      "[LightGBM] [Warning] min_data_in_leaf is set=32, min_child_samples=20 will be ignored. Current value: min_data_in_leaf=32\n",
      "[LightGBM] [Warning] min_gain_to_split is set=3.0, min_split_gain=0.0 will be ignored. Current value: min_gain_to_split=3.0\n",
      "[LightGBM] [Warning] bagging_fraction is set=1.0, subsample=1.0 will be ignored. Current value: bagging_fraction=1.0\n",
      "[1]\tvalid_0's binary_logloss: 0.227288\n",
      "[2]\tvalid_0's binary_logloss: 0.192576\n",
      "[3]\tvalid_0's binary_logloss: 0.168347\n",
      "[4]\tvalid_0's binary_logloss: 0.149602\n",
      "[5]\tvalid_0's binary_logloss: 0.134326\n",
      "[6]\tvalid_0's binary_logloss: 0.121625\n",
      "[7]\tvalid_0's binary_logloss: 0.11093\n",
      "[8]\tvalid_0's binary_logloss: 0.101725\n",
      "[9]\tvalid_0's binary_logloss: 0.0938026\n",
      "[10]\tvalid_0's binary_logloss: 0.0868585\n",
      "[11]\tvalid_0's binary_logloss: 0.0808469\n",
      "[12]\tvalid_0's binary_logloss: 0.0755552\n",
      "[13]\tvalid_0's binary_logloss: 0.0708999\n",
      "[14]\tvalid_0's binary_logloss: 0.0667856\n",
      "[15]\tvalid_0's binary_logloss: 0.0631299\n"
     ]
    },
    {
     "name": "stderr",
     "output_type": "stream",
     "text": [
      "c:\\ProgramData\\Anaconda3\\lib\\site-packages\\lightgbm\\sklearn.py:726: UserWarning:\n",
      "\n",
      "'early_stopping_rounds' argument is deprecated and will be removed in a future release of LightGBM. Pass 'early_stopping()' callback via 'callbacks' argument instead.\n",
      "\n"
     ]
    },
    {
     "name": "stdout",
     "output_type": "stream",
     "text": [
      "[16]\tvalid_0's binary_logloss: 0.0598739\n",
      "[17]\tvalid_0's binary_logloss: 0.0570162\n",
      "[18]\tvalid_0's binary_logloss: 0.054415\n",
      "[19]\tvalid_0's binary_logloss: 0.0521715\n",
      "[20]\tvalid_0's binary_logloss: 0.0501261\n",
      "[21]\tvalid_0's binary_logloss: 0.0482979\n",
      "[22]\tvalid_0's binary_logloss: 0.0466657\n",
      "[23]\tvalid_0's binary_logloss: 0.0452423\n",
      "[24]\tvalid_0's binary_logloss: 0.0439978\n",
      "[25]\tvalid_0's binary_logloss: 0.0428327\n",
      "[26]\tvalid_0's binary_logloss: 0.0418047\n",
      "[27]\tvalid_0's binary_logloss: 0.0409101\n",
      "[28]\tvalid_0's binary_logloss: 0.0401223\n",
      "[29]\tvalid_0's binary_logloss: 0.0393953\n",
      "[30]\tvalid_0's binary_logloss: 0.0387222\n",
      "[31]\tvalid_0's binary_logloss: 0.0380935\n",
      "[32]\tvalid_0's binary_logloss: 0.0375959\n",
      "[33]\tvalid_0's binary_logloss: 0.0371321\n",
      "[34]\tvalid_0's binary_logloss: 0.0367158\n",
      "[35]\tvalid_0's binary_logloss: 0.0363846\n",
      "[36]\tvalid_0's binary_logloss: 0.0360732\n",
      "[37]\tvalid_0's binary_logloss: 0.0357396\n",
      "[38]\tvalid_0's binary_logloss: 0.0355094\n",
      "[39]\tvalid_0's binary_logloss: 0.0352699\n",
      "[40]\tvalid_0's binary_logloss: 0.0350549\n",
      "[41]\tvalid_0's binary_logloss: 0.0348767\n",
      "[42]\tvalid_0's binary_logloss: 0.0347355\n",
      "[43]\tvalid_0's binary_logloss: 0.0345417\n",
      "[44]\tvalid_0's binary_logloss: 0.0344115\n",
      "[45]\tvalid_0's binary_logloss: 0.0342918\n",
      "[46]\tvalid_0's binary_logloss: 0.0342004\n",
      "[47]\tvalid_0's binary_logloss: 0.0340778\n",
      "[48]\tvalid_0's binary_logloss: 0.0339911\n",
      "[49]\tvalid_0's binary_logloss: 0.0339099\n",
      "[50]\tvalid_0's binary_logloss: 0.0338551\n",
      "[51]\tvalid_0's binary_logloss: 0.0338287\n",
      "[52]\tvalid_0's binary_logloss: 0.033762\n",
      "[53]\tvalid_0's binary_logloss: 0.0337355\n",
      "[54]\tvalid_0's binary_logloss: 0.0336994\n",
      "[55]\tvalid_0's binary_logloss: 0.0336546\n",
      "[56]\tvalid_0's binary_logloss: 0.0336137\n",
      "[57]\tvalid_0's binary_logloss: 0.0335736\n",
      "[58]\tvalid_0's binary_logloss: 0.033541\n",
      "[59]\tvalid_0's binary_logloss: 0.0335318\n",
      "[60]\tvalid_0's binary_logloss: 0.0335329\n",
      "[61]\tvalid_0's binary_logloss: 0.0335276\n",
      "[62]\tvalid_0's binary_logloss: 0.033523\n",
      "[63]\tvalid_0's binary_logloss: 0.0335197\n",
      "[64]\tvalid_0's binary_logloss: 0.0334686\n",
      "[65]\tvalid_0's binary_logloss: 0.0334686\n",
      "[66]\tvalid_0's binary_logloss: 0.033462\n",
      "[67]\tvalid_0's binary_logloss: 0.033462\n",
      "[68]\tvalid_0's binary_logloss: 0.033462\n",
      "[69]\tvalid_0's binary_logloss: 0.0334542\n",
      "[70]\tvalid_0's binary_logloss: 0.0334542\n",
      "[71]\tvalid_0's binary_logloss: 0.0334525\n",
      "[72]\tvalid_0's binary_logloss: 0.0334463\n",
      "[73]\tvalid_0's binary_logloss: 0.0334463\n",
      "[74]\tvalid_0's binary_logloss: 0.0334463\n",
      "[75]\tvalid_0's binary_logloss: 0.0334439\n",
      "[76]\tvalid_0's binary_logloss: 0.0334439\n",
      "[77]\tvalid_0's binary_logloss: 0.0334439\n",
      "[78]\tvalid_0's binary_logloss: 0.0334439\n",
      "[79]\tvalid_0's binary_logloss: 0.0334439\n",
      "[80]\tvalid_0's binary_logloss: 0.0334439\n",
      "[81]\tvalid_0's binary_logloss: 0.0334439\n",
      "[82]\tvalid_0's binary_logloss: 0.0334439\n",
      "[83]\tvalid_0's binary_logloss: 0.0334439\n",
      "[84]\tvalid_0's binary_logloss: 0.0334368\n",
      "[85]\tvalid_0's binary_logloss: 0.0334368\n",
      "[86]\tvalid_0's binary_logloss: 0.0334368\n",
      "[87]\tvalid_0's binary_logloss: 0.0334368\n",
      "[88]\tvalid_0's binary_logloss: 0.0334368\n",
      "[89]\tvalid_0's binary_logloss: 0.0334368\n",
      "[90]\tvalid_0's binary_logloss: 0.0334368\n",
      "[91]\tvalid_0's binary_logloss: 0.0334368\n",
      "[92]\tvalid_0's binary_logloss: 0.0334368\n",
      "[93]\tvalid_0's binary_logloss: 0.0334368\n",
      "[94]\tvalid_0's binary_logloss: 0.0334368\n",
      "[95]\tvalid_0's binary_logloss: 0.0334368\n",
      "[96]\tvalid_0's binary_logloss: 0.0334368\n",
      "[97]\tvalid_0's binary_logloss: 0.0334368\n",
      "[98]\tvalid_0's binary_logloss: 0.0334368\n",
      "[99]\tvalid_0's binary_logloss: 0.0334368\n",
      "[100]\tvalid_0's binary_logloss: 0.0334368\n",
      "[101]\tvalid_0's binary_logloss: 0.0334368\n",
      "[102]\tvalid_0's binary_logloss: 0.0334368\n",
      "[103]\tvalid_0's binary_logloss: 0.0334368\n",
      "[104]\tvalid_0's binary_logloss: 0.0334368\n",
      "[105]\tvalid_0's binary_logloss: 0.0334368\n",
      "[106]\tvalid_0's binary_logloss: 0.0334368\n",
      "[107]\tvalid_0's binary_logloss: 0.0334368\n",
      "[108]\tvalid_0's binary_logloss: 0.0334368\n"
     ]
    },
    {
     "name": "stderr",
     "output_type": "stream",
     "text": [
      "\u001b[32m[I 2023-03-12 21:21:17,461]\u001b[0m Trial 17 finished with value: 0.03343519472078138 and parameters: {'max_depth': 5, 'num_leaves': 16}. Best is trial 1 with value: 0.033310783087823544.\u001b[0m\n"
     ]
    },
    {
     "name": "stdout",
     "output_type": "stream",
     "text": [
      "[109]\tvalid_0's binary_logloss: 0.0334368\n",
      "[110]\tvalid_0's binary_logloss: 0.0334368\n",
      "[111]\tvalid_0's binary_logloss: 0.0334368\n",
      "[112]\tvalid_0's binary_logloss: 0.0334368\n",
      "[113]\tvalid_0's binary_logloss: 0.0334368\n",
      "[114]\tvalid_0's binary_logloss: 0.0334368\n",
      "[115]\tvalid_0's binary_logloss: 0.0334368\n",
      "[116]\tvalid_0's binary_logloss: 0.0334368\n",
      "[117]\tvalid_0's binary_logloss: 0.0334368\n",
      "[118]\tvalid_0's binary_logloss: 0.0334352\n",
      "[119]\tvalid_0's binary_logloss: 0.0334352\n",
      "[120]\tvalid_0's binary_logloss: 0.0334352\n",
      "[121]\tvalid_0's binary_logloss: 0.0334352\n",
      "[122]\tvalid_0's binary_logloss: 0.0334352\n",
      "[123]\tvalid_0's binary_logloss: 0.0334352\n",
      "[124]\tvalid_0's binary_logloss: 0.0334352\n",
      "[125]\tvalid_0's binary_logloss: 0.0334352\n",
      "[126]\tvalid_0's binary_logloss: 0.0334352\n",
      "[127]\tvalid_0's binary_logloss: 0.0334352\n",
      "[128]\tvalid_0's binary_logloss: 0.0334352\n",
      "[LightGBM] [Warning] feature_fraction is set=1.0, colsample_bytree=1.0 will be ignored. Current value: feature_fraction=1.0\n",
      "[LightGBM] [Warning] min_data_in_leaf is set=32, min_child_samples=20 will be ignored. Current value: min_data_in_leaf=32\n",
      "[LightGBM] [Warning] min_gain_to_split is set=3.0, min_split_gain=0.0 will be ignored. Current value: min_gain_to_split=3.0\n",
      "[LightGBM] [Warning] bagging_fraction is set=1.0, subsample=1.0 will be ignored. Current value: bagging_fraction=1.0\n",
      "[1]\tvalid_0's binary_logloss: 0.227215\n",
      "[2]\tvalid_0's binary_logloss: 0.192498\n",
      "[3]\tvalid_0's binary_logloss: 0.16829\n",
      "[4]\tvalid_0's binary_logloss: 0.149497\n"
     ]
    },
    {
     "name": "stderr",
     "output_type": "stream",
     "text": [
      "c:\\ProgramData\\Anaconda3\\lib\\site-packages\\lightgbm\\sklearn.py:726: UserWarning:\n",
      "\n",
      "'early_stopping_rounds' argument is deprecated and will be removed in a future release of LightGBM. Pass 'early_stopping()' callback via 'callbacks' argument instead.\n",
      "\n"
     ]
    },
    {
     "name": "stdout",
     "output_type": "stream",
     "text": [
      "[5]\tvalid_0's binary_logloss: 0.134136\n",
      "[6]\tvalid_0's binary_logloss: 0.121421\n",
      "[7]\tvalid_0's binary_logloss: 0.110711\n",
      "[8]\tvalid_0's binary_logloss: 0.101471\n",
      "[9]\tvalid_0's binary_logloss: 0.0935227\n",
      "[10]\tvalid_0's binary_logloss: 0.0865941\n",
      "[11]\tvalid_0's binary_logloss: 0.0805742\n",
      "[12]\tvalid_0's binary_logloss: 0.0752717\n",
      "[13]\tvalid_0's binary_logloss: 0.0705966\n",
      "[14]\tvalid_0's binary_logloss: 0.0664833\n",
      "[15]\tvalid_0's binary_logloss: 0.0628526\n",
      "[16]\tvalid_0's binary_logloss: 0.0596352\n",
      "[17]\tvalid_0's binary_logloss: 0.0567317\n",
      "[18]\tvalid_0's binary_logloss: 0.0541673\n",
      "[19]\tvalid_0's binary_logloss: 0.0518839\n",
      "[20]\tvalid_0's binary_logloss: 0.0498723\n",
      "[21]\tvalid_0's binary_logloss: 0.0480771\n",
      "[22]\tvalid_0's binary_logloss: 0.0464896\n",
      "[23]\tvalid_0's binary_logloss: 0.0450326\n",
      "[24]\tvalid_0's binary_logloss: 0.0437657\n",
      "[25]\tvalid_0's binary_logloss: 0.0426514\n",
      "[26]\tvalid_0's binary_logloss: 0.0416544\n",
      "[27]\tvalid_0's binary_logloss: 0.0407249\n",
      "[28]\tvalid_0's binary_logloss: 0.039924\n",
      "[29]\tvalid_0's binary_logloss: 0.0391809\n",
      "[30]\tvalid_0's binary_logloss: 0.0385342\n",
      "[31]\tvalid_0's binary_logloss: 0.0379425\n",
      "[32]\tvalid_0's binary_logloss: 0.0374324\n",
      "[33]\tvalid_0's binary_logloss: 0.0370128\n",
      "[34]\tvalid_0's binary_logloss: 0.036636\n",
      "[35]\tvalid_0's binary_logloss: 0.0362299\n",
      "[36]\tvalid_0's binary_logloss: 0.0359561\n",
      "[37]\tvalid_0's binary_logloss: 0.035668\n",
      "[38]\tvalid_0's binary_logloss: 0.0354218\n",
      "[39]\tvalid_0's binary_logloss: 0.0351923\n",
      "[40]\tvalid_0's binary_logloss: 0.035009\n",
      "[41]\tvalid_0's binary_logloss: 0.0348475\n",
      "[42]\tvalid_0's binary_logloss: 0.0346805\n",
      "[43]\tvalid_0's binary_logloss: 0.0345548\n",
      "[44]\tvalid_0's binary_logloss: 0.0343929\n",
      "[45]\tvalid_0's binary_logloss: 0.0342828\n",
      "[46]\tvalid_0's binary_logloss: 0.0341679\n",
      "[47]\tvalid_0's binary_logloss: 0.0341087\n",
      "[48]\tvalid_0's binary_logloss: 0.0340093\n",
      "[49]\tvalid_0's binary_logloss: 0.0339569\n",
      "[50]\tvalid_0's binary_logloss: 0.0339233\n",
      "[51]\tvalid_0's binary_logloss: 0.0338845\n",
      "[52]\tvalid_0's binary_logloss: 0.0338411\n",
      "[53]\tvalid_0's binary_logloss: 0.0337723\n",
      "[54]\tvalid_0's binary_logloss: 0.0337586\n",
      "[55]\tvalid_0's binary_logloss: 0.0337055\n",
      "[56]\tvalid_0's binary_logloss: 0.0336772\n",
      "[57]\tvalid_0's binary_logloss: 0.0336525\n",
      "[58]\tvalid_0's binary_logloss: 0.033628\n",
      "[59]\tvalid_0's binary_logloss: 0.0336101\n",
      "[60]\tvalid_0's binary_logloss: 0.033582\n",
      "[61]\tvalid_0's binary_logloss: 0.0335542\n",
      "[62]\tvalid_0's binary_logloss: 0.0335467\n",
      "[63]\tvalid_0's binary_logloss: 0.0335445\n",
      "[64]\tvalid_0's binary_logloss: 0.033535\n",
      "[65]\tvalid_0's binary_logloss: 0.0335297\n",
      "[66]\tvalid_0's binary_logloss: 0.0335164\n",
      "[67]\tvalid_0's binary_logloss: 0.0335164\n",
      "[68]\tvalid_0's binary_logloss: 0.0335125\n",
      "[69]\tvalid_0's binary_logloss: 0.0335125\n",
      "[70]\tvalid_0's binary_logloss: 0.0335125\n",
      "[71]\tvalid_0's binary_logloss: 0.0335125\n",
      "[72]\tvalid_0's binary_logloss: 0.0335125\n",
      "[73]\tvalid_0's binary_logloss: 0.0335125\n",
      "[74]\tvalid_0's binary_logloss: 0.0335125\n",
      "[75]\tvalid_0's binary_logloss: 0.0335125\n",
      "[76]\tvalid_0's binary_logloss: 0.0335125\n",
      "[77]\tvalid_0's binary_logloss: 0.0335125\n",
      "[78]\tvalid_0's binary_logloss: 0.0335125\n",
      "[79]\tvalid_0's binary_logloss: 0.0335125\n",
      "[80]\tvalid_0's binary_logloss: 0.0335125\n",
      "[81]\tvalid_0's binary_logloss: 0.0335077\n",
      "[82]\tvalid_0's binary_logloss: 0.0335077\n",
      "[83]\tvalid_0's binary_logloss: 0.0335077\n"
     ]
    },
    {
     "name": "stderr",
     "output_type": "stream",
     "text": [
      "\u001b[32m[I 2023-03-12 21:21:17,898]\u001b[0m Trial 18 finished with value: 0.033494684554888236 and parameters: {'max_depth': 6, 'num_leaves': 19}. Best is trial 1 with value: 0.033310783087823544.\u001b[0m\n"
     ]
    },
    {
     "name": "stdout",
     "output_type": "stream",
     "text": [
      "[84]\tvalid_0's binary_logloss: 0.0335077\n",
      "[85]\tvalid_0's binary_logloss: 0.0335077\n",
      "[86]\tvalid_0's binary_logloss: 0.0335077\n",
      "[87]\tvalid_0's binary_logloss: 0.0335077\n",
      "[88]\tvalid_0's binary_logloss: 0.033505\n",
      "[89]\tvalid_0's binary_logloss: 0.033505\n",
      "[90]\tvalid_0's binary_logloss: 0.033505\n",
      "[91]\tvalid_0's binary_logloss: 0.033505\n",
      "[92]\tvalid_0's binary_logloss: 0.033505\n",
      "[93]\tvalid_0's binary_logloss: 0.033505\n",
      "[94]\tvalid_0's binary_logloss: 0.033505\n",
      "[95]\tvalid_0's binary_logloss: 0.033505\n",
      "[96]\tvalid_0's binary_logloss: 0.0334989\n",
      "[97]\tvalid_0's binary_logloss: 0.0334989\n",
      "[98]\tvalid_0's binary_logloss: 0.0334977\n",
      "[99]\tvalid_0's binary_logloss: 0.0334977\n",
      "[100]\tvalid_0's binary_logloss: 0.0334977\n",
      "[101]\tvalid_0's binary_logloss: 0.0334977\n",
      "[102]\tvalid_0's binary_logloss: 0.0334977\n",
      "[103]\tvalid_0's binary_logloss: 0.0334977\n",
      "[104]\tvalid_0's binary_logloss: 0.0334977\n",
      "[105]\tvalid_0's binary_logloss: 0.0334977\n",
      "[106]\tvalid_0's binary_logloss: 0.0334977\n",
      "[107]\tvalid_0's binary_logloss: 0.0334977\n",
      "[108]\tvalid_0's binary_logloss: 0.0334977\n",
      "[109]\tvalid_0's binary_logloss: 0.0334977\n",
      "[110]\tvalid_0's binary_logloss: 0.0334977\n",
      "[111]\tvalid_0's binary_logloss: 0.0334977\n",
      "[112]\tvalid_0's binary_logloss: 0.0334977\n",
      "[113]\tvalid_0's binary_logloss: 0.0334977\n",
      "[114]\tvalid_0's binary_logloss: 0.0334977\n",
      "[115]\tvalid_0's binary_logloss: 0.0334977\n",
      "[116]\tvalid_0's binary_logloss: 0.0334977\n",
      "[117]\tvalid_0's binary_logloss: 0.0334977\n",
      "[118]\tvalid_0's binary_logloss: 0.0334977\n",
      "[119]\tvalid_0's binary_logloss: 0.0334977\n",
      "[120]\tvalid_0's binary_logloss: 0.0334977\n",
      "[121]\tvalid_0's binary_logloss: 0.0334977\n",
      "[122]\tvalid_0's binary_logloss: 0.0334977\n",
      "[123]\tvalid_0's binary_logloss: 0.0334977\n",
      "[124]\tvalid_0's binary_logloss: 0.0334977\n",
      "[125]\tvalid_0's binary_logloss: 0.0334977\n",
      "[126]\tvalid_0's binary_logloss: 0.0334977\n",
      "[127]\tvalid_0's binary_logloss: 0.0334947\n",
      "[128]\tvalid_0's binary_logloss: 0.0334947\n",
      "[LightGBM] [Warning] feature_fraction is set=1.0, colsample_bytree=1.0 will be ignored. Current value: feature_fraction=1.0\n",
      "[LightGBM] [Warning] min_data_in_leaf is set=32, min_child_samples=20 will be ignored. Current value: min_data_in_leaf=32\n",
      "[LightGBM] [Warning] min_gain_to_split is set=3.0, min_split_gain=0.0 will be ignored. Current value: min_gain_to_split=3.0\n",
      "[LightGBM] [Warning] bagging_fraction is set=1.0, subsample=1.0 will be ignored. Current value: bagging_fraction=1.0\n"
     ]
    },
    {
     "name": "stderr",
     "output_type": "stream",
     "text": [
      "c:\\ProgramData\\Anaconda3\\lib\\site-packages\\lightgbm\\sklearn.py:726: UserWarning:\n",
      "\n",
      "'early_stopping_rounds' argument is deprecated and will be removed in a future release of LightGBM. Pass 'early_stopping()' callback via 'callbacks' argument instead.\n",
      "\n"
     ]
    },
    {
     "name": "stdout",
     "output_type": "stream",
     "text": [
      "[1]\tvalid_0's binary_logloss: 0.227823\n",
      "[2]\tvalid_0's binary_logloss: 0.193397\n",
      "[3]\tvalid_0's binary_logloss: 0.16918\n",
      "[4]\tvalid_0's binary_logloss: 0.150508\n",
      "[5]\tvalid_0's binary_logloss: 0.135341\n",
      "[6]\tvalid_0's binary_logloss: 0.122752\n",
      "[7]\tvalid_0's binary_logloss: 0.112101\n",
      "[8]\tvalid_0's binary_logloss: 0.10296\n",
      "[9]\tvalid_0's binary_logloss: 0.0951164\n",
      "[10]\tvalid_0's binary_logloss: 0.088281\n",
      "[11]\tvalid_0's binary_logloss: 0.0822992\n",
      "[12]\tvalid_0's binary_logloss: 0.0770222\n",
      "[13]\tvalid_0's binary_logloss: 0.0724283\n",
      "[14]\tvalid_0's binary_logloss: 0.0683336\n",
      "[15]\tvalid_0's binary_logloss: 0.064758\n",
      "[16]\tvalid_0's binary_logloss: 0.0616042\n",
      "[17]\tvalid_0's binary_logloss: 0.0587684\n",
      "[18]\tvalid_0's binary_logloss: 0.0562523\n",
      "[19]\tvalid_0's binary_logloss: 0.0540376\n",
      "[20]\tvalid_0's binary_logloss: 0.0520032\n",
      "[21]\tvalid_0's binary_logloss: 0.0502031\n",
      "[22]\tvalid_0's binary_logloss: 0.0485683\n",
      "[23]\tvalid_0's binary_logloss: 0.0471352\n",
      "[24]\tvalid_0's binary_logloss: 0.0458588\n",
      "[25]\tvalid_0's binary_logloss: 0.0447321\n",
      "[26]\tvalid_0's binary_logloss: 0.0436592\n",
      "[27]\tvalid_0's binary_logloss: 0.0427157\n",
      "[28]\tvalid_0's binary_logloss: 0.0418805\n",
      "[29]\tvalid_0's binary_logloss: 0.0411505\n",
      "[30]\tvalid_0's binary_logloss: 0.0404862\n",
      "[31]\tvalid_0's binary_logloss: 0.0398739\n",
      "[32]\tvalid_0's binary_logloss: 0.0392884\n",
      "[33]\tvalid_0's binary_logloss: 0.0387692\n",
      "[34]\tvalid_0's binary_logloss: 0.0383128\n",
      "[35]\tvalid_0's binary_logloss: 0.0379366\n",
      "[36]\tvalid_0's binary_logloss: 0.0375015\n",
      "[37]\tvalid_0's binary_logloss: 0.0371596\n",
      "[38]\tvalid_0's binary_logloss: 0.0368621\n",
      "[39]\tvalid_0's binary_logloss: 0.0366143\n",
      "[40]\tvalid_0's binary_logloss: 0.0362936\n",
      "[41]\tvalid_0's binary_logloss: 0.0360803\n",
      "[42]\tvalid_0's binary_logloss: 0.035807\n",
      "[43]\tvalid_0's binary_logloss: 0.0356175\n",
      "[44]\tvalid_0's binary_logloss: 0.0354044\n",
      "[45]\tvalid_0's binary_logloss: 0.0352677\n",
      "[46]\tvalid_0's binary_logloss: 0.0351\n",
      "[47]\tvalid_0's binary_logloss: 0.0349563\n",
      "[48]\tvalid_0's binary_logloss: 0.0348166\n",
      "[49]\tvalid_0's binary_logloss: 0.034727\n",
      "[50]\tvalid_0's binary_logloss: 0.0346797\n",
      "[51]\tvalid_0's binary_logloss: 0.0345906\n",
      "[52]\tvalid_0's binary_logloss: 0.0345228\n",
      "[53]\tvalid_0's binary_logloss: 0.0344329\n",
      "[54]\tvalid_0's binary_logloss: 0.0343793\n",
      "[55]\tvalid_0's binary_logloss: 0.0342648\n",
      "[56]\tvalid_0's binary_logloss: 0.0341745\n",
      "[57]\tvalid_0's binary_logloss: 0.0341176\n",
      "[58]\tvalid_0's binary_logloss: 0.0340465\n",
      "[59]\tvalid_0's binary_logloss: 0.0339906\n",
      "[60]\tvalid_0's binary_logloss: 0.0339446\n",
      "[61]\tvalid_0's binary_logloss: 0.0338866\n",
      "[62]\tvalid_0's binary_logloss: 0.033793\n",
      "[63]\tvalid_0's binary_logloss: 0.0337058\n",
      "[64]\tvalid_0's binary_logloss: 0.0336787\n",
      "[65]\tvalid_0's binary_logloss: 0.0336448\n",
      "[66]\tvalid_0's binary_logloss: 0.0336097\n",
      "[67]\tvalid_0's binary_logloss: 0.0335935\n",
      "[68]\tvalid_0's binary_logloss: 0.0335273\n",
      "[69]\tvalid_0's binary_logloss: 0.0335047\n",
      "[70]\tvalid_0's binary_logloss: 0.0334999\n",
      "[71]\tvalid_0's binary_logloss: 0.0334672\n",
      "[72]\tvalid_0's binary_logloss: 0.0334574\n",
      "[73]\tvalid_0's binary_logloss: 0.0334371\n",
      "[74]\tvalid_0's binary_logloss: 0.0334344\n",
      "[75]\tvalid_0's binary_logloss: 0.0334246\n",
      "[76]\tvalid_0's binary_logloss: 0.033423\n",
      "[77]\tvalid_0's binary_logloss: 0.0334115\n",
      "[78]\tvalid_0's binary_logloss: 0.0334115\n",
      "[79]\tvalid_0's binary_logloss: 0.0334115\n",
      "[80]\tvalid_0's binary_logloss: 0.0334115\n",
      "[81]\tvalid_0's binary_logloss: 0.0334111\n",
      "[82]\tvalid_0's binary_logloss: 0.0334111\n",
      "[83]\tvalid_0's binary_logloss: 0.0334111\n",
      "[84]\tvalid_0's binary_logloss: 0.0334111\n",
      "[85]\tvalid_0's binary_logloss: 0.0334111\n",
      "[86]\tvalid_0's binary_logloss: 0.0334111\n",
      "[87]\tvalid_0's binary_logloss: 0.0334111\n",
      "[88]\tvalid_0's binary_logloss: 0.0334057\n",
      "[89]\tvalid_0's binary_logloss: 0.0334057\n",
      "[90]\tvalid_0's binary_logloss: 0.0334057\n",
      "[91]\tvalid_0's binary_logloss: 0.0334057\n",
      "[92]\tvalid_0's binary_logloss: 0.0334055\n",
      "[93]\tvalid_0's binary_logloss: 0.0333935\n",
      "[94]\tvalid_0's binary_logloss: 0.0333935\n",
      "[95]\tvalid_0's binary_logloss: 0.0333935\n",
      "[96]\tvalid_0's binary_logloss: 0.0333935\n",
      "[97]\tvalid_0's binary_logloss: 0.0333935\n",
      "[98]\tvalid_0's binary_logloss: 0.0333935\n",
      "[99]\tvalid_0's binary_logloss: 0.0333935\n",
      "[100]\tvalid_0's binary_logloss: 0.0333935\n",
      "[101]\tvalid_0's binary_logloss: 0.0333935\n",
      "[102]\tvalid_0's binary_logloss: 0.0333935\n"
     ]
    },
    {
     "name": "stderr",
     "output_type": "stream",
     "text": [
      "\u001b[32m[I 2023-03-12 21:21:18,294]\u001b[0m Trial 19 finished with value: 0.033393548506636686 and parameters: {'max_depth': 3, 'num_leaves': 12}. Best is trial 1 with value: 0.033310783087823544.\u001b[0m\n"
     ]
    },
    {
     "name": "stdout",
     "output_type": "stream",
     "text": [
      "[103]\tvalid_0's binary_logloss: 0.0333935\n",
      "[104]\tvalid_0's binary_logloss: 0.0333935\n",
      "[105]\tvalid_0's binary_logloss: 0.0333935\n",
      "[106]\tvalid_0's binary_logloss: 0.0333935\n",
      "[107]\tvalid_0's binary_logloss: 0.0333935\n",
      "[108]\tvalid_0's binary_logloss: 0.0333935\n",
      "[109]\tvalid_0's binary_logloss: 0.0333935\n",
      "[110]\tvalid_0's binary_logloss: 0.0333935\n",
      "[111]\tvalid_0's binary_logloss: 0.0333935\n",
      "[112]\tvalid_0's binary_logloss: 0.0333935\n",
      "[113]\tvalid_0's binary_logloss: 0.0333935\n",
      "[114]\tvalid_0's binary_logloss: 0.0333935\n",
      "[115]\tvalid_0's binary_logloss: 0.0333935\n",
      "[116]\tvalid_0's binary_logloss: 0.0333935\n",
      "[117]\tvalid_0's binary_logloss: 0.0333935\n",
      "[118]\tvalid_0's binary_logloss: 0.0333935\n",
      "[119]\tvalid_0's binary_logloss: 0.0333935\n",
      "[120]\tvalid_0's binary_logloss: 0.0333935\n",
      "[121]\tvalid_0's binary_logloss: 0.0333935\n",
      "[122]\tvalid_0's binary_logloss: 0.0333935\n",
      "[123]\tvalid_0's binary_logloss: 0.0333935\n",
      "[124]\tvalid_0's binary_logloss: 0.0333935\n",
      "[125]\tvalid_0's binary_logloss: 0.0333935\n",
      "[126]\tvalid_0's binary_logloss: 0.0333935\n",
      "[127]\tvalid_0's binary_logloss: 0.0333935\n",
      "[128]\tvalid_0's binary_logloss: 0.0333935\n"
     ]
    },
    {
     "data": {
      "application/vnd.plotly.v1+json": {
       "config": {
        "plotlyServerURL": "https://plot.ly"
       },
       "data": [
        {
         "mode": "markers",
         "name": "Objective Value",
         "type": "scatter",
         "x": [
          0,
          1,
          2,
          3,
          4,
          5,
          6,
          7,
          8,
          9,
          10,
          11,
          12,
          13,
          14,
          15,
          16,
          17,
          18,
          19
         ],
         "y": [
          0.033465811594983165,
          0.033310783087823544,
          0.03343455702567408,
          0.033310783087823544,
          0.03342134852720442,
          0.033468105281269075,
          0.033465811594983165,
          0.03342508189547128,
          0.03354378850450742,
          0.0334610092669974,
          0.033462962749419255,
          0.033310783087823544,
          0.033393548506636686,
          0.033310783087823544,
          0.03342880048811407,
          0.033475910886838954,
          0.033393548506636686,
          0.03343519472078138,
          0.033494684554888236,
          0.033393548506636686
         ]
        },
        {
         "name": "Best Value",
         "type": "scatter",
         "x": [
          0,
          1,
          2,
          3,
          4,
          5,
          6,
          7,
          8,
          9,
          10,
          11,
          12,
          13,
          14,
          15,
          16,
          17,
          18,
          19
         ],
         "y": [
          0.033465811594983165,
          0.033310783087823544,
          0.033310783087823544,
          0.033310783087823544,
          0.033310783087823544,
          0.033310783087823544,
          0.033310783087823544,
          0.033310783087823544,
          0.033310783087823544,
          0.033310783087823544,
          0.033310783087823544,
          0.033310783087823544,
          0.033310783087823544,
          0.033310783087823544,
          0.033310783087823544,
          0.033310783087823544,
          0.033310783087823544,
          0.033310783087823544,
          0.033310783087823544,
          0.033310783087823544
         ]
        }
       ],
       "layout": {
        "template": {
         "data": {
          "bar": [
           {
            "error_x": {
             "color": "#2a3f5f"
            },
            "error_y": {
             "color": "#2a3f5f"
            },
            "marker": {
             "line": {
              "color": "#E5ECF6",
              "width": 0.5
             },
             "pattern": {
              "fillmode": "overlay",
              "size": 10,
              "solidity": 0.2
             }
            },
            "type": "bar"
           }
          ],
          "barpolar": [
           {
            "marker": {
             "line": {
              "color": "#E5ECF6",
              "width": 0.5
             },
             "pattern": {
              "fillmode": "overlay",
              "size": 10,
              "solidity": 0.2
             }
            },
            "type": "barpolar"
           }
          ],
          "carpet": [
           {
            "aaxis": {
             "endlinecolor": "#2a3f5f",
             "gridcolor": "white",
             "linecolor": "white",
             "minorgridcolor": "white",
             "startlinecolor": "#2a3f5f"
            },
            "baxis": {
             "endlinecolor": "#2a3f5f",
             "gridcolor": "white",
             "linecolor": "white",
             "minorgridcolor": "white",
             "startlinecolor": "#2a3f5f"
            },
            "type": "carpet"
           }
          ],
          "choropleth": [
           {
            "colorbar": {
             "outlinewidth": 0,
             "ticks": ""
            },
            "type": "choropleth"
           }
          ],
          "contour": [
           {
            "colorbar": {
             "outlinewidth": 0,
             "ticks": ""
            },
            "colorscale": [
             [
              0,
              "#0d0887"
             ],
             [
              0.1111111111111111,
              "#46039f"
             ],
             [
              0.2222222222222222,
              "#7201a8"
             ],
             [
              0.3333333333333333,
              "#9c179e"
             ],
             [
              0.4444444444444444,
              "#bd3786"
             ],
             [
              0.5555555555555556,
              "#d8576b"
             ],
             [
              0.6666666666666666,
              "#ed7953"
             ],
             [
              0.7777777777777778,
              "#fb9f3a"
             ],
             [
              0.8888888888888888,
              "#fdca26"
             ],
             [
              1,
              "#f0f921"
             ]
            ],
            "type": "contour"
           }
          ],
          "contourcarpet": [
           {
            "colorbar": {
             "outlinewidth": 0,
             "ticks": ""
            },
            "type": "contourcarpet"
           }
          ],
          "heatmap": [
           {
            "colorbar": {
             "outlinewidth": 0,
             "ticks": ""
            },
            "colorscale": [
             [
              0,
              "#0d0887"
             ],
             [
              0.1111111111111111,
              "#46039f"
             ],
             [
              0.2222222222222222,
              "#7201a8"
             ],
             [
              0.3333333333333333,
              "#9c179e"
             ],
             [
              0.4444444444444444,
              "#bd3786"
             ],
             [
              0.5555555555555556,
              "#d8576b"
             ],
             [
              0.6666666666666666,
              "#ed7953"
             ],
             [
              0.7777777777777778,
              "#fb9f3a"
             ],
             [
              0.8888888888888888,
              "#fdca26"
             ],
             [
              1,
              "#f0f921"
             ]
            ],
            "type": "heatmap"
           }
          ],
          "heatmapgl": [
           {
            "colorbar": {
             "outlinewidth": 0,
             "ticks": ""
            },
            "colorscale": [
             [
              0,
              "#0d0887"
             ],
             [
              0.1111111111111111,
              "#46039f"
             ],
             [
              0.2222222222222222,
              "#7201a8"
             ],
             [
              0.3333333333333333,
              "#9c179e"
             ],
             [
              0.4444444444444444,
              "#bd3786"
             ],
             [
              0.5555555555555556,
              "#d8576b"
             ],
             [
              0.6666666666666666,
              "#ed7953"
             ],
             [
              0.7777777777777778,
              "#fb9f3a"
             ],
             [
              0.8888888888888888,
              "#fdca26"
             ],
             [
              1,
              "#f0f921"
             ]
            ],
            "type": "heatmapgl"
           }
          ],
          "histogram": [
           {
            "marker": {
             "pattern": {
              "fillmode": "overlay",
              "size": 10,
              "solidity": 0.2
             }
            },
            "type": "histogram"
           }
          ],
          "histogram2d": [
           {
            "colorbar": {
             "outlinewidth": 0,
             "ticks": ""
            },
            "colorscale": [
             [
              0,
              "#0d0887"
             ],
             [
              0.1111111111111111,
              "#46039f"
             ],
             [
              0.2222222222222222,
              "#7201a8"
             ],
             [
              0.3333333333333333,
              "#9c179e"
             ],
             [
              0.4444444444444444,
              "#bd3786"
             ],
             [
              0.5555555555555556,
              "#d8576b"
             ],
             [
              0.6666666666666666,
              "#ed7953"
             ],
             [
              0.7777777777777778,
              "#fb9f3a"
             ],
             [
              0.8888888888888888,
              "#fdca26"
             ],
             [
              1,
              "#f0f921"
             ]
            ],
            "type": "histogram2d"
           }
          ],
          "histogram2dcontour": [
           {
            "colorbar": {
             "outlinewidth": 0,
             "ticks": ""
            },
            "colorscale": [
             [
              0,
              "#0d0887"
             ],
             [
              0.1111111111111111,
              "#46039f"
             ],
             [
              0.2222222222222222,
              "#7201a8"
             ],
             [
              0.3333333333333333,
              "#9c179e"
             ],
             [
              0.4444444444444444,
              "#bd3786"
             ],
             [
              0.5555555555555556,
              "#d8576b"
             ],
             [
              0.6666666666666666,
              "#ed7953"
             ],
             [
              0.7777777777777778,
              "#fb9f3a"
             ],
             [
              0.8888888888888888,
              "#fdca26"
             ],
             [
              1,
              "#f0f921"
             ]
            ],
            "type": "histogram2dcontour"
           }
          ],
          "mesh3d": [
           {
            "colorbar": {
             "outlinewidth": 0,
             "ticks": ""
            },
            "type": "mesh3d"
           }
          ],
          "parcoords": [
           {
            "line": {
             "colorbar": {
              "outlinewidth": 0,
              "ticks": ""
             }
            },
            "type": "parcoords"
           }
          ],
          "pie": [
           {
            "automargin": true,
            "type": "pie"
           }
          ],
          "scatter": [
           {
            "fillpattern": {
             "fillmode": "overlay",
             "size": 10,
             "solidity": 0.2
            },
            "type": "scatter"
           }
          ],
          "scatter3d": [
           {
            "line": {
             "colorbar": {
              "outlinewidth": 0,
              "ticks": ""
             }
            },
            "marker": {
             "colorbar": {
              "outlinewidth": 0,
              "ticks": ""
             }
            },
            "type": "scatter3d"
           }
          ],
          "scattercarpet": [
           {
            "marker": {
             "colorbar": {
              "outlinewidth": 0,
              "ticks": ""
             }
            },
            "type": "scattercarpet"
           }
          ],
          "scattergeo": [
           {
            "marker": {
             "colorbar": {
              "outlinewidth": 0,
              "ticks": ""
             }
            },
            "type": "scattergeo"
           }
          ],
          "scattergl": [
           {
            "marker": {
             "colorbar": {
              "outlinewidth": 0,
              "ticks": ""
             }
            },
            "type": "scattergl"
           }
          ],
          "scattermapbox": [
           {
            "marker": {
             "colorbar": {
              "outlinewidth": 0,
              "ticks": ""
             }
            },
            "type": "scattermapbox"
           }
          ],
          "scatterpolar": [
           {
            "marker": {
             "colorbar": {
              "outlinewidth": 0,
              "ticks": ""
             }
            },
            "type": "scatterpolar"
           }
          ],
          "scatterpolargl": [
           {
            "marker": {
             "colorbar": {
              "outlinewidth": 0,
              "ticks": ""
             }
            },
            "type": "scatterpolargl"
           }
          ],
          "scatterternary": [
           {
            "marker": {
             "colorbar": {
              "outlinewidth": 0,
              "ticks": ""
             }
            },
            "type": "scatterternary"
           }
          ],
          "surface": [
           {
            "colorbar": {
             "outlinewidth": 0,
             "ticks": ""
            },
            "colorscale": [
             [
              0,
              "#0d0887"
             ],
             [
              0.1111111111111111,
              "#46039f"
             ],
             [
              0.2222222222222222,
              "#7201a8"
             ],
             [
              0.3333333333333333,
              "#9c179e"
             ],
             [
              0.4444444444444444,
              "#bd3786"
             ],
             [
              0.5555555555555556,
              "#d8576b"
             ],
             [
              0.6666666666666666,
              "#ed7953"
             ],
             [
              0.7777777777777778,
              "#fb9f3a"
             ],
             [
              0.8888888888888888,
              "#fdca26"
             ],
             [
              1,
              "#f0f921"
             ]
            ],
            "type": "surface"
           }
          ],
          "table": [
           {
            "cells": {
             "fill": {
              "color": "#EBF0F8"
             },
             "line": {
              "color": "white"
             }
            },
            "header": {
             "fill": {
              "color": "#C8D4E3"
             },
             "line": {
              "color": "white"
             }
            },
            "type": "table"
           }
          ]
         },
         "layout": {
          "annotationdefaults": {
           "arrowcolor": "#2a3f5f",
           "arrowhead": 0,
           "arrowwidth": 1
          },
          "autotypenumbers": "strict",
          "coloraxis": {
           "colorbar": {
            "outlinewidth": 0,
            "ticks": ""
           }
          },
          "colorscale": {
           "diverging": [
            [
             0,
             "#8e0152"
            ],
            [
             0.1,
             "#c51b7d"
            ],
            [
             0.2,
             "#de77ae"
            ],
            [
             0.3,
             "#f1b6da"
            ],
            [
             0.4,
             "#fde0ef"
            ],
            [
             0.5,
             "#f7f7f7"
            ],
            [
             0.6,
             "#e6f5d0"
            ],
            [
             0.7,
             "#b8e186"
            ],
            [
             0.8,
             "#7fbc41"
            ],
            [
             0.9,
             "#4d9221"
            ],
            [
             1,
             "#276419"
            ]
           ],
           "sequential": [
            [
             0,
             "#0d0887"
            ],
            [
             0.1111111111111111,
             "#46039f"
            ],
            [
             0.2222222222222222,
             "#7201a8"
            ],
            [
             0.3333333333333333,
             "#9c179e"
            ],
            [
             0.4444444444444444,
             "#bd3786"
            ],
            [
             0.5555555555555556,
             "#d8576b"
            ],
            [
             0.6666666666666666,
             "#ed7953"
            ],
            [
             0.7777777777777778,
             "#fb9f3a"
            ],
            [
             0.8888888888888888,
             "#fdca26"
            ],
            [
             1,
             "#f0f921"
            ]
           ],
           "sequentialminus": [
            [
             0,
             "#0d0887"
            ],
            [
             0.1111111111111111,
             "#46039f"
            ],
            [
             0.2222222222222222,
             "#7201a8"
            ],
            [
             0.3333333333333333,
             "#9c179e"
            ],
            [
             0.4444444444444444,
             "#bd3786"
            ],
            [
             0.5555555555555556,
             "#d8576b"
            ],
            [
             0.6666666666666666,
             "#ed7953"
            ],
            [
             0.7777777777777778,
             "#fb9f3a"
            ],
            [
             0.8888888888888888,
             "#fdca26"
            ],
            [
             1,
             "#f0f921"
            ]
           ]
          },
          "colorway": [
           "#636efa",
           "#EF553B",
           "#00cc96",
           "#ab63fa",
           "#FFA15A",
           "#19d3f3",
           "#FF6692",
           "#B6E880",
           "#FF97FF",
           "#FECB52"
          ],
          "font": {
           "color": "#2a3f5f"
          },
          "geo": {
           "bgcolor": "white",
           "lakecolor": "white",
           "landcolor": "#E5ECF6",
           "showlakes": true,
           "showland": true,
           "subunitcolor": "white"
          },
          "hoverlabel": {
           "align": "left"
          },
          "hovermode": "closest",
          "mapbox": {
           "style": "light"
          },
          "paper_bgcolor": "white",
          "plot_bgcolor": "#E5ECF6",
          "polar": {
           "angularaxis": {
            "gridcolor": "white",
            "linecolor": "white",
            "ticks": ""
           },
           "bgcolor": "#E5ECF6",
           "radialaxis": {
            "gridcolor": "white",
            "linecolor": "white",
            "ticks": ""
           }
          },
          "scene": {
           "xaxis": {
            "backgroundcolor": "#E5ECF6",
            "gridcolor": "white",
            "gridwidth": 2,
            "linecolor": "white",
            "showbackground": true,
            "ticks": "",
            "zerolinecolor": "white"
           },
           "yaxis": {
            "backgroundcolor": "#E5ECF6",
            "gridcolor": "white",
            "gridwidth": 2,
            "linecolor": "white",
            "showbackground": true,
            "ticks": "",
            "zerolinecolor": "white"
           },
           "zaxis": {
            "backgroundcolor": "#E5ECF6",
            "gridcolor": "white",
            "gridwidth": 2,
            "linecolor": "white",
            "showbackground": true,
            "ticks": "",
            "zerolinecolor": "white"
           }
          },
          "shapedefaults": {
           "line": {
            "color": "#2a3f5f"
           }
          },
          "ternary": {
           "aaxis": {
            "gridcolor": "white",
            "linecolor": "white",
            "ticks": ""
           },
           "baxis": {
            "gridcolor": "white",
            "linecolor": "white",
            "ticks": ""
           },
           "bgcolor": "#E5ECF6",
           "caxis": {
            "gridcolor": "white",
            "linecolor": "white",
            "ticks": ""
           }
          },
          "title": {
           "x": 0.05
          },
          "xaxis": {
           "automargin": true,
           "gridcolor": "white",
           "linecolor": "white",
           "ticks": "",
           "title": {
            "standoff": 15
           },
           "zerolinecolor": "white",
           "zerolinewidth": 2
          },
          "yaxis": {
           "automargin": true,
           "gridcolor": "white",
           "linecolor": "white",
           "ticks": "",
           "title": {
            "standoff": 15
           },
           "zerolinecolor": "white",
           "zerolinewidth": 2
          }
         }
        },
        "title": {
         "text": "Optimization History Plot"
        },
        "xaxis": {
         "title": {
          "text": "Trial"
         }
        },
        "yaxis": {
         "title": {
          "text": "Objective Value"
         }
        }
       }
      }
     },
     "metadata": {},
     "output_type": "display_data"
    }
   ],
   "source": [
    "study = optuna.create_study(direction='minimize');\n",
    "study.optimize(objective, n_trials=20);\n",
    "optuna.visualization.plot_optimization_history(study)\n"
   ]
  },
  {
   "cell_type": "code",
   "execution_count": 144,
   "metadata": {},
   "outputs": [
    {
     "data": {
      "text/plain": [
       "{'max_depth': 4, 'num_leaves': 18}"
      ]
     },
     "execution_count": 144,
     "metadata": {},
     "output_type": "execute_result"
    }
   ],
   "source": [
    "study.best_trial.params"
   ]
  },
  {
   "cell_type": "code",
   "execution_count": 145,
   "metadata": {},
   "outputs": [],
   "source": [
    "params = {\n",
    "    'boosting_type':'goss',\n",
    "    'objective':'binary',\n",
    "    'metric':'binary_logloss', \n",
    "    'verbose':-10000000,\n",
    "    'seed':42,\n",
    "    'max_bin':32,\n",
    "    'n_estimators':128,\n",
    "    'learning_rate':0.1,\n",
    "    'feature_fraction':1.0,\n",
    "    'bagging_fraction':1.0,\n",
    "    'min_data_in_leaf':80,\n",
    "    'min_gain_to_split':3.0,\n",
    "}"
   ]
  },
  {
   "cell_type": "code",
   "execution_count": 146,
   "metadata": {},
   "outputs": [],
   "source": [
    "params.update(study.best_trial.params)"
   ]
  },
  {
   "cell_type": "code",
   "execution_count": 147,
   "metadata": {},
   "outputs": [
    {
     "name": "stderr",
     "output_type": "stream",
     "text": [
      "c:\\ProgramData\\Anaconda3\\lib\\site-packages\\lightgbm\\sklearn.py:726: UserWarning:\n",
      "\n",
      "'early_stopping_rounds' argument is deprecated and will be removed in a future release of LightGBM. Pass 'early_stopping()' callback via 'callbacks' argument instead.\n",
      "\n"
     ]
    },
    {
     "name": "stdout",
     "output_type": "stream",
     "text": [
      "[LightGBM] [Warning] feature_fraction is set=1.0, colsample_bytree=1.0 will be ignored. Current value: feature_fraction=1.0\n",
      "[LightGBM] [Warning] min_data_in_leaf is set=80, min_child_samples=20 will be ignored. Current value: min_data_in_leaf=80\n",
      "[LightGBM] [Warning] min_gain_to_split is set=3.0, min_split_gain=0.0 will be ignored. Current value: min_gain_to_split=3.0\n",
      "[LightGBM] [Warning] bagging_fraction is set=1.0, subsample=1.0 will be ignored. Current value: bagging_fraction=1.0\n",
      "[1]\tvalid_0's binary_logloss: 0.227333\n",
      "[2]\tvalid_0's binary_logloss: 0.192664\n",
      "[3]\tvalid_0's binary_logloss: 0.168356\n",
      "[4]\tvalid_0's binary_logloss: 0.149673\n",
      "[5]\tvalid_0's binary_logloss: 0.134517\n",
      "[6]\tvalid_0's binary_logloss: 0.121952\n",
      "[7]\tvalid_0's binary_logloss: 0.111304\n",
      "[8]\tvalid_0's binary_logloss: 0.102188\n",
      "[9]\tvalid_0's binary_logloss: 0.0943018\n",
      "[10]\tvalid_0's binary_logloss: 0.0874435\n",
      "[11]\tvalid_0's binary_logloss: 0.0814099\n",
      "[12]\tvalid_0's binary_logloss: 0.0761402\n",
      "[13]\tvalid_0's binary_logloss: 0.0714791\n",
      "[14]\tvalid_0's binary_logloss: 0.0673238\n",
      "[15]\tvalid_0's binary_logloss: 0.0636737\n",
      "[16]\tvalid_0's binary_logloss: 0.0603933\n",
      "[17]\tvalid_0's binary_logloss: 0.0574932\n",
      "[18]\tvalid_0's binary_logloss: 0.0549125\n",
      "[19]\tvalid_0's binary_logloss: 0.0526798\n",
      "[20]\tvalid_0's binary_logloss: 0.0506347\n",
      "[21]\tvalid_0's binary_logloss: 0.0488427\n",
      "[22]\tvalid_0's binary_logloss: 0.0472061\n",
      "[23]\tvalid_0's binary_logloss: 0.0458049\n",
      "[24]\tvalid_0's binary_logloss: 0.0445668\n",
      "[25]\tvalid_0's binary_logloss: 0.0433918\n",
      "[26]\tvalid_0's binary_logloss: 0.0423501\n",
      "[27]\tvalid_0's binary_logloss: 0.0414302\n",
      "[28]\tvalid_0's binary_logloss: 0.0405921\n",
      "[29]\tvalid_0's binary_logloss: 0.0398309\n",
      "[30]\tvalid_0's binary_logloss: 0.0391479\n",
      "[31]\tvalid_0's binary_logloss: 0.0384993\n",
      "[32]\tvalid_0's binary_logloss: 0.0379471\n",
      "[33]\tvalid_0's binary_logloss: 0.037439\n",
      "[34]\tvalid_0's binary_logloss: 0.0369758\n",
      "[35]\tvalid_0's binary_logloss: 0.0365869\n",
      "[36]\tvalid_0's binary_logloss: 0.0362524\n",
      "[37]\tvalid_0's binary_logloss: 0.0359376\n",
      "[38]\tvalid_0's binary_logloss: 0.0356748\n",
      "[39]\tvalid_0's binary_logloss: 0.0353869\n",
      "[40]\tvalid_0's binary_logloss: 0.0351995\n",
      "[41]\tvalid_0's binary_logloss: 0.0349822\n",
      "[42]\tvalid_0's binary_logloss: 0.0347737\n",
      "[43]\tvalid_0's binary_logloss: 0.0346432\n",
      "[44]\tvalid_0's binary_logloss: 0.0344905\n",
      "[45]\tvalid_0's binary_logloss: 0.0343442\n",
      "[46]\tvalid_0's binary_logloss: 0.0342257\n",
      "[47]\tvalid_0's binary_logloss: 0.0340982\n",
      "[48]\tvalid_0's binary_logloss: 0.0340364\n",
      "[49]\tvalid_0's binary_logloss: 0.0339576\n",
      "[50]\tvalid_0's binary_logloss: 0.033917\n",
      "[51]\tvalid_0's binary_logloss: 0.0338437\n",
      "[52]\tvalid_0's binary_logloss: 0.0338089\n",
      "[53]\tvalid_0's binary_logloss: 0.0337396\n",
      "[54]\tvalid_0's binary_logloss: 0.0336875\n",
      "[55]\tvalid_0's binary_logloss: 0.0336417\n",
      "[56]\tvalid_0's binary_logloss: 0.0335886\n",
      "[57]\tvalid_0's binary_logloss: 0.0335577\n",
      "[58]\tvalid_0's binary_logloss: 0.0335124\n",
      "[59]\tvalid_0's binary_logloss: 0.0334497\n",
      "[60]\tvalid_0's binary_logloss: 0.0334204\n",
      "[61]\tvalid_0's binary_logloss: 0.0333937\n",
      "[62]\tvalid_0's binary_logloss: 0.0333462\n",
      "[63]\tvalid_0's binary_logloss: 0.0333326\n",
      "[64]\tvalid_0's binary_logloss: 0.0332816\n",
      "[65]\tvalid_0's binary_logloss: 0.0332817\n",
      "[66]\tvalid_0's binary_logloss: 0.0332757\n",
      "[67]\tvalid_0's binary_logloss: 0.0332732\n",
      "[68]\tvalid_0's binary_logloss: 0.0332705\n",
      "[69]\tvalid_0's binary_logloss: 0.0332705\n",
      "[70]\tvalid_0's binary_logloss: 0.0332647\n",
      "[71]\tvalid_0's binary_logloss: 0.0332577\n",
      "[72]\tvalid_0's binary_logloss: 0.0332577\n",
      "[73]\tvalid_0's binary_logloss: 0.0332577\n",
      "[74]\tvalid_0's binary_logloss: 0.0332577\n",
      "[75]\tvalid_0's binary_logloss: 0.0332577\n",
      "[76]\tvalid_0's binary_logloss: 0.0332577\n",
      "[77]\tvalid_0's binary_logloss: 0.0332577\n",
      "[78]\tvalid_0's binary_logloss: 0.0332577\n",
      "[79]\tvalid_0's binary_logloss: 0.0332505\n",
      "[80]\tvalid_0's binary_logloss: 0.0332505\n",
      "[81]\tvalid_0's binary_logloss: 0.0332505\n",
      "[82]\tvalid_0's binary_logloss: 0.0332505\n",
      "[83]\tvalid_0's binary_logloss: 0.0332505\n",
      "[84]\tvalid_0's binary_logloss: 0.0332505\n",
      "[85]\tvalid_0's binary_logloss: 0.0332505\n",
      "[86]\tvalid_0's binary_logloss: 0.0332505\n",
      "[87]\tvalid_0's binary_logloss: 0.0332451\n",
      "[88]\tvalid_0's binary_logloss: 0.0332451\n",
      "[89]\tvalid_0's binary_logloss: 0.0332451\n",
      "[90]\tvalid_0's binary_logloss: 0.0332451\n",
      "[91]\tvalid_0's binary_logloss: 0.0332451\n",
      "[92]\tvalid_0's binary_logloss: 0.0332451\n",
      "[93]\tvalid_0's binary_logloss: 0.0332451\n",
      "[94]\tvalid_0's binary_logloss: 0.0332451\n",
      "[95]\tvalid_0's binary_logloss: 0.0332451\n",
      "[96]\tvalid_0's binary_logloss: 0.0332451\n",
      "[97]\tvalid_0's binary_logloss: 0.0332451\n",
      "[98]\tvalid_0's binary_logloss: 0.0332451\n",
      "[99]\tvalid_0's binary_logloss: 0.0332451\n",
      "[100]\tvalid_0's binary_logloss: 0.0332451\n",
      "[101]\tvalid_0's binary_logloss: 0.0332451\n",
      "[102]\tvalid_0's binary_logloss: 0.0332451\n",
      "[103]\tvalid_0's binary_logloss: 0.0332451\n",
      "[104]\tvalid_0's binary_logloss: 0.0332451\n",
      "[105]\tvalid_0's binary_logloss: 0.0332451\n",
      "[106]\tvalid_0's binary_logloss: 0.0332451\n",
      "[107]\tvalid_0's binary_logloss: 0.0332451\n",
      "[108]\tvalid_0's binary_logloss: 0.0332432\n",
      "[109]\tvalid_0's binary_logloss: 0.0332432\n",
      "[110]\tvalid_0's binary_logloss: 0.0332432\n",
      "[111]\tvalid_0's binary_logloss: 0.0332432\n",
      "[112]\tvalid_0's binary_logloss: 0.0332432\n",
      "[113]\tvalid_0's binary_logloss: 0.0332432\n",
      "[114]\tvalid_0's binary_logloss: 0.0332432\n",
      "[115]\tvalid_0's binary_logloss: 0.0332432\n",
      "[116]\tvalid_0's binary_logloss: 0.0332432\n",
      "[117]\tvalid_0's binary_logloss: 0.0332432\n",
      "[118]\tvalid_0's binary_logloss: 0.0332432\n",
      "[119]\tvalid_0's binary_logloss: 0.0332414\n",
      "[120]\tvalid_0's binary_logloss: 0.0332414\n",
      "[121]\tvalid_0's binary_logloss: 0.0332346\n",
      "[122]\tvalid_0's binary_logloss: 0.0332346\n",
      "[123]\tvalid_0's binary_logloss: 0.0332346\n",
      "[124]\tvalid_0's binary_logloss: 0.0332346\n",
      "[125]\tvalid_0's binary_logloss: 0.0332346\n",
      "[126]\tvalid_0's binary_logloss: 0.0332346\n",
      "[127]\tvalid_0's binary_logloss: 0.0332346\n",
      "[128]\tvalid_0's binary_logloss: 0.0332346\n"
     ]
    },
    {
     "data": {
      "text/plain": [
       "LGBMClassifier(bagging_fraction=1.0, boosting_type='goss', feature_fraction=1.0,\n",
       "               max_bin=32, max_depth=4, metric='binary_logloss',\n",
       "               min_data_in_leaf=80, min_gain_to_split=3.0, n_estimators=128,\n",
       "               num_leaves=18, objective='binary', seed=42, verbose=-10000000)"
      ]
     },
     "execution_count": 147,
     "metadata": {},
     "output_type": "execute_result"
    }
   ],
   "source": [
    "tuned_model = lgb.LGBMClassifier(**params)\n",
    "tuned_model.fit(X_train, y_train, \n",
    "        eval_set=[(X_val, y_val)],\n",
    "        eval_metric=['binary_logloss'],\n",
    "        early_stopping_rounds=100) "
   ]
  },
  {
   "cell_type": "code",
   "execution_count": 148,
   "metadata": {},
   "outputs": [],
   "source": [
    "preds = tuned_model.predict_proba(X_test)"
   ]
  },
  {
   "cell_type": "code",
   "execution_count": 149,
   "metadata": {},
   "outputs": [
    {
     "data": {
      "text/plain": [
       "0.03567464847571605"
      ]
     },
     "execution_count": 149,
     "metadata": {},
     "output_type": "execute_result"
    }
   ],
   "source": [
    "testloss = log_loss(y_test, preds)\n",
    "testloss"
   ]
  },
  {
   "cell_type": "code",
   "execution_count": 150,
   "metadata": {},
   "outputs": [
    {
     "data": {
      "text/plain": [
       "0.03338561169420938"
      ]
     },
     "execution_count": 150,
     "metadata": {},
     "output_type": "execute_result"
    }
   ],
   "source": [
    "train_preds = tuned_model.predict_proba(X_train)\n",
    "trainloss = log_loss(y_train, train_preds)\n",
    "trainloss"
   ]
  },
  {
   "cell_type": "code",
   "execution_count": 151,
   "metadata": {},
   "outputs": [],
   "source": [
    "# read the real test data from test.csv\n",
    "test_data = pd.read_csv(\"test.csv\")"
   ]
  },
  {
   "cell_type": "code",
   "execution_count": 62,
   "metadata": {},
   "outputs": [],
   "source": [
    "X_testtest = test_data.drop(['id'], axis=1)\n",
    "ID_test = test_data.id"
   ]
  },
  {
   "cell_type": "code",
   "execution_count": 63,
   "metadata": {},
   "outputs": [],
   "source": [
    "preds = tuned_model.predict_proba(X_testtest)"
   ]
  },
  {
   "cell_type": "code",
   "execution_count": 64,
   "metadata": {},
   "outputs": [
    {
     "data": {
      "text/plain": [
       "array([[9.99958735e-01, 4.12650535e-05],\n",
       "       [9.98886839e-01, 1.11316119e-03],\n",
       "       [9.99967033e-01, 3.29674258e-05],\n",
       "       ...,\n",
       "       [9.99862573e-01, 1.37426641e-04],\n",
       "       [9.58702478e-01, 4.12975224e-02],\n",
       "       [1.09207797e-02, 9.89079220e-01]])"
      ]
     },
     "execution_count": 64,
     "metadata": {},
     "output_type": "execute_result"
    }
   ],
   "source": [
    "preds"
   ]
  },
  {
   "cell_type": "code",
   "execution_count": 65,
   "metadata": {},
   "outputs": [],
   "source": [
    "preds=  preds[:,1]"
   ]
  },
  {
   "cell_type": "code",
   "execution_count": 66,
   "metadata": {},
   "outputs": [
    {
     "data": {
      "text/plain": [
       "array([4.12650535e-05, 1.11316119e-03, 3.29674258e-05, ...,\n",
       "       1.37426641e-04, 4.12975224e-02, 9.89079220e-01])"
      ]
     },
     "execution_count": 66,
     "metadata": {},
     "output_type": "execute_result"
    }
   ],
   "source": [
    "preds"
   ]
  },
  {
   "cell_type": "code",
   "execution_count": 67,
   "metadata": {},
   "outputs": [],
   "source": [
    "# Save test predictions to file\n",
    "submission = pd.DataFrame({'id': ID_test,\n",
    "                       'Class': preds})\n",
    "submission.to_csv('submission_optuna_lgbm.csv', index=False)"
   ]
  },
  {
   "cell_type": "code",
   "execution_count": null,
   "metadata": {},
   "outputs": [],
   "source": []
  }
 ],
 "metadata": {
  "kernelspec": {
   "display_name": "base",
   "language": "python",
   "name": "python3"
  },
  "language_info": {
   "codemirror_mode": {
    "name": "ipython",
    "version": 3
   },
   "file_extension": ".py",
   "mimetype": "text/x-python",
   "name": "python",
   "nbconvert_exporter": "python",
   "pygments_lexer": "ipython3",
   "version": "3.7.3"
  },
  "orig_nbformat": 4
 },
 "nbformat": 4,
 "nbformat_minor": 2
}
